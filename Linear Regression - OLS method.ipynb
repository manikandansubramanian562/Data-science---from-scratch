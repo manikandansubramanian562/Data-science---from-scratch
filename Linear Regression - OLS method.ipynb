{
 "cells": [
  {
   "cell_type": "markdown",
   "metadata": {},
   "source": [
    "Linear regression - OLS method"
   ]
  },
  {
   "cell_type": "code",
   "execution_count": null,
   "metadata": {},
   "outputs": [],
   "source": [
    "import numpy as np\n",
    "import pandas as pd\n",
    "import matplotlib.pyplot as plt\n",
    "import math"
   ]
  },
  {
   "cell_type": "code",
   "execution_count": 2,
   "metadata": {},
   "outputs": [],
   "source": [
    "data = pd.read_csv(\"Salary_Data.csv\")"
   ]
  },
  {
   "cell_type": "code",
   "execution_count": 3,
   "metadata": {},
   "outputs": [],
   "source": [
    "X = data.iloc[:,0]\n",
    "Y = data.iloc[:,-1]"
   ]
  },
  {
   "cell_type": "code",
   "execution_count": 4,
   "metadata": {},
   "outputs": [],
   "source": [
    "X_mean = np.mean(X)\n",
    "Y_mean = np.mean(Y)"
   ]
  },
  {
   "cell_type": "code",
   "execution_count": 5,
   "metadata": {},
   "outputs": [
    {
     "name": "stdout",
     "output_type": "stream",
     "text": [
      "9449.962321455077 25792.20019866869\n"
     ]
    }
   ],
   "source": [
    "#Building the model\n",
    "numerator = 0\n",
    "denominator = 0\n",
    "for i in range(len(X)):\n",
    "    numerator += (X[i]-X_mean)*(Y[i]-Y_mean)\n",
    "    denominator += (X[i]-X_mean)**2\n",
    "m = numerator/denominator\n",
    "c = Y_mean - m*X_mean\n",
    "print(m,c)\n"
   ]
  },
  {
   "cell_type": "code",
   "execution_count": 6,
   "metadata": {},
   "outputs": [
    {
     "name": "stdout",
     "output_type": "stream",
     "text": [
      "0      36187.158752\n",
      "1      38077.151217\n",
      "2      39967.143681\n",
      "3      44692.124842\n",
      "4      46582.117306\n",
      "5      53197.090931\n",
      "6      54142.087163\n",
      "7      56032.079627\n",
      "8      56032.079627\n",
      "9      60757.060788\n",
      "10     62647.053252\n",
      "11     63592.049484\n",
      "12     63592.049484\n",
      "13     64537.045717\n",
      "14     68317.030645\n",
      "15     72097.015574\n",
      "16     73987.008038\n",
      "17     75877.000502\n",
      "18     81546.977895\n",
      "19     82491.974127\n",
      "20     90051.943985\n",
      "21     92886.932681\n",
      "22    100446.902538\n",
      "23    103281.891235\n",
      "24    108006.872395\n",
      "25    110841.861092\n",
      "26    115566.842252\n",
      "27    116511.838485\n",
      "28    123126.812110\n",
      "29    125016.804574\n",
      "Name: YearsExperience, dtype: float64\n"
     ]
    }
   ],
   "source": [
    "#Y_predicted\n",
    "Y_pred = m*X+c\n",
    "print(Y_pred)"
   ]
  },
  {
   "cell_type": "code",
   "execution_count": 7,
   "metadata": {},
   "outputs": [
    {
     "data": {
      "image/png": "[encoded data removed]",
      "text/plain": [
       "<Figure size 432x288 with 1 Axes>"
      ]
     },
     "metadata": {
      "needs_background": "light"
     },
     "output_type": "display_data"
    }
   ],
   "source": [
    "#Visualizing the regression model\n",
    "plt.scatter(X,Y,color=\"red\")\n",
    "plt.plot(X,Y_pred,color=\"green\")\n",
    "plt.xlabel(\"Years of experience\")\n",
    "plt.ylabel(\"Salary\")\n",
    "plt.show()"
   ]
  },
  {
   "cell_type": "code",
   "execution_count": 10,
   "metadata": {},
   "outputs": [
    {
     "name": "stdout",
     "output_type": "stream",
     "text": [
      "5592.043608760662\n"
     ]
    }
   ],
   "source": [
    "#Root mean square error\n",
    "rmse = 0\n",
    "for i in range(len(X)):\n",
    "    Y_pred = m*X[i]+c\n",
    "    rmse += (Y[i]-Y_pred)**2\n",
    "rmse = np.sqrt(rmse/len(X))\n",
    "print(rmse)"
   ]
  },
  {
   "cell_type": "code",
   "execution_count": 11,
   "metadata": {},
   "outputs": [
    {
     "name": "stdout",
     "output_type": "stream",
     "text": [
      "0.9569566641435086\n"
     ]
    }
   ],
   "source": [
    "#R squared value(coefficient of determination)\n",
    "ssr = 0\n",
    "sst = 0\n",
    "for i in range(len(X)):\n",
    "    Y_pred = m*X[i]+c\n",
    "    ssr += (Y[i]-Y_pred)**2\n",
    "    sst += (Y[i]-Y_mean)**2\n",
    "R_squared = 1-(ssr/sst)\n",
    "print(R_squared)"
   ]
  },
  {
   "cell_type": "code",
   "execution_count": null,
   "metadata": {},
   "outputs": [],
   "source": []
  }
 ],
 "metadata": {
  "kernelspec": {
   "display_name": "Python 3",
   "language": "python",
   "name": "python3"
  },
  "language_info": {
   "codemirror_mode": {
    "name": "ipython",
    "version": 3
   },
   "file_extension": ".py",
   "mimetype": "text/x-python",
   "name": "python",
   "nbconvert_exporter": "python",
   "pygments_lexer": "ipython3",
   "version": "3.7.3"
  }
 },
 "nbformat": 4,
 "nbformat_minor": 2
}
