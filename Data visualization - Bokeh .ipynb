{
 "cells": [
  {
   "cell_type": "markdown",
   "metadata": {},
   "source": [
    "DATA VISUALIZATION - BOKEH"
   ]
  },
  {
   "cell_type": "code",
   "execution_count": null,
   "metadata": {},
   "outputs": [],
   "source": [
    "import bokeh\n",
    "#output notebook , output_file\n",
    "from bokeh.io import output_notebook,show\n",
    "from bokeh.plotting import figure"
   ]
  },
  {
   "cell_type": "code",
   "execution_count": 40,
   "metadata": {},
   "outputs": [
    {
     "data": {
      "text/html": [
       "\n",
       "    <div class=\"bk-root\">\n",
       "        <a href=\"https://bokeh.pydata.org\" target=\"_blank\" class=\"bk-logo bk-logo-small bk-logo-notebook\"></a>\n",
       "        <span id=\"4080\">Loading BokehJS ...</span>\n",
       "    </div>"
      ]
     },
     "metadata": {},
     "output_type": "display_data"
    },
    {
     "data": {
      "application/javascript": [
       "\n",
       "(function(root) {\n",
       "  function now() {\n",
       "    return new Date();\n",
       "  }\n",
       "\n",
       "  var force = true;\n",
       "\n",
       "  if (typeof (root._bokeh_onload_callbacks) === \"undefined\" || force === true) {\n",
       "    root._bokeh_onload_callbacks = [];\n",
       "    root._bokeh_is_loading = undefined;\n",
       "  }\n",
       "\n",
       "  var JS_MIME_TYPE = 'application/javascript';\n",
       "  var HTML_MIME_TYPE = 'text/html';\n",
       "  var EXEC_MIME_TYPE = 'application/vnd.bokehjs_exec.v0+json';\n",
       "  var CLASS_NAME = 'output_bokeh rendered_html';\n",
       "\n",
       "  /**\n",
       "   * Render data to the DOM node\n",
       "   */\n",
       "  function render(props, node) {\n",
       "    var script = document.createElement(\"script\");\n",
       "    node.appendChild(script);\n",
       "  }\n",
       "\n",
       "  /**\n",
       "   * Handle when an output is cleared or removed\n",
       "   */\n",
       "  function handleClearOutput(event, handle) {\n",
       "    var cell = handle.cell;\n",
       "\n",
       "    var id = cell.output_area._bokeh_element_id;\n",
       "    var server_id = cell.output_area._bokeh_server_id;\n",
       "    // Clean up Bokeh references\n",
       "    if (id != null && id in Bokeh.index) {\n",
       "      Bokeh.index[id].model.document.clear();\n",
       "      delete Bokeh.index[id];\n",
       "    }\n",
       "\n",
       "    if (server_id !== undefined) {\n",
       "      // Clean up Bokeh references\n",
       "      var cmd = \"from bokeh.io.state import curstate; print(curstate().uuid_to_server['\" + server_id + \"'].get_sessions()[0].document.roots[0]._id)\";\n",
       "      cell.notebook.kernel.execute(cmd, {\n",
       "        iopub: {\n",
       "          output: function(msg) {\n",
       "            var id = msg.content.text.trim();\n",
       "            if (id in Bokeh.index) {\n",
       "              Bokeh.index[id].model.document.clear();\n",
       "              delete Bokeh.index[id];\n",
       "            }\n",
       "          }\n",
       "        }\n",
       "      });\n",
       "      // Destroy server and session\n",
       "      var cmd = \"import bokeh.io.notebook as ion; ion.destroy_server('\" + server_id + \"')\";\n",
       "      cell.notebook.kernel.execute(cmd);\n",
       "    }\n",
       "  }\n",
       "\n",
       "  /**\n",
       "   * Handle when a new output is added\n",
       "   */\n",
       "  function handleAddOutput(event, handle) {\n",
       "    var output_area = handle.output_area;\n",
       "    var output = handle.output;\n",
       "\n",
       "    // limit handleAddOutput to display_data with EXEC_MIME_TYPE content only\n",
       "    if ((output.output_type != \"display_data\") || (!output.data.hasOwnProperty(EXEC_MIME_TYPE))) {\n",
       "      return\n",
       "    }\n",
       "\n",
       "    var toinsert = output_area.element.find(\".\" + CLASS_NAME.split(' ')[0]);\n",
       "\n",
       "    if (output.metadata[EXEC_MIME_TYPE][\"id\"] !== undefined) {\n",
       "      toinsert[toinsert.length - 1].firstChild.textContent = output.data[JS_MIME_TYPE];\n",
       "      // store reference to embed id on output_area\n",
       "      output_area._bokeh_element_id = output.metadata[EXEC_MIME_TYPE][\"id\"];\n",
       "    }\n",
       "    if (output.metadata[EXEC_MIME_TYPE][\"server_id\"] !== undefined) {\n",
       "      var bk_div = document.createElement(\"div\");\n",
       "      bk_div.innerHTML = output.data[HTML_MIME_TYPE];\n",
       "      var script_attrs = bk_div.children[0].attributes;\n",
       "      for (var i = 0; i < script_attrs.length; i++) {\n",
       "        toinsert[toinsert.length - 1].firstChild.setAttribute(script_attrs[i].name, script_attrs[i].value);\n",
       "      }\n",
       "      // store reference to server id on output_area\n",
       "      output_area._bokeh_server_id = output.metadata[EXEC_MIME_TYPE][\"server_id\"];\n",
       "    }\n",
       "  }\n",
       "\n",
       "  function register_renderer(events, OutputArea) {\n",
       "\n",
       "    function append_mime(data, metadata, element) {\n",
       "      // create a DOM node to render to\n",
       "      var toinsert = this.create_output_subarea(\n",
       "        metadata,\n",
       "        CLASS_NAME,\n",
       "        EXEC_MIME_TYPE\n",
       "      );\n",
       "      this.keyboard_manager.register_events(toinsert);\n",
       "      // Render to node\n",
       "      var props = {data: data, metadata: metadata[EXEC_MIME_TYPE]};\n",
       "      render(props, toinsert[toinsert.length - 1]);\n",
       "      element.append(toinsert);\n",
       "      return toinsert\n",
       "    }\n",
       "\n",
       "    /* Handle when an output is cleared or removed */\n",
       "    events.on('clear_output.CodeCell', handleClearOutput);\n",
       "    events.on('delete.Cell', handleClearOutput);\n",
       "\n",
       "    /* Handle when a new output is added */\n",
       "    events.on('output_added.OutputArea', handleAddOutput);\n",
       "\n",
       "    /**\n",
       "     * Register the mime type and append_mime function with output_area\n",
       "     */\n",
       "    OutputArea.prototype.register_mime_type(EXEC_MIME_TYPE, append_mime, {\n",
       "      /* Is output safe? */\n",
       "      safe: true,\n",
       "      /* Index of renderer in `output_area.display_order` */\n",
       "      index: 0\n",
       "    });\n",
       "  }\n",
       "\n",
       "  // register the mime type if in Jupyter Notebook environment and previously unregistered\n",
       "  if (root.Jupyter !== undefined) {\n",
       "    var events = require('base/js/events');\n",
       "    var OutputArea = require('notebook/js/outputarea').OutputArea;\n",
       "\n",
       "    if (OutputArea.prototype.mime_types().indexOf(EXEC_MIME_TYPE) == -1) {\n",
       "      register_renderer(events, OutputArea);\n",
       "    }\n",
       "  }\n",
       "\n",
       "  \n",
       "  if (typeof (root._bokeh_timeout) === \"undefined\" || force === true) {\n",
       "    root._bokeh_timeout = Date.now() + 5000;\n",
       "    root._bokeh_failed_load = false;\n",
       "  }\n",
       "\n",
       "  var NB_LOAD_WARNING = {'data': {'text/html':\n",
       "     \"<div style='background-color: #fdd'>\\n\"+\n",
       "     \"<p>\\n\"+\n",
       "     \"BokehJS does not appear to have successfully loaded. If loading BokehJS from CDN, this \\n\"+\n",
       "     \"may be due to a slow or bad network connection. Possible fixes:\\n\"+\n",
       "     \"</p>\\n\"+\n",
       "     \"<ul>\\n\"+\n",
       "     \"<li>re-rerun `output_notebook()` to attempt to load from CDN again, or</li>\\n\"+\n",
       "     \"<li>use INLINE resources instead, as so:</li>\\n\"+\n",
       "     \"</ul>\\n\"+\n",
       "     \"<code>\\n\"+\n",
       "     \"from bokeh.resources import INLINE\\n\"+\n",
       "     \"output_notebook(resources=INLINE)\\n\"+\n",
       "     \"</code>\\n\"+\n",
       "     \"</div>\"}};\n",
       "\n",
       "  function display_loaded() {\n",
       "    var el = document.getElementById(\"4080\");\n",
       "    if (el != null) {\n",
       "      el.textContent = \"BokehJS is loading...\";\n",
       "    }\n",
       "    if (root.Bokeh !== undefined) {\n",
       "      if (el != null) {\n",
       "        el.textContent = \"BokehJS \" + root.Bokeh.version + \" successfully loaded.\";\n",
       "      }\n",
       "    } else if (Date.now() < root._bokeh_timeout) {\n",
       "      setTimeout(display_loaded, 100)\n",
       "    }\n",
       "  }\n",
       "\n",
       "\n",
       "  function run_callbacks() {\n",
       "    try {\n",
       "      root._bokeh_onload_callbacks.forEach(function(callback) { callback() });\n",
       "    }\n",
       "    finally {\n",
       "      delete root._bokeh_onload_callbacks\n",
       "    }\n",
       "    console.info(\"Bokeh: all callbacks have finished\");\n",
       "  }\n",
       "\n",
       "  function load_libs(js_urls, callback) {\n",
       "    root._bokeh_onload_callbacks.push(callback);\n",
       "    if (root._bokeh_is_loading > 0) {\n",
       "      console.log(\"Bokeh: BokehJS is being loaded, scheduling callback at\", now());\n",
       "      return null;\n",
       "    }\n",
       "    if (js_urls == null || js_urls.length === 0) {\n",
       "      run_callbacks();\n",
       "      return null;\n",
       "    }\n",
       "    console.log(\"Bokeh: BokehJS not loaded, scheduling load and callback at\", now());\n",
       "    root._bokeh_is_loading = js_urls.length;\n",
       "    for (var i = 0; i < js_urls.length; i++) {\n",
       "      var url = js_urls[i];\n",
       "      var s = document.createElement('script');\n",
       "      s.src = url;\n",
       "      s.async = false;\n",
       "      s.onreadystatechange = s.onload = function() {\n",
       "        root._bokeh_is_loading--;\n",
       "        if (root._bokeh_is_loading === 0) {\n",
       "          console.log(\"Bokeh: all BokehJS libraries loaded\");\n",
       "          run_callbacks()\n",
       "        }\n",
       "      };\n",
       "      s.onerror = function() {\n",
       "        console.warn(\"failed to load library \" + url);\n",
       "      };\n",
       "      console.log(\"Bokeh: injecting script tag for BokehJS library: \", url);\n",
       "      document.getElementsByTagName(\"head\")[0].appendChild(s);\n",
       "    }\n",
       "  };var element = document.getElementById(\"4080\");\n",
       "  if (element == null) {\n",
       "    console.log(\"Bokeh: ERROR: autoload.js configured with elementid '4080' but no matching script tag was found. \")\n",
       "    return false;\n",
       "  }\n",
       "\n",
       "  var js_urls = [\"https://cdn.pydata.org/bokeh/release/bokeh-1.0.4.min.js\", \"https://cdn.pydata.org/bokeh/release/bokeh-widgets-1.0.4.min.js\", \"https://cdn.pydata.org/bokeh/release/bokeh-tables-1.0.4.min.js\", \"https://cdn.pydata.org/bokeh/release/bokeh-gl-1.0.4.min.js\"];\n",
       "\n",
       "  var inline_js = [\n",
       "    function(Bokeh) {\n",
       "      Bokeh.set_log_level(\"info\");\n",
       "    },\n",
       "    \n",
       "    function(Bokeh) {\n",
       "      \n",
       "    },\n",
       "    function(Bokeh) {\n",
       "      console.log(\"Bokeh: injecting CSS: https://cdn.pydata.org/bokeh/release/bokeh-1.0.4.min.css\");\n",
       "      Bokeh.embed.inject_css(\"https://cdn.pydata.org/bokeh/release/bokeh-1.0.4.min.css\");\n",
       "      console.log(\"Bokeh: injecting CSS: https://cdn.pydata.org/bokeh/release/bokeh-widgets-1.0.4.min.css\");\n",
       "      Bokeh.embed.inject_css(\"https://cdn.pydata.org/bokeh/release/bokeh-widgets-1.0.4.min.css\");\n",
       "      console.log(\"Bokeh: injecting CSS: https://cdn.pydata.org/bokeh/release/bokeh-tables-1.0.4.min.css\");\n",
       "      Bokeh.embed.inject_css(\"https://cdn.pydata.org/bokeh/release/bokeh-tables-1.0.4.min.css\");\n",
       "    }\n",
       "  ];\n",
       "\n",
       "  function run_inline_js() {\n",
       "    \n",
       "    if ((root.Bokeh !== undefined) || (force === true)) {\n",
       "      for (var i = 0; i < inline_js.length; i++) {\n",
       "        inline_js[i].call(root, root.Bokeh);\n",
       "      }if (force === true) {\n",
       "        display_loaded();\n",
       "      }} else if (Date.now() < root._bokeh_timeout) {\n",
       "      setTimeout(run_inline_js, 100);\n",
       "    } else if (!root._bokeh_failed_load) {\n",
       "      console.log(\"Bokeh: BokehJS failed to load within specified timeout.\");\n",
       "      root._bokeh_failed_load = true;\n",
       "    } else if (force !== true) {\n",
       "      var cell = $(document.getElementById(\"4080\")).parents('.cell').data().cell;\n",
       "      cell.output_area.append_execute_result(NB_LOAD_WARNING)\n",
       "    }\n",
       "\n",
       "  }\n",
       "\n",
       "  if (root._bokeh_is_loading === 0) {\n",
       "    console.log(\"Bokeh: BokehJS loaded, going straight to plotting\");\n",
       "    run_inline_js();\n",
       "  } else {\n",
       "    load_libs(js_urls, function() {\n",
       "      console.log(\"Bokeh: BokehJS plotting callback run at\", now());\n",
       "      run_inline_js();\n",
       "    });\n",
       "  }\n",
       "}(window));"
      ],
      "application/vnd.bokehjs_load.v0+json": "\n(function(root) {\n  function now() {\n    return new Date();\n  }\n\n  var force = true;\n\n  if (typeof (root._bokeh_onload_callbacks) === \"undefined\" || force === true) {\n    root._bokeh_onload_callbacks = [];\n    root._bokeh_is_loading = undefined;\n  }\n\n  \n\n  \n  if (typeof (root._bokeh_timeout) === \"undefined\" || force === true) {\n    root._bokeh_timeout = Date.now() + 5000;\n    root._bokeh_failed_load = false;\n  }\n\n  var NB_LOAD_WARNING = {'data': {'text/html':\n     \"<div style='background-color: #fdd'>\\n\"+\n     \"<p>\\n\"+\n     \"BokehJS does not appear to have successfully loaded. If loading BokehJS from CDN, this \\n\"+\n     \"may be due to a slow or bad network connection. Possible fixes:\\n\"+\n     \"</p>\\n\"+\n     \"<ul>\\n\"+\n     \"<li>re-rerun `output_notebook()` to attempt to load from CDN again, or</li>\\n\"+\n     \"<li>use INLINE resources instead, as so:</li>\\n\"+\n     \"</ul>\\n\"+\n     \"<code>\\n\"+\n     \"from bokeh.resources import INLINE\\n\"+\n     \"output_notebook(resources=INLINE)\\n\"+\n     \"</code>\\n\"+\n     \"</div>\"}};\n\n  function display_loaded() {\n    var el = document.getElementById(\"4080\");\n    if (el != null) {\n      el.textContent = \"BokehJS is loading...\";\n    }\n    if (root.Bokeh !== undefined) {\n      if (el != null) {\n        el.textContent = \"BokehJS \" + root.Bokeh.version + \" successfully loaded.\";\n      }\n    } else if (Date.now() < root._bokeh_timeout) {\n      setTimeout(display_loaded, 100)\n    }\n  }\n\n\n  function run_callbacks() {\n    try {\n      root._bokeh_onload_callbacks.forEach(function(callback) { callback() });\n    }\n    finally {\n      delete root._bokeh_onload_callbacks\n    }\n    console.info(\"Bokeh: all callbacks have finished\");\n  }\n\n  function load_libs(js_urls, callback) {\n    root._bokeh_onload_callbacks.push(callback);\n    if (root._bokeh_is_loading > 0) {\n      console.log(\"Bokeh: BokehJS is being loaded, scheduling callback at\", now());\n      return null;\n    }\n    if (js_urls == null || js_urls.length === 0) {\n      run_callbacks();\n      return null;\n    }\n    console.log(\"Bokeh: BokehJS not loaded, scheduling load and callback at\", now());\n    root._bokeh_is_loading = js_urls.length;\n    for (var i = 0; i < js_urls.length; i++) {\n      var url = js_urls[i];\n      var s = document.createElement('script');\n      s.src = url;\n      s.async = false;\n      s.onreadystatechange = s.onload = function() {\n        root._bokeh_is_loading--;\n        if (root._bokeh_is_loading === 0) {\n          console.log(\"Bokeh: all BokehJS libraries loaded\");\n          run_callbacks()\n        }\n      };\n      s.onerror = function() {\n        console.warn(\"failed to load library \" + url);\n      };\n      console.log(\"Bokeh: injecting script tag for BokehJS library: \", url);\n      document.getElementsByTagName(\"head\")[0].appendChild(s);\n    }\n  };var element = document.getElementById(\"4080\");\n  if (element == null) {\n    console.log(\"Bokeh: ERROR: autoload.js configured with elementid '4080' but no matching script tag was found. \")\n    return false;\n  }\n\n  var js_urls = [\"https://cdn.pydata.org/bokeh/release/bokeh-1.0.4.min.js\", \"https://cdn.pydata.org/bokeh/release/bokeh-widgets-1.0.4.min.js\", \"https://cdn.pydata.org/bokeh/release/bokeh-tables-1.0.4.min.js\", \"https://cdn.pydata.org/bokeh/release/bokeh-gl-1.0.4.min.js\"];\n\n  var inline_js = [\n    function(Bokeh) {\n      Bokeh.set_log_level(\"info\");\n    },\n    \n    function(Bokeh) {\n      \n    },\n    function(Bokeh) {\n      console.log(\"Bokeh: injecting CSS: https://cdn.pydata.org/bokeh/release/bokeh-1.0.4.min.css\");\n      Bokeh.embed.inject_css(\"https://cdn.pydata.org/bokeh/release/bokeh-1.0.4.min.css\");\n      console.log(\"Bokeh: injecting CSS: https://cdn.pydata.org/bokeh/release/bokeh-widgets-1.0.4.min.css\");\n      Bokeh.embed.inject_css(\"https://cdn.pydata.org/bokeh/release/bokeh-widgets-1.0.4.min.css\");\n      console.log(\"Bokeh: injecting CSS: https://cdn.pydata.org/bokeh/release/bokeh-tables-1.0.4.min.css\");\n      Bokeh.embed.inject_css(\"https://cdn.pydata.org/bokeh/release/bokeh-tables-1.0.4.min.css\");\n    }\n  ];\n\n  function run_inline_js() {\n    \n    if ((root.Bokeh !== undefined) || (force === true)) {\n      for (var i = 0; i < inline_js.length; i++) {\n        inline_js[i].call(root, root.Bokeh);\n      }if (force === true) {\n        display_loaded();\n      }} else if (Date.now() < root._bokeh_timeout) {\n      setTimeout(run_inline_js, 100);\n    } else if (!root._bokeh_failed_load) {\n      console.log(\"Bokeh: BokehJS failed to load within specified timeout.\");\n      root._bokeh_failed_load = true;\n    } else if (force !== true) {\n      var cell = $(document.getElementById(\"4080\")).parents('.cell').data().cell;\n      cell.output_area.append_execute_result(NB_LOAD_WARNING)\n    }\n\n  }\n\n  if (root._bokeh_is_loading === 0) {\n    console.log(\"Bokeh: BokehJS loaded, going straight to plotting\");\n    run_inline_js();\n  } else {\n    load_libs(js_urls, function() {\n      console.log(\"Bokeh: BokehJS plotting callback run at\", now());\n      run_inline_js();\n    });\n  }\n}(window));"
     },
     "metadata": {},
     "output_type": "display_data"
    }
   ],
   "source": [
    "output_notebook()"
   ]
  },
  {
   "cell_type": "code",
   "execution_count": 11,
   "metadata": {},
   "outputs": [],
   "source": [
    "p = figure(plot_width = 400, plot_height = 400)"
   ]
  },
  {
   "cell_type": "code",
   "execution_count": 12,
   "metadata": {},
   "outputs": [
    {
     "data": {
      "text/html": [
       "\n",
       "\n",
       "\n",
       "\n",
       "\n",
       "\n",
       "  <div class=\"bk-root\" id=\"f35b53e6-7ed7-4cbe-80f7-68b87d8c245c\" data-root-id=\"1464\"></div>\n"
      ]
     },
     "metadata": {},
     "output_type": "display_data"
    },
    {
     "data": {
      "application/javascript": [
       "(function(root) {\n",
       "  function embed_document(root) {\n",
       "    \n",
       "  var docs_json = {\"62167927-ebdd-4f80-93e5-f81580c7a6b9\":{\"roots\":{\"references\":[{\"attributes\":{\"below\":[{\"id\":\"1473\",\"type\":\"LinearAxis\"}],\"left\":[{\"id\":\"1478\",\"type\":\"LinearAxis\"}],\"plot_height\":400,\"plot_width\":400,\"renderers\":[{\"id\":\"1473\",\"type\":\"LinearAxis\"},{\"id\":\"1477\",\"type\":\"Grid\"},{\"id\":\"1478\",\"type\":\"LinearAxis\"},{\"id\":\"1482\",\"type\":\"Grid\"},{\"id\":\"1491\",\"type\":\"BoxAnnotation\"},{\"id\":\"1501\",\"type\":\"GlyphRenderer\"}],\"title\":{\"id\":\"1540\",\"type\":\"Title\"},\"toolbar\":{\"id\":\"1489\",\"type\":\"Toolbar\"},\"x_range\":{\"id\":\"1465\",\"type\":\"DataRange1d\"},\"x_scale\":{\"id\":\"1469\",\"type\":\"LinearScale\"},\"y_range\":{\"id\":\"1467\",\"type\":\"DataRange1d\"},\"y_scale\":{\"id\":\"1471\",\"type\":\"LinearScale\"}},\"id\":\"1464\",\"subtype\":\"Figure\",\"type\":\"Plot\"},{\"attributes\":{\"formatter\":{\"id\":\"1542\",\"type\":\"BasicTickFormatter\"},\"plot\":{\"id\":\"1464\",\"subtype\":\"Figure\",\"type\":\"Plot\"},\"ticker\":{\"id\":\"1474\",\"type\":\"BasicTicker\"}},\"id\":\"1473\",\"type\":\"LinearAxis\"},{\"attributes\":{\"source\":{\"id\":\"1498\",\"type\":\"ColumnDataSource\"}},\"id\":\"1502\",\"type\":\"CDSView\"},{\"attributes\":{},\"id\":\"1487\",\"type\":\"ResetTool\"},{\"attributes\":{\"fill_alpha\":{\"value\":0.1},\"fill_color\":{\"value\":\"#1f77b4\"},\"line_alpha\":{\"value\":0.1},\"line_color\":{\"value\":\"#1f77b4\"},\"x\":{\"field\":\"x\"},\"y\":{\"field\":\"y\"}},\"id\":\"1500\",\"type\":\"Circle\"},{\"attributes\":{\"callback\":null,\"data\":{\"x\":[1,2,3,4],\"y\":[6,7,8,9]},\"selected\":{\"id\":\"1546\",\"type\":\"Selection\"},\"selection_policy\":{\"id\":\"1547\",\"type\":\"UnionRenderers\"}},\"id\":\"1498\",\"type\":\"ColumnDataSource\"},{\"attributes\":{},\"id\":\"1542\",\"type\":\"BasicTickFormatter\"},{\"attributes\":{\"callback\":null},\"id\":\"1467\",\"type\":\"DataRange1d\"},{\"attributes\":{},\"id\":\"1544\",\"type\":\"BasicTickFormatter\"},{\"attributes\":{},\"id\":\"1484\",\"type\":\"WheelZoomTool\"},{\"attributes\":{},\"id\":\"1546\",\"type\":\"Selection\"},{\"attributes\":{},\"id\":\"1469\",\"type\":\"LinearScale\"},{\"attributes\":{},\"id\":\"1547\",\"type\":\"UnionRenderers\"},{\"attributes\":{\"overlay\":{\"id\":\"1491\",\"type\":\"BoxAnnotation\"}},\"id\":\"1485\",\"type\":\"BoxZoomTool\"},{\"attributes\":{\"callback\":null},\"id\":\"1465\",\"type\":\"DataRange1d\"},{\"attributes\":{},\"id\":\"1486\",\"type\":\"SaveTool\"},{\"attributes\":{},\"id\":\"1488\",\"type\":\"HelpTool\"},{\"attributes\":{\"fill_color\":{\"value\":\"#1f77b4\"},\"line_color\":{\"value\":\"#1f77b4\"},\"x\":{\"field\":\"x\"},\"y\":{\"field\":\"y\"}},\"id\":\"1499\",\"type\":\"Circle\"},{\"attributes\":{\"data_source\":{\"id\":\"1498\",\"type\":\"ColumnDataSource\"},\"glyph\":{\"id\":\"1499\",\"type\":\"Circle\"},\"hover_glyph\":null,\"muted_glyph\":null,\"nonselection_glyph\":{\"id\":\"1500\",\"type\":\"Circle\"},\"selection_glyph\":null,\"view\":{\"id\":\"1502\",\"type\":\"CDSView\"}},\"id\":\"1501\",\"type\":\"GlyphRenderer\"},{\"attributes\":{\"plot\":null,\"text\":\"\"},\"id\":\"1540\",\"type\":\"Title\"},{\"attributes\":{},\"id\":\"1474\",\"type\":\"BasicTicker\"},{\"attributes\":{\"dimension\":1,\"plot\":{\"id\":\"1464\",\"subtype\":\"Figure\",\"type\":\"Plot\"},\"ticker\":{\"id\":\"1479\",\"type\":\"BasicTicker\"}},\"id\":\"1482\",\"type\":\"Grid\"},{\"attributes\":{},\"id\":\"1479\",\"type\":\"BasicTicker\"},{\"attributes\":{\"plot\":{\"id\":\"1464\",\"subtype\":\"Figure\",\"type\":\"Plot\"},\"ticker\":{\"id\":\"1474\",\"type\":\"BasicTicker\"}},\"id\":\"1477\",\"type\":\"Grid\"},{\"attributes\":{\"formatter\":{\"id\":\"1544\",\"type\":\"BasicTickFormatter\"},\"plot\":{\"id\":\"1464\",\"subtype\":\"Figure\",\"type\":\"Plot\"},\"ticker\":{\"id\":\"1479\",\"type\":\"BasicTicker\"}},\"id\":\"1478\",\"type\":\"LinearAxis\"},{\"attributes\":{\"bottom_units\":\"screen\",\"fill_alpha\":{\"value\":0.5},\"fill_color\":{\"value\":\"lightgrey\"},\"left_units\":\"screen\",\"level\":\"overlay\",\"line_alpha\":{\"value\":1.0},\"line_color\":{\"value\":\"black\"},\"line_dash\":[4,4],\"line_width\":{\"value\":2},\"plot\":null,\"render_mode\":\"css\",\"right_units\":\"screen\",\"top_units\":\"screen\"},\"id\":\"1491\",\"type\":\"BoxAnnotation\"},{\"attributes\":{},\"id\":\"1483\",\"type\":\"PanTool\"},{\"attributes\":{},\"id\":\"1471\",\"type\":\"LinearScale\"},{\"attributes\":{\"active_drag\":\"auto\",\"active_inspect\":\"auto\",\"active_multi\":null,\"active_scroll\":\"auto\",\"active_tap\":\"auto\",\"tools\":[{\"id\":\"1483\",\"type\":\"PanTool\"},{\"id\":\"1484\",\"type\":\"WheelZoomTool\"},{\"id\":\"1485\",\"type\":\"BoxZoomTool\"},{\"id\":\"1486\",\"type\":\"SaveTool\"},{\"id\":\"1487\",\"type\":\"ResetTool\"},{\"id\":\"1488\",\"type\":\"HelpTool\"}]},\"id\":\"1489\",\"type\":\"Toolbar\"}],\"root_ids\":[\"1464\"]},\"title\":\"Bokeh Application\",\"version\":\"1.0.4\"}};\n",
       "  var render_items = [{\"docid\":\"62167927-ebdd-4f80-93e5-f81580c7a6b9\",\"roots\":{\"1464\":\"f35b53e6-7ed7-4cbe-80f7-68b87d8c245c\"}}];\n",
       "  root.Bokeh.embed.embed_items_notebook(docs_json, render_items);\n",
       "\n",
       "  }\n",
       "  if (root.Bokeh !== undefined) {\n",
       "    embed_document(root);\n",
       "  } else {\n",
       "    var attempts = 0;\n",
       "    var timer = setInterval(function(root) {\n",
       "      if (root.Bokeh !== undefined) {\n",
       "        embed_document(root);\n",
       "        clearInterval(timer);\n",
       "      }\n",
       "      attempts++;\n",
       "      if (attempts > 100) {\n",
       "        console.log(\"Bokeh: ERROR: Unable to run BokehJS code because BokehJS library is missing\");\n",
       "        clearInterval(timer);\n",
       "      }\n",
       "    }, 10, root)\n",
       "  }\n",
       "})(window);"
      ],
      "application/vnd.bokehjs_exec.v0+json": ""
     },
     "metadata": {
      "application/vnd.bokehjs_exec.v0+json": {
       "id": "1464"
      }
     },
     "output_type": "display_data"
    }
   ],
   "source": [
    "p.circle([1,2,3,4],[6,7,8,9])\n",
    "show(p)"
   ]
  },
  {
   "cell_type": "code",
   "execution_count": 9,
   "metadata": {},
   "outputs": [
    {
     "data": {
      "text/html": [
       "\n",
       "\n",
       "\n",
       "\n",
       "\n",
       "\n",
       "  <div class=\"bk-root\" id=\"e7aace05-02ac-4a96-b80c-d629f675911f\" data-root-id=\"1215\"></div>\n"
      ]
     },
     "metadata": {},
     "output_type": "display_data"
    },
    {
     "data": {
      "application/javascript": [
       "(function(root) {\n",
       "  function embed_document(root) {\n",
       "    \n",
       "  var docs_json = {\"e6e38bd2-ec25-4e52-8ebe-16d8c1f225fa\":{\"roots\":{\"references\":[{\"attributes\":{\"below\":[{\"id\":\"1224\",\"type\":\"LinearAxis\"}],\"left\":[{\"id\":\"1229\",\"type\":\"LinearAxis\"}],\"outline_line_alpha\":{\"value\":0.3},\"outline_line_color\":{\"value\":\"navy\"},\"outline_line_width\":{\"value\":7},\"plot_height\":400,\"plot_width\":400,\"renderers\":[{\"id\":\"1224\",\"type\":\"LinearAxis\"},{\"id\":\"1228\",\"type\":\"Grid\"},{\"id\":\"1229\",\"type\":\"LinearAxis\"},{\"id\":\"1233\",\"type\":\"Grid\"},{\"id\":\"1242\",\"type\":\"BoxAnnotation\"},{\"id\":\"1252\",\"type\":\"GlyphRenderer\"}],\"title\":{\"id\":\"1273\",\"type\":\"Title\"},\"toolbar\":{\"id\":\"1240\",\"type\":\"Toolbar\"},\"x_range\":{\"id\":\"1216\",\"type\":\"DataRange1d\"},\"x_scale\":{\"id\":\"1220\",\"type\":\"LinearScale\"},\"y_range\":{\"id\":\"1218\",\"type\":\"DataRange1d\"},\"y_scale\":{\"id\":\"1222\",\"type\":\"LinearScale\"}},\"id\":\"1215\",\"subtype\":\"Figure\",\"type\":\"Plot\"},{\"attributes\":{},\"id\":\"1239\",\"type\":\"HelpTool\"},{\"attributes\":{},\"id\":\"1280\",\"type\":\"UnionRenderers\"},{\"attributes\":{\"active_drag\":\"auto\",\"active_inspect\":\"auto\",\"active_multi\":null,\"active_scroll\":\"auto\",\"active_tap\":\"auto\",\"tools\":[{\"id\":\"1234\",\"type\":\"PanTool\"},{\"id\":\"1235\",\"type\":\"WheelZoomTool\"},{\"id\":\"1236\",\"type\":\"BoxZoomTool\"},{\"id\":\"1237\",\"type\":\"SaveTool\"},{\"id\":\"1238\",\"type\":\"ResetTool\"},{\"id\":\"1239\",\"type\":\"HelpTool\"}]},\"id\":\"1240\",\"type\":\"Toolbar\"},{\"attributes\":{\"callback\":null},\"id\":\"1216\",\"type\":\"DataRange1d\"},{\"attributes\":{\"data_source\":{\"id\":\"1249\",\"type\":\"ColumnDataSource\"},\"glyph\":{\"id\":\"1250\",\"type\":\"Circle\"},\"hover_glyph\":null,\"muted_glyph\":null,\"nonselection_glyph\":{\"id\":\"1251\",\"type\":\"Circle\"},\"selection_glyph\":null,\"view\":{\"id\":\"1253\",\"type\":\"CDSView\"}},\"id\":\"1252\",\"type\":\"GlyphRenderer\"},{\"attributes\":{\"callback\":null},\"id\":\"1218\",\"type\":\"DataRange1d\"},{\"attributes\":{\"bottom_units\":\"screen\",\"fill_alpha\":{\"value\":0.5},\"fill_color\":{\"value\":\"lightgrey\"},\"left_units\":\"screen\",\"level\":\"overlay\",\"line_alpha\":{\"value\":1.0},\"line_color\":{\"value\":\"black\"},\"line_dash\":[4,4],\"line_width\":{\"value\":2},\"plot\":null,\"render_mode\":\"css\",\"right_units\":\"screen\",\"top_units\":\"screen\"},\"id\":\"1242\",\"type\":\"BoxAnnotation\"},{\"attributes\":{\"overlay\":{\"id\":\"1242\",\"type\":\"BoxAnnotation\"}},\"id\":\"1236\",\"type\":\"BoxZoomTool\"},{\"attributes\":{},\"id\":\"1220\",\"type\":\"LinearScale\"},{\"attributes\":{\"source\":{\"id\":\"1249\",\"type\":\"ColumnDataSource\"}},\"id\":\"1253\",\"type\":\"CDSView\"},{\"attributes\":{},\"id\":\"1222\",\"type\":\"LinearScale\"},{\"attributes\":{},\"id\":\"1279\",\"type\":\"Selection\"},{\"attributes\":{\"plot\":null,\"text\":\"\"},\"id\":\"1273\",\"type\":\"Title\"},{\"attributes\":{\"formatter\":{\"id\":\"1275\",\"type\":\"BasicTickFormatter\"},\"plot\":{\"id\":\"1215\",\"subtype\":\"Figure\",\"type\":\"Plot\"},\"ticker\":{\"id\":\"1225\",\"type\":\"BasicTicker\"}},\"id\":\"1224\",\"type\":\"LinearAxis\"},{\"attributes\":{},\"id\":\"1275\",\"type\":\"BasicTickFormatter\"},{\"attributes\":{},\"id\":\"1225\",\"type\":\"BasicTicker\"},{\"attributes\":{\"plot\":{\"id\":\"1215\",\"subtype\":\"Figure\",\"type\":\"Plot\"},\"ticker\":{\"id\":\"1225\",\"type\":\"BasicTicker\"}},\"id\":\"1228\",\"type\":\"Grid\"},{\"attributes\":{\"formatter\":{\"id\":\"1277\",\"type\":\"BasicTickFormatter\"},\"plot\":{\"id\":\"1215\",\"subtype\":\"Figure\",\"type\":\"Plot\"},\"ticker\":{\"id\":\"1230\",\"type\":\"BasicTicker\"}},\"id\":\"1229\",\"type\":\"LinearAxis\"},{\"attributes\":{},\"id\":\"1230\",\"type\":\"BasicTicker\"},{\"attributes\":{\"dimension\":1,\"plot\":{\"id\":\"1215\",\"subtype\":\"Figure\",\"type\":\"Plot\"},\"ticker\":{\"id\":\"1230\",\"type\":\"BasicTicker\"}},\"id\":\"1233\",\"type\":\"Grid\"},{\"attributes\":{\"fill_alpha\":{\"value\":0.1},\"fill_color\":{\"value\":\"#1f77b4\"},\"line_alpha\":{\"value\":0.1},\"line_color\":{\"value\":\"#1f77b4\"},\"size\":{\"units\":\"screen\",\"value\":10},\"x\":{\"field\":\"x\"},\"y\":{\"field\":\"y\"}},\"id\":\"1251\",\"type\":\"Circle\"},{\"attributes\":{\"fill_color\":{\"value\":\"#1f77b4\"},\"line_color\":{\"value\":\"#1f77b4\"},\"size\":{\"units\":\"screen\",\"value\":10},\"x\":{\"field\":\"x\"},\"y\":{\"field\":\"y\"}},\"id\":\"1250\",\"type\":\"Circle\"},{\"attributes\":{\"callback\":null,\"data\":{\"x\":[1,2,3,4,5],\"y\":[2,5,8,2,7]},\"selected\":{\"id\":\"1279\",\"type\":\"Selection\"},\"selection_policy\":{\"id\":\"1280\",\"type\":\"UnionRenderers\"}},\"id\":\"1249\",\"type\":\"ColumnDataSource\"},{\"attributes\":{},\"id\":\"1277\",\"type\":\"BasicTickFormatter\"},{\"attributes\":{},\"id\":\"1234\",\"type\":\"PanTool\"},{\"attributes\":{},\"id\":\"1235\",\"type\":\"WheelZoomTool\"},{\"attributes\":{},\"id\":\"1237\",\"type\":\"SaveTool\"},{\"attributes\":{},\"id\":\"1238\",\"type\":\"ResetTool\"}],\"root_ids\":[\"1215\"]},\"title\":\"Bokeh Application\",\"version\":\"1.0.4\"}};\n",
       "  var render_items = [{\"docid\":\"e6e38bd2-ec25-4e52-8ebe-16d8c1f225fa\",\"roots\":{\"1215\":\"e7aace05-02ac-4a96-b80c-d629f675911f\"}}];\n",
       "  root.Bokeh.embed.embed_items_notebook(docs_json, render_items);\n",
       "\n",
       "  }\n",
       "  if (root.Bokeh !== undefined) {\n",
       "    embed_document(root);\n",
       "  } else {\n",
       "    var attempts = 0;\n",
       "    var timer = setInterval(function(root) {\n",
       "      if (root.Bokeh !== undefined) {\n",
       "        embed_document(root);\n",
       "        clearInterval(timer);\n",
       "      }\n",
       "      attempts++;\n",
       "      if (attempts > 100) {\n",
       "        console.log(\"Bokeh: ERROR: Unable to run BokehJS code because BokehJS library is missing\");\n",
       "        clearInterval(timer);\n",
       "      }\n",
       "    }, 10, root)\n",
       "  }\n",
       "})(window);"
      ],
      "application/vnd.bokehjs_exec.v0+json": ""
     },
     "metadata": {
      "application/vnd.bokehjs_exec.v0+json": {
       "id": "1215"
      }
     },
     "output_type": "display_data"
    }
   ],
   "source": [
    "p = figure(plot_width=400, plot_height=400)\n",
    "p.outline_line_width = 7\n",
    "p.outline_line_alpha = 0.3\n",
    "p.outline_line_color = \"navy\"\n",
    "\n",
    "p.circle([1,2,3,4,5], [2,5,8,2,7], size=10)\n",
    "\n",
    "show(p)"
   ]
  },
  {
   "cell_type": "code",
   "execution_count": 10,
   "metadata": {},
   "outputs": [
    {
     "data": {
      "text/html": [
       "\n",
       "\n",
       "\n",
       "\n",
       "\n",
       "\n",
       "  <div class=\"bk-root\" id=\"8d72657c-af4c-4b43-80fe-8f5d97b56990\" data-root-id=\"1335\"></div>\n"
      ]
     },
     "metadata": {},
     "output_type": "display_data"
    },
    {
     "data": {
      "application/javascript": [
       "(function(root) {\n",
       "  function embed_document(root) {\n",
       "    \n",
       "  var docs_json = {\"0ebace94-bfc6-41c1-a305-f3b9a1329e76\":{\"roots\":{\"references\":[{\"attributes\":{\"below\":[{\"id\":\"1344\",\"type\":\"LinearAxis\"}],\"left\":[{\"id\":\"1349\",\"type\":\"LinearAxis\"}],\"plot_height\":400,\"plot_width\":400,\"renderers\":[{\"id\":\"1344\",\"type\":\"LinearAxis\"},{\"id\":\"1348\",\"type\":\"Grid\"},{\"id\":\"1349\",\"type\":\"LinearAxis\"},{\"id\":\"1353\",\"type\":\"Grid\"},{\"id\":\"1362\",\"type\":\"BoxAnnotation\"},{\"id\":\"1372\",\"type\":\"GlyphRenderer\"}],\"title\":{\"id\":\"1402\",\"type\":\"Title\"},\"toolbar\":{\"id\":\"1360\",\"type\":\"Toolbar\"},\"x_range\":{\"id\":\"1336\",\"type\":\"DataRange1d\"},\"x_scale\":{\"id\":\"1340\",\"type\":\"LinearScale\"},\"y_range\":{\"id\":\"1338\",\"type\":\"DataRange1d\"},\"y_scale\":{\"id\":\"1342\",\"type\":\"LinearScale\"}},\"id\":\"1335\",\"subtype\":\"Figure\",\"type\":\"Plot\"},{\"attributes\":{},\"id\":\"1359\",\"type\":\"HelpTool\"},{\"attributes\":{\"callback\":null,\"data\":{\"x\":[1,2,3,4,5],\"y\":[2,5,8,2,7]},\"selected\":{\"id\":\"1408\",\"type\":\"Selection\"},\"selection_policy\":{\"id\":\"1409\",\"type\":\"UnionRenderers\"}},\"id\":\"1369\",\"type\":\"ColumnDataSource\"},{\"attributes\":{\"active_drag\":\"auto\",\"active_inspect\":\"auto\",\"active_multi\":null,\"active_scroll\":\"auto\",\"active_tap\":\"auto\",\"tools\":[{\"id\":\"1354\",\"type\":\"PanTool\"},{\"id\":\"1355\",\"type\":\"WheelZoomTool\"},{\"id\":\"1356\",\"type\":\"BoxZoomTool\"},{\"id\":\"1357\",\"type\":\"SaveTool\"},{\"id\":\"1358\",\"type\":\"ResetTool\"},{\"id\":\"1359\",\"type\":\"HelpTool\"}]},\"id\":\"1360\",\"type\":\"Toolbar\"},{\"attributes\":{\"overlay\":{\"id\":\"1362\",\"type\":\"BoxAnnotation\"}},\"id\":\"1356\",\"type\":\"BoxZoomTool\"},{\"attributes\":{\"callback\":null},\"id\":\"1336\",\"type\":\"DataRange1d\"},{\"attributes\":{\"data_source\":{\"id\":\"1369\",\"type\":\"ColumnDataSource\"},\"glyph\":{\"id\":\"1370\",\"type\":\"Circle\"},\"hover_glyph\":null,\"muted_glyph\":null,\"nonselection_glyph\":{\"id\":\"1371\",\"type\":\"Circle\"},\"selection_glyph\":null,\"view\":{\"id\":\"1373\",\"type\":\"CDSView\"}},\"id\":\"1372\",\"type\":\"GlyphRenderer\"},{\"attributes\":{\"callback\":null},\"id\":\"1338\",\"type\":\"DataRange1d\"},{\"attributes\":{\"bottom_units\":\"screen\",\"fill_alpha\":{\"value\":0.5},\"fill_color\":{\"value\":\"lightgrey\"},\"left_units\":\"screen\",\"level\":\"overlay\",\"line_alpha\":{\"value\":1.0},\"line_color\":{\"value\":\"black\"},\"line_dash\":[4,4],\"line_width\":{\"value\":2},\"plot\":null,\"render_mode\":\"css\",\"right_units\":\"screen\",\"top_units\":\"screen\"},\"id\":\"1362\",\"type\":\"BoxAnnotation\"},{\"attributes\":{},\"id\":\"1340\",\"type\":\"LinearScale\"},{\"attributes\":{\"source\":{\"id\":\"1369\",\"type\":\"ColumnDataSource\"}},\"id\":\"1373\",\"type\":\"CDSView\"},{\"attributes\":{},\"id\":\"1342\",\"type\":\"LinearScale\"},{\"attributes\":{\"formatter\":{\"id\":\"1404\",\"type\":\"BasicTickFormatter\"},\"plot\":{\"id\":\"1335\",\"subtype\":\"Figure\",\"type\":\"Plot\"},\"ticker\":{\"id\":\"1345\",\"type\":\"BasicTicker\"}},\"id\":\"1344\",\"type\":\"LinearAxis\"},{\"attributes\":{\"plot\":null,\"text\":\"\"},\"id\":\"1402\",\"type\":\"Title\"},{\"attributes\":{},\"id\":\"1345\",\"type\":\"BasicTicker\"},{\"attributes\":{\"plot\":{\"id\":\"1335\",\"subtype\":\"Figure\",\"type\":\"Plot\"},\"ticker\":{\"id\":\"1345\",\"type\":\"BasicTicker\"}},\"id\":\"1348\",\"type\":\"Grid\"},{\"attributes\":{\"formatter\":{\"id\":\"1406\",\"type\":\"BasicTickFormatter\"},\"plot\":{\"id\":\"1335\",\"subtype\":\"Figure\",\"type\":\"Plot\"},\"ticker\":{\"id\":\"1350\",\"type\":\"BasicTicker\"}},\"id\":\"1349\",\"type\":\"LinearAxis\"},{\"attributes\":{},\"id\":\"1404\",\"type\":\"BasicTickFormatter\"},{\"attributes\":{},\"id\":\"1350\",\"type\":\"BasicTicker\"},{\"attributes\":{},\"id\":\"1406\",\"type\":\"BasicTickFormatter\"},{\"attributes\":{\"dimension\":1,\"plot\":{\"id\":\"1335\",\"subtype\":\"Figure\",\"type\":\"Plot\"},\"ticker\":{\"id\":\"1350\",\"type\":\"BasicTicker\"}},\"id\":\"1353\",\"type\":\"Grid\"},{\"attributes\":{},\"id\":\"1408\",\"type\":\"Selection\"},{\"attributes\":{\"fill_alpha\":{\"value\":0.1},\"fill_color\":{\"value\":\"#1f77b4\"},\"line_alpha\":{\"value\":0.1},\"line_color\":{\"value\":\"#1f77b4\"},\"x\":{\"field\":\"x\"},\"y\":{\"field\":\"y\"}},\"id\":\"1371\",\"type\":\"Circle\"},{\"attributes\":{},\"id\":\"1409\",\"type\":\"UnionRenderers\"},{\"attributes\":{\"fill_alpha\":{\"value\":0.2},\"fill_color\":{\"value\":\"#1f77b4\"},\"line_color\":{\"value\":\"firebrick\"},\"line_dash\":[5,1],\"line_width\":{\"value\":2},\"size\":{\"units\":\"screen\",\"value\":50},\"x\":{\"field\":\"x\"},\"y\":{\"field\":\"y\"}},\"id\":\"1370\",\"type\":\"Circle\"},{\"attributes\":{},\"id\":\"1354\",\"type\":\"PanTool\"},{\"attributes\":{},\"id\":\"1355\",\"type\":\"WheelZoomTool\"},{\"attributes\":{},\"id\":\"1357\",\"type\":\"SaveTool\"},{\"attributes\":{},\"id\":\"1358\",\"type\":\"ResetTool\"}],\"root_ids\":[\"1335\"]},\"title\":\"Bokeh Application\",\"version\":\"1.0.4\"}};\n",
       "  var render_items = [{\"docid\":\"0ebace94-bfc6-41c1-a305-f3b9a1329e76\",\"roots\":{\"1335\":\"8d72657c-af4c-4b43-80fe-8f5d97b56990\"}}];\n",
       "  root.Bokeh.embed.embed_items_notebook(docs_json, render_items);\n",
       "\n",
       "  }\n",
       "  if (root.Bokeh !== undefined) {\n",
       "    embed_document(root);\n",
       "  } else {\n",
       "    var attempts = 0;\n",
       "    var timer = setInterval(function(root) {\n",
       "      if (root.Bokeh !== undefined) {\n",
       "        embed_document(root);\n",
       "        clearInterval(timer);\n",
       "      }\n",
       "      attempts++;\n",
       "      if (attempts > 100) {\n",
       "        console.log(\"Bokeh: ERROR: Unable to run BokehJS code because BokehJS library is missing\");\n",
       "        clearInterval(timer);\n",
       "      }\n",
       "    }, 10, root)\n",
       "  }\n",
       "})(window);"
      ],
      "application/vnd.bokehjs_exec.v0+json": ""
     },
     "metadata": {
      "application/vnd.bokehjs_exec.v0+json": {
       "id": "1335"
      }
     },
     "output_type": "display_data"
    }
   ],
   "source": [
    "p = figure(plot_width=400, plot_height=400)\n",
    "\n",
    "# keep a reference to the returned GlyphRenderer\n",
    "r = p.circle([1,2,3,4,5], [2,5,8,2,7])\n",
    "\n",
    "r.glyph.size = 50\n",
    "r.glyph.fill_alpha = 0.2\n",
    "r.glyph.line_color = \"firebrick\"\n",
    "r.glyph.line_dash = [5, 1]\n",
    "r.glyph.line_width = 2\n",
    "\n",
    "show(p)"
   ]
  },
  {
   "cell_type": "code",
   "execution_count": 14,
   "metadata": {},
   "outputs": [
    {
     "data": {
      "text/html": [
       "\n",
       "\n",
       "\n",
       "\n",
       "\n",
       "\n",
       "  <div class=\"bk-root\" id=\"a0096df0-ed4c-433c-8edf-d0d20cc01436\" data-root-id=\"1464\"></div>\n"
      ]
     },
     "metadata": {},
     "output_type": "display_data"
    },
    {
     "data": {
      "application/javascript": [
       "(function(root) {\n",
       "  function embed_document(root) {\n",
       "    \n",
       "  var docs_json = {\"0d0e0d8f-d098-460c-9ef4-f68a3451428a\":{\"roots\":{\"references\":[{\"attributes\":{\"below\":[{\"id\":\"1473\",\"type\":\"LinearAxis\"}],\"left\":[{\"id\":\"1478\",\"type\":\"LinearAxis\"}],\"plot_height\":400,\"plot_width\":400,\"renderers\":[{\"id\":\"1473\",\"type\":\"LinearAxis\"},{\"id\":\"1477\",\"type\":\"Grid\"},{\"id\":\"1478\",\"type\":\"LinearAxis\"},{\"id\":\"1482\",\"type\":\"Grid\"},{\"id\":\"1491\",\"type\":\"BoxAnnotation\"},{\"id\":\"1501\",\"type\":\"GlyphRenderer\"},{\"id\":\"1605\",\"type\":\"GlyphRenderer\"},{\"id\":\"1659\",\"type\":\"GlyphRenderer\"}],\"title\":{\"id\":\"1540\",\"type\":\"Title\"},\"toolbar\":{\"id\":\"1489\",\"type\":\"Toolbar\"},\"x_range\":{\"id\":\"1465\",\"type\":\"DataRange1d\"},\"x_scale\":{\"id\":\"1469\",\"type\":\"LinearScale\"},\"y_range\":{\"id\":\"1467\",\"type\":\"DataRange1d\"},\"y_scale\":{\"id\":\"1471\",\"type\":\"LinearScale\"}},\"id\":\"1464\",\"subtype\":\"Figure\",\"type\":\"Plot\"},{\"attributes\":{\"fill_color\":{\"value\":\"yellow\"},\"line_color\":{\"value\":\"red\"},\"size\":{\"units\":\"screen\",\"value\":18},\"x\":{\"field\":\"x\"},\"y\":{\"field\":\"y\"}},\"id\":\"1603\",\"type\":\"Circle\"},{\"attributes\":{\"formatter\":{\"id\":\"1542\",\"type\":\"BasicTickFormatter\"},\"plot\":{\"id\":\"1464\",\"subtype\":\"Figure\",\"type\":\"Plot\"},\"ticker\":{\"id\":\"1474\",\"type\":\"BasicTicker\"}},\"id\":\"1473\",\"type\":\"LinearAxis\"},{\"attributes\":{\"source\":{\"id\":\"1498\",\"type\":\"ColumnDataSource\"}},\"id\":\"1502\",\"type\":\"CDSView\"},{\"attributes\":{\"callback\":null,\"data\":{\"x\":[2,4,6,8],\"y\":[4,3,7,1]},\"selected\":{\"id\":\"1652\",\"type\":\"Selection\"},\"selection_policy\":{\"id\":\"1653\",\"type\":\"UnionRenderers\"}},\"id\":\"1602\",\"type\":\"ColumnDataSource\"},{\"attributes\":{},\"id\":\"1487\",\"type\":\"ResetTool\"},{\"attributes\":{\"fill_alpha\":{\"value\":0.1},\"fill_color\":{\"value\":\"#1f77b4\"},\"line_alpha\":{\"value\":0.1},\"line_color\":{\"value\":\"#1f77b4\"},\"x\":{\"field\":\"x\"},\"y\":{\"field\":\"y\"}},\"id\":\"1500\",\"type\":\"Circle\"},{\"attributes\":{\"callback\":null,\"data\":{\"x\":[1,2,3,4],\"y\":[6,7,8,9]},\"selected\":{\"id\":\"1546\",\"type\":\"Selection\"},\"selection_policy\":{\"id\":\"1547\",\"type\":\"UnionRenderers\"}},\"id\":\"1498\",\"type\":\"ColumnDataSource\"},{\"attributes\":{},\"id\":\"1542\",\"type\":\"BasicTickFormatter\"},{\"attributes\":{\"callback\":null},\"id\":\"1467\",\"type\":\"DataRange1d\"},{\"attributes\":{},\"id\":\"1544\",\"type\":\"BasicTickFormatter\"},{\"attributes\":{},\"id\":\"1484\",\"type\":\"WheelZoomTool\"},{\"attributes\":{},\"id\":\"1546\",\"type\":\"Selection\"},{\"attributes\":{},\"id\":\"1653\",\"type\":\"UnionRenderers\"},{\"attributes\":{},\"id\":\"1469\",\"type\":\"LinearScale\"},{\"attributes\":{},\"id\":\"1547\",\"type\":\"UnionRenderers\"},{\"attributes\":{\"overlay\":{\"id\":\"1491\",\"type\":\"BoxAnnotation\"}},\"id\":\"1485\",\"type\":\"BoxZoomTool\"},{\"attributes\":{},\"id\":\"1652\",\"type\":\"Selection\"},{\"attributes\":{\"fill_alpha\":{\"value\":0.1},\"fill_color\":{\"value\":\"#1f77b4\"},\"line_alpha\":{\"value\":0.1},\"line_color\":{\"value\":\"#1f77b4\"},\"size\":{\"units\":\"screen\",\"value\":18},\"x\":{\"field\":\"x\"},\"y\":{\"field\":\"y\"}},\"id\":\"1658\",\"type\":\"Circle\"},{\"attributes\":{\"data_source\":{\"id\":\"1656\",\"type\":\"ColumnDataSource\"},\"glyph\":{\"id\":\"1657\",\"type\":\"Circle\"},\"hover_glyph\":null,\"muted_glyph\":null,\"nonselection_glyph\":{\"id\":\"1658\",\"type\":\"Circle\"},\"selection_glyph\":null,\"view\":{\"id\":\"1660\",\"type\":\"CDSView\"}},\"id\":\"1659\",\"type\":\"GlyphRenderer\"},{\"attributes\":{\"callback\":null},\"id\":\"1465\",\"type\":\"DataRange1d\"},{\"attributes\":{\"source\":{\"id\":\"1656\",\"type\":\"ColumnDataSource\"}},\"id\":\"1660\",\"type\":\"CDSView\"},{\"attributes\":{},\"id\":\"1486\",\"type\":\"SaveTool\"},{\"attributes\":{},\"id\":\"1488\",\"type\":\"HelpTool\"},{\"attributes\":{\"fill_color\":{\"value\":\"#1f77b4\"},\"line_color\":{\"value\":\"#1f77b4\"},\"x\":{\"field\":\"x\"},\"y\":{\"field\":\"y\"}},\"id\":\"1499\",\"type\":\"Circle\"},{\"attributes\":{\"data_source\":{\"id\":\"1498\",\"type\":\"ColumnDataSource\"},\"glyph\":{\"id\":\"1499\",\"type\":\"Circle\"},\"hover_glyph\":null,\"muted_glyph\":null,\"nonselection_glyph\":{\"id\":\"1500\",\"type\":\"Circle\"},\"selection_glyph\":null,\"view\":{\"id\":\"1502\",\"type\":\"CDSView\"}},\"id\":\"1501\",\"type\":\"GlyphRenderer\"},{\"attributes\":{\"plot\":null,\"text\":\"\"},\"id\":\"1540\",\"type\":\"Title\"},{\"attributes\":{\"data_source\":{\"id\":\"1602\",\"type\":\"ColumnDataSource\"},\"glyph\":{\"id\":\"1603\",\"type\":\"Circle\"},\"hover_glyph\":null,\"muted_glyph\":null,\"nonselection_glyph\":{\"id\":\"1604\",\"type\":\"Circle\"},\"selection_glyph\":null,\"view\":{\"id\":\"1606\",\"type\":\"CDSView\"}},\"id\":\"1605\",\"type\":\"GlyphRenderer\"},{\"attributes\":{},\"id\":\"1474\",\"type\":\"BasicTicker\"},{\"attributes\":{\"dimension\":1,\"plot\":{\"id\":\"1464\",\"subtype\":\"Figure\",\"type\":\"Plot\"},\"ticker\":{\"id\":\"1479\",\"type\":\"BasicTicker\"}},\"id\":\"1482\",\"type\":\"Grid\"},{\"attributes\":{\"fill_alpha\":{\"value\":0.1},\"fill_color\":{\"value\":\"#1f77b4\"},\"line_alpha\":{\"value\":0.1},\"line_color\":{\"value\":\"#1f77b4\"},\"size\":{\"units\":\"screen\",\"value\":18},\"x\":{\"field\":\"x\"},\"y\":{\"field\":\"y\"}},\"id\":\"1604\",\"type\":\"Circle\"},{\"attributes\":{},\"id\":\"1479\",\"type\":\"BasicTicker\"},{\"attributes\":{\"source\":{\"id\":\"1602\",\"type\":\"ColumnDataSource\"}},\"id\":\"1606\",\"type\":\"CDSView\"},{\"attributes\":{\"fill_color\":{\"value\":\"yellow\"},\"line_color\":{\"value\":\"red\"},\"size\":{\"units\":\"screen\",\"value\":18},\"x\":{\"field\":\"x\"},\"y\":{\"field\":\"y\"}},\"id\":\"1657\",\"type\":\"Circle\"},{\"attributes\":{\"plot\":{\"id\":\"1464\",\"subtype\":\"Figure\",\"type\":\"Plot\"},\"ticker\":{\"id\":\"1474\",\"type\":\"BasicTicker\"}},\"id\":\"1477\",\"type\":\"Grid\"},{\"attributes\":{\"callback\":null,\"data\":{\"x\":[2,4,6,8],\"y\":[4,3,7,1]},\"selected\":{\"id\":\"1708\",\"type\":\"Selection\"},\"selection_policy\":{\"id\":\"1709\",\"type\":\"UnionRenderers\"}},\"id\":\"1656\",\"type\":\"ColumnDataSource\"},{\"attributes\":{},\"id\":\"1709\",\"type\":\"UnionRenderers\"},{\"attributes\":{\"formatter\":{\"id\":\"1544\",\"type\":\"BasicTickFormatter\"},\"plot\":{\"id\":\"1464\",\"subtype\":\"Figure\",\"type\":\"Plot\"},\"ticker\":{\"id\":\"1479\",\"type\":\"BasicTicker\"}},\"id\":\"1478\",\"type\":\"LinearAxis\"},{\"attributes\":{\"bottom_units\":\"screen\",\"fill_alpha\":{\"value\":0.5},\"fill_color\":{\"value\":\"lightgrey\"},\"left_units\":\"screen\",\"level\":\"overlay\",\"line_alpha\":{\"value\":1.0},\"line_color\":{\"value\":\"black\"},\"line_dash\":[4,4],\"line_width\":{\"value\":2},\"plot\":null,\"render_mode\":\"css\",\"right_units\":\"screen\",\"top_units\":\"screen\"},\"id\":\"1491\",\"type\":\"BoxAnnotation\"},{\"attributes\":{},\"id\":\"1483\",\"type\":\"PanTool\"},{\"attributes\":{},\"id\":\"1708\",\"type\":\"Selection\"},{\"attributes\":{},\"id\":\"1471\",\"type\":\"LinearScale\"},{\"attributes\":{\"active_drag\":\"auto\",\"active_inspect\":\"auto\",\"active_multi\":null,\"active_scroll\":\"auto\",\"active_tap\":\"auto\",\"tools\":[{\"id\":\"1483\",\"type\":\"PanTool\"},{\"id\":\"1484\",\"type\":\"WheelZoomTool\"},{\"id\":\"1485\",\"type\":\"BoxZoomTool\"},{\"id\":\"1486\",\"type\":\"SaveTool\"},{\"id\":\"1487\",\"type\":\"ResetTool\"},{\"id\":\"1488\",\"type\":\"HelpTool\"}]},\"id\":\"1489\",\"type\":\"Toolbar\"}],\"root_ids\":[\"1464\"]},\"title\":\"Bokeh Application\",\"version\":\"1.0.4\"}};\n",
       "  var render_items = [{\"docid\":\"0d0e0d8f-d098-460c-9ef4-f68a3451428a\",\"roots\":{\"1464\":\"a0096df0-ed4c-433c-8edf-d0d20cc01436\"}}];\n",
       "  root.Bokeh.embed.embed_items_notebook(docs_json, render_items);\n",
       "\n",
       "  }\n",
       "  if (root.Bokeh !== undefined) {\n",
       "    embed_document(root);\n",
       "  } else {\n",
       "    var attempts = 0;\n",
       "    var timer = setInterval(function(root) {\n",
       "      if (root.Bokeh !== undefined) {\n",
       "        embed_document(root);\n",
       "        clearInterval(timer);\n",
       "      }\n",
       "      attempts++;\n",
       "      if (attempts > 100) {\n",
       "        console.log(\"Bokeh: ERROR: Unable to run BokehJS code because BokehJS library is missing\");\n",
       "        clearInterval(timer);\n",
       "      }\n",
       "    }, 10, root)\n",
       "  }\n",
       "})(window);"
      ],
      "application/vnd.bokehjs_exec.v0+json": ""
     },
     "metadata": {
      "application/vnd.bokehjs_exec.v0+json": {
       "id": "1464"
      }
     },
     "output_type": "display_data"
    }
   ],
   "source": [
    "p.circle([2,4,6,8],[4,3,7,1],size=18,line_color='red',fill_color='yellow')\n",
    "show(p)"
   ]
  },
  {
   "cell_type": "code",
   "execution_count": 15,
   "metadata": {},
   "outputs": [],
   "source": [
    "p = figure(plot_width=400,plot_height=400)"
   ]
  },
  {
   "cell_type": "code",
   "execution_count": 16,
   "metadata": {},
   "outputs": [
    {
     "data": {
      "text/html": [
       "\n",
       "\n",
       "\n",
       "\n",
       "\n",
       "\n",
       "  <div class=\"bk-root\" id=\"0628669d-f601-4232-9606-0b6ff00ec6cb\" data-root-id=\"1788\"></div>\n"
      ]
     },
     "metadata": {},
     "output_type": "display_data"
    },
    {
     "data": {
      "application/javascript": [
       "(function(root) {\n",
       "  function embed_document(root) {\n",
       "    \n",
       "  var docs_json = {\"ed200210-a92c-4b97-a193-e5eaaf7426b2\":{\"roots\":{\"references\":[{\"attributes\":{\"below\":[{\"id\":\"1797\",\"type\":\"LinearAxis\"}],\"left\":[{\"id\":\"1802\",\"type\":\"LinearAxis\"}],\"plot_height\":400,\"plot_width\":400,\"renderers\":[{\"id\":\"1797\",\"type\":\"LinearAxis\"},{\"id\":\"1801\",\"type\":\"Grid\"},{\"id\":\"1802\",\"type\":\"LinearAxis\"},{\"id\":\"1806\",\"type\":\"Grid\"},{\"id\":\"1815\",\"type\":\"BoxAnnotation\"},{\"id\":\"1825\",\"type\":\"GlyphRenderer\"}],\"title\":{\"id\":\"1877\",\"type\":\"Title\"},\"toolbar\":{\"id\":\"1813\",\"type\":\"Toolbar\"},\"x_range\":{\"id\":\"1789\",\"type\":\"DataRange1d\"},\"x_scale\":{\"id\":\"1793\",\"type\":\"LinearScale\"},\"y_range\":{\"id\":\"1791\",\"type\":\"DataRange1d\"},\"y_scale\":{\"id\":\"1795\",\"type\":\"LinearScale\"}},\"id\":\"1788\",\"subtype\":\"Figure\",\"type\":\"Plot\"},{\"attributes\":{\"callback\":null},\"id\":\"1789\",\"type\":\"DataRange1d\"},{\"attributes\":{\"callback\":null,\"data\":{\"x\":[2,4,6,8],\"y\":[4,3,7,1]},\"selected\":{\"id\":\"1883\",\"type\":\"Selection\"},\"selection_policy\":{\"id\":\"1884\",\"type\":\"UnionRenderers\"}},\"id\":\"1822\",\"type\":\"ColumnDataSource\"},{\"attributes\":{},\"id\":\"1807\",\"type\":\"PanTool\"},{\"attributes\":{\"fill_color\":{\"value\":\"orange\"},\"size\":{\"units\":\"screen\",\"value\":16},\"x\":{\"field\":\"x\"},\"y\":{\"field\":\"y\"}},\"id\":\"1823\",\"type\":\"Square\"},{\"attributes\":{},\"id\":\"1808\",\"type\":\"WheelZoomTool\"},{\"attributes\":{\"fill_alpha\":{\"value\":0.1},\"fill_color\":{\"value\":\"#1f77b4\"},\"line_alpha\":{\"value\":0.1},\"line_color\":{\"value\":\"#1f77b4\"},\"size\":{\"units\":\"screen\",\"value\":16},\"x\":{\"field\":\"x\"},\"y\":{\"field\":\"y\"}},\"id\":\"1824\",\"type\":\"Square\"},{\"attributes\":{},\"id\":\"1810\",\"type\":\"SaveTool\"},{\"attributes\":{\"data_source\":{\"id\":\"1822\",\"type\":\"ColumnDataSource\"},\"glyph\":{\"id\":\"1823\",\"type\":\"Square\"},\"hover_glyph\":null,\"muted_glyph\":null,\"nonselection_glyph\":{\"id\":\"1824\",\"type\":\"Square\"},\"selection_glyph\":null,\"view\":{\"id\":\"1826\",\"type\":\"CDSView\"}},\"id\":\"1825\",\"type\":\"GlyphRenderer\"},{\"attributes\":{},\"id\":\"1811\",\"type\":\"ResetTool\"},{\"attributes\":{\"source\":{\"id\":\"1822\",\"type\":\"ColumnDataSource\"}},\"id\":\"1826\",\"type\":\"CDSView\"},{\"attributes\":{},\"id\":\"1884\",\"type\":\"UnionRenderers\"},{\"attributes\":{},\"id\":\"1812\",\"type\":\"HelpTool\"},{\"attributes\":{\"plot\":null,\"text\":\"\"},\"id\":\"1877\",\"type\":\"Title\"},{\"attributes\":{},\"id\":\"1883\",\"type\":\"Selection\"},{\"attributes\":{\"active_drag\":\"auto\",\"active_inspect\":\"auto\",\"active_multi\":null,\"active_scroll\":\"auto\",\"active_tap\":\"auto\",\"tools\":[{\"id\":\"1807\",\"type\":\"PanTool\"},{\"id\":\"1808\",\"type\":\"WheelZoomTool\"},{\"id\":\"1809\",\"type\":\"BoxZoomTool\"},{\"id\":\"1810\",\"type\":\"SaveTool\"},{\"id\":\"1811\",\"type\":\"ResetTool\"},{\"id\":\"1812\",\"type\":\"HelpTool\"}]},\"id\":\"1813\",\"type\":\"Toolbar\"},{\"attributes\":{\"plot\":{\"id\":\"1788\",\"subtype\":\"Figure\",\"type\":\"Plot\"},\"ticker\":{\"id\":\"1798\",\"type\":\"BasicTicker\"}},\"id\":\"1801\",\"type\":\"Grid\"},{\"attributes\":{\"callback\":null},\"id\":\"1791\",\"type\":\"DataRange1d\"},{\"attributes\":{},\"id\":\"1879\",\"type\":\"BasicTickFormatter\"},{\"attributes\":{\"dimension\":1,\"plot\":{\"id\":\"1788\",\"subtype\":\"Figure\",\"type\":\"Plot\"},\"ticker\":{\"id\":\"1803\",\"type\":\"BasicTicker\"}},\"id\":\"1806\",\"type\":\"Grid\"},{\"attributes\":{\"bottom_units\":\"screen\",\"fill_alpha\":{\"value\":0.5},\"fill_color\":{\"value\":\"lightgrey\"},\"left_units\":\"screen\",\"level\":\"overlay\",\"line_alpha\":{\"value\":1.0},\"line_color\":{\"value\":\"black\"},\"line_dash\":[4,4],\"line_width\":{\"value\":2},\"plot\":null,\"render_mode\":\"css\",\"right_units\":\"screen\",\"top_units\":\"screen\"},\"id\":\"1815\",\"type\":\"BoxAnnotation\"},{\"attributes\":{\"overlay\":{\"id\":\"1815\",\"type\":\"BoxAnnotation\"}},\"id\":\"1809\",\"type\":\"BoxZoomTool\"},{\"attributes\":{},\"id\":\"1803\",\"type\":\"BasicTicker\"},{\"attributes\":{},\"id\":\"1881\",\"type\":\"BasicTickFormatter\"},{\"attributes\":{},\"id\":\"1795\",\"type\":\"LinearScale\"},{\"attributes\":{\"formatter\":{\"id\":\"1879\",\"type\":\"BasicTickFormatter\"},\"plot\":{\"id\":\"1788\",\"subtype\":\"Figure\",\"type\":\"Plot\"},\"ticker\":{\"id\":\"1798\",\"type\":\"BasicTicker\"}},\"id\":\"1797\",\"type\":\"LinearAxis\"},{\"attributes\":{},\"id\":\"1798\",\"type\":\"BasicTicker\"},{\"attributes\":{\"formatter\":{\"id\":\"1881\",\"type\":\"BasicTickFormatter\"},\"plot\":{\"id\":\"1788\",\"subtype\":\"Figure\",\"type\":\"Plot\"},\"ticker\":{\"id\":\"1803\",\"type\":\"BasicTicker\"}},\"id\":\"1802\",\"type\":\"LinearAxis\"},{\"attributes\":{},\"id\":\"1793\",\"type\":\"LinearScale\"}],\"root_ids\":[\"1788\"]},\"title\":\"Bokeh Application\",\"version\":\"1.0.4\"}};\n",
       "  var render_items = [{\"docid\":\"ed200210-a92c-4b97-a193-e5eaaf7426b2\",\"roots\":{\"1788\":\"0628669d-f601-4232-9606-0b6ff00ec6cb\"}}];\n",
       "  root.Bokeh.embed.embed_items_notebook(docs_json, render_items);\n",
       "\n",
       "  }\n",
       "  if (root.Bokeh !== undefined) {\n",
       "    embed_document(root);\n",
       "  } else {\n",
       "    var attempts = 0;\n",
       "    var timer = setInterval(function(root) {\n",
       "      if (root.Bokeh !== undefined) {\n",
       "        embed_document(root);\n",
       "        clearInterval(timer);\n",
       "      }\n",
       "      attempts++;\n",
       "      if (attempts > 100) {\n",
       "        console.log(\"Bokeh: ERROR: Unable to run BokehJS code because BokehJS library is missing\");\n",
       "        clearInterval(timer);\n",
       "      }\n",
       "    }, 10, root)\n",
       "  }\n",
       "})(window);"
      ],
      "application/vnd.bokehjs_exec.v0+json": ""
     },
     "metadata": {
      "application/vnd.bokehjs_exec.v0+json": {
       "id": "1788"
      }
     },
     "output_type": "display_data"
    }
   ],
   "source": [
    "p.square([2,4,6,8],[4,3,7,1],size=16,line_color=\"black\",fill_color=\"orange\")\n",
    "show(p)"
   ]
  },
  {
   "cell_type": "code",
   "execution_count": 17,
   "metadata": {},
   "outputs": [
    {
     "data": {
      "text/html": [
       "\n",
       "\n",
       "\n",
       "\n",
       "\n",
       "\n",
       "  <div class=\"bk-root\" id=\"8b14b2de-89a9-4094-8bd7-73b99a3f3c5f\" data-root-id=\"1788\"></div>\n"
      ]
     },
     "metadata": {},
     "output_type": "display_data"
    },
    {
     "data": {
      "application/javascript": [
       "(function(root) {\n",
       "  function embed_document(root) {\n",
       "    \n",
       "  var docs_json = {\"95ff6512-f666-4d5a-a383-888afd9ea516\":{\"roots\":{\"references\":[{\"attributes\":{\"below\":[{\"id\":\"1797\",\"type\":\"LinearAxis\"}],\"left\":[{\"id\":\"1802\",\"type\":\"LinearAxis\"}],\"plot_height\":400,\"plot_width\":400,\"renderers\":[{\"id\":\"1797\",\"type\":\"LinearAxis\"},{\"id\":\"1801\",\"type\":\"Grid\"},{\"id\":\"1802\",\"type\":\"LinearAxis\"},{\"id\":\"1806\",\"type\":\"Grid\"},{\"id\":\"1815\",\"type\":\"BoxAnnotation\"},{\"id\":\"1825\",\"type\":\"GlyphRenderer\"},{\"id\":\"1942\",\"type\":\"GlyphRenderer\"}],\"title\":{\"id\":\"1877\",\"type\":\"Title\"},\"toolbar\":{\"id\":\"1813\",\"type\":\"Toolbar\"},\"x_range\":{\"id\":\"1789\",\"type\":\"DataRange1d\"},\"x_scale\":{\"id\":\"1793\",\"type\":\"LinearScale\"},\"y_range\":{\"id\":\"1791\",\"type\":\"DataRange1d\"},\"y_scale\":{\"id\":\"1795\",\"type\":\"LinearScale\"}},\"id\":\"1788\",\"subtype\":\"Figure\",\"type\":\"Plot\"},{\"attributes\":{\"fill_alpha\":{\"value\":0.3},\"fill_color\":{\"value\":\"black\"},\"line_alpha\":{\"value\":0.3},\"size\":{\"units\":\"screen\",\"value\":16},\"x\":{\"field\":\"x\"},\"y\":{\"field\":\"y\"}},\"id\":\"1940\",\"type\":\"Square\"},{\"attributes\":{\"callback\":null,\"data\":{\"x\":[2,4,6,8],\"y\":[4,3,7,1]},\"selected\":{\"id\":\"2002\",\"type\":\"Selection\"},\"selection_policy\":{\"id\":\"2003\",\"type\":\"UnionRenderers\"}},\"id\":\"1939\",\"type\":\"ColumnDataSource\"},{\"attributes\":{\"callback\":null},\"id\":\"1789\",\"type\":\"DataRange1d\"},{\"attributes\":{\"fill_alpha\":{\"value\":0.1},\"fill_color\":{\"value\":\"#1f77b4\"},\"line_alpha\":{\"value\":0.1},\"line_color\":{\"value\":\"#1f77b4\"},\"size\":{\"units\":\"screen\",\"value\":16},\"x\":{\"field\":\"x\"},\"y\":{\"field\":\"y\"}},\"id\":\"1941\",\"type\":\"Square\"},{\"attributes\":{\"callback\":null,\"data\":{\"x\":[2,4,6,8],\"y\":[4,3,7,1]},\"selected\":{\"id\":\"1883\",\"type\":\"Selection\"},\"selection_policy\":{\"id\":\"1884\",\"type\":\"UnionRenderers\"}},\"id\":\"1822\",\"type\":\"ColumnDataSource\"},{\"attributes\":{},\"id\":\"1807\",\"type\":\"PanTool\"},{\"attributes\":{\"fill_color\":{\"value\":\"orange\"},\"size\":{\"units\":\"screen\",\"value\":16},\"x\":{\"field\":\"x\"},\"y\":{\"field\":\"y\"}},\"id\":\"1823\",\"type\":\"Square\"},{\"attributes\":{},\"id\":\"1808\",\"type\":\"WheelZoomTool\"},{\"attributes\":{\"fill_alpha\":{\"value\":0.1},\"fill_color\":{\"value\":\"#1f77b4\"},\"line_alpha\":{\"value\":0.1},\"line_color\":{\"value\":\"#1f77b4\"},\"size\":{\"units\":\"screen\",\"value\":16},\"x\":{\"field\":\"x\"},\"y\":{\"field\":\"y\"}},\"id\":\"1824\",\"type\":\"Square\"},{\"attributes\":{},\"id\":\"1810\",\"type\":\"SaveTool\"},{\"attributes\":{\"data_source\":{\"id\":\"1822\",\"type\":\"ColumnDataSource\"},\"glyph\":{\"id\":\"1823\",\"type\":\"Square\"},\"hover_glyph\":null,\"muted_glyph\":null,\"nonselection_glyph\":{\"id\":\"1824\",\"type\":\"Square\"},\"selection_glyph\":null,\"view\":{\"id\":\"1826\",\"type\":\"CDSView\"}},\"id\":\"1825\",\"type\":\"GlyphRenderer\"},{\"attributes\":{},\"id\":\"1811\",\"type\":\"ResetTool\"},{\"attributes\":{\"source\":{\"id\":\"1822\",\"type\":\"ColumnDataSource\"}},\"id\":\"1826\",\"type\":\"CDSView\"},{\"attributes\":{},\"id\":\"1884\",\"type\":\"UnionRenderers\"},{\"attributes\":{},\"id\":\"1812\",\"type\":\"HelpTool\"},{\"attributes\":{\"data_source\":{\"id\":\"1939\",\"type\":\"ColumnDataSource\"},\"glyph\":{\"id\":\"1940\",\"type\":\"Square\"},\"hover_glyph\":null,\"muted_glyph\":null,\"nonselection_glyph\":{\"id\":\"1941\",\"type\":\"Square\"},\"selection_glyph\":null,\"view\":{\"id\":\"1943\",\"type\":\"CDSView\"}},\"id\":\"1942\",\"type\":\"GlyphRenderer\"},{\"attributes\":{\"plot\":null,\"text\":\"\"},\"id\":\"1877\",\"type\":\"Title\"},{\"attributes\":{},\"id\":\"1883\",\"type\":\"Selection\"},{\"attributes\":{\"active_drag\":\"auto\",\"active_inspect\":\"auto\",\"active_multi\":null,\"active_scroll\":\"auto\",\"active_tap\":\"auto\",\"tools\":[{\"id\":\"1807\",\"type\":\"PanTool\"},{\"id\":\"1808\",\"type\":\"WheelZoomTool\"},{\"id\":\"1809\",\"type\":\"BoxZoomTool\"},{\"id\":\"1810\",\"type\":\"SaveTool\"},{\"id\":\"1811\",\"type\":\"ResetTool\"},{\"id\":\"1812\",\"type\":\"HelpTool\"}]},\"id\":\"1813\",\"type\":\"Toolbar\"},{\"attributes\":{\"plot\":{\"id\":\"1788\",\"subtype\":\"Figure\",\"type\":\"Plot\"},\"ticker\":{\"id\":\"1798\",\"type\":\"BasicTicker\"}},\"id\":\"1801\",\"type\":\"Grid\"},{\"attributes\":{\"callback\":null},\"id\":\"1791\",\"type\":\"DataRange1d\"},{\"attributes\":{},\"id\":\"1879\",\"type\":\"BasicTickFormatter\"},{\"attributes\":{\"dimension\":1,\"plot\":{\"id\":\"1788\",\"subtype\":\"Figure\",\"type\":\"Plot\"},\"ticker\":{\"id\":\"1803\",\"type\":\"BasicTicker\"}},\"id\":\"1806\",\"type\":\"Grid\"},{\"attributes\":{\"bottom_units\":\"screen\",\"fill_alpha\":{\"value\":0.5},\"fill_color\":{\"value\":\"lightgrey\"},\"left_units\":\"screen\",\"level\":\"overlay\",\"line_alpha\":{\"value\":1.0},\"line_color\":{\"value\":\"black\"},\"line_dash\":[4,4],\"line_width\":{\"value\":2},\"plot\":null,\"render_mode\":\"css\",\"right_units\":\"screen\",\"top_units\":\"screen\"},\"id\":\"1815\",\"type\":\"BoxAnnotation\"},{\"attributes\":{\"overlay\":{\"id\":\"1815\",\"type\":\"BoxAnnotation\"}},\"id\":\"1809\",\"type\":\"BoxZoomTool\"},{\"attributes\":{},\"id\":\"1803\",\"type\":\"BasicTicker\"},{\"attributes\":{},\"id\":\"1881\",\"type\":\"BasicTickFormatter\"},{\"attributes\":{},\"id\":\"1795\",\"type\":\"LinearScale\"},{\"attributes\":{\"source\":{\"id\":\"1939\",\"type\":\"ColumnDataSource\"}},\"id\":\"1943\",\"type\":\"CDSView\"},{\"attributes\":{\"formatter\":{\"id\":\"1879\",\"type\":\"BasicTickFormatter\"},\"plot\":{\"id\":\"1788\",\"subtype\":\"Figure\",\"type\":\"Plot\"},\"ticker\":{\"id\":\"1798\",\"type\":\"BasicTicker\"}},\"id\":\"1797\",\"type\":\"LinearAxis\"},{\"attributes\":{},\"id\":\"2002\",\"type\":\"Selection\"},{\"attributes\":{},\"id\":\"1798\",\"type\":\"BasicTicker\"},{\"attributes\":{},\"id\":\"2003\",\"type\":\"UnionRenderers\"},{\"attributes\":{\"formatter\":{\"id\":\"1881\",\"type\":\"BasicTickFormatter\"},\"plot\":{\"id\":\"1788\",\"subtype\":\"Figure\",\"type\":\"Plot\"},\"ticker\":{\"id\":\"1803\",\"type\":\"BasicTicker\"}},\"id\":\"1802\",\"type\":\"LinearAxis\"},{\"attributes\":{},\"id\":\"1793\",\"type\":\"LinearScale\"}],\"root_ids\":[\"1788\"]},\"title\":\"Bokeh Application\",\"version\":\"1.0.4\"}};\n",
       "  var render_items = [{\"docid\":\"95ff6512-f666-4d5a-a383-888afd9ea516\",\"roots\":{\"1788\":\"8b14b2de-89a9-4094-8bd7-73b99a3f3c5f\"}}];\n",
       "  root.Bokeh.embed.embed_items_notebook(docs_json, render_items);\n",
       "\n",
       "  }\n",
       "  if (root.Bokeh !== undefined) {\n",
       "    embed_document(root);\n",
       "  } else {\n",
       "    var attempts = 0;\n",
       "    var timer = setInterval(function(root) {\n",
       "      if (root.Bokeh !== undefined) {\n",
       "        embed_document(root);\n",
       "        clearInterval(timer);\n",
       "      }\n",
       "      attempts++;\n",
       "      if (attempts > 100) {\n",
       "        console.log(\"Bokeh: ERROR: Unable to run BokehJS code because BokehJS library is missing\");\n",
       "        clearInterval(timer);\n",
       "      }\n",
       "    }, 10, root)\n",
       "  }\n",
       "})(window);"
      ],
      "application/vnd.bokehjs_exec.v0+json": ""
     },
     "metadata": {
      "application/vnd.bokehjs_exec.v0+json": {
       "id": "1788"
      }
     },
     "output_type": "display_data"
    }
   ],
   "source": [
    "p.square([2,4,6,8],[4,3,7,1],size=16,color=\"black\",alpha=0.3)\n",
    "show(p)"
   ]
  },
  {
   "cell_type": "code",
   "execution_count": 19,
   "metadata": {},
   "outputs": [
    {
     "data": {
      "text/html": [
       "\n",
       "\n",
       "\n",
       "\n",
       "\n",
       "\n",
       "  <div class=\"bk-root\" id=\"b98902db-bddd-49fe-8153-8cf20e0a1c14\" data-root-id=\"1788\"></div>\n"
      ]
     },
     "metadata": {},
     "output_type": "display_data"
    },
    {
     "data": {
      "application/javascript": [
       "(function(root) {\n",
       "  function embed_document(root) {\n",
       "    \n",
       "  var docs_json = {\"1ca45899-79f4-4834-a895-aa86b120dcd0\":{\"roots\":{\"references\":[{\"attributes\":{\"below\":[{\"id\":\"1797\",\"type\":\"LinearAxis\"}],\"left\":[{\"id\":\"1802\",\"type\":\"LinearAxis\"}],\"plot_height\":400,\"plot_width\":400,\"renderers\":[{\"id\":\"1797\",\"type\":\"LinearAxis\"},{\"id\":\"1801\",\"type\":\"Grid\"},{\"id\":\"1802\",\"type\":\"LinearAxis\"},{\"id\":\"1806\",\"type\":\"Grid\"},{\"id\":\"1815\",\"type\":\"BoxAnnotation\"},{\"id\":\"1825\",\"type\":\"GlyphRenderer\"},{\"id\":\"1942\",\"type\":\"GlyphRenderer\"}],\"title\":{\"id\":\"1877\",\"type\":\"Title\"},\"toolbar\":{\"id\":\"1813\",\"type\":\"Toolbar\"},\"x_range\":{\"id\":\"1789\",\"type\":\"DataRange1d\"},\"x_scale\":{\"id\":\"1793\",\"type\":\"LinearScale\"},\"y_range\":{\"id\":\"1791\",\"type\":\"DataRange1d\"},\"y_scale\":{\"id\":\"1795\",\"type\":\"LinearScale\"}},\"id\":\"1788\",\"subtype\":\"Figure\",\"type\":\"Plot\"},{\"attributes\":{\"fill_alpha\":{\"value\":0.3},\"fill_color\":{\"value\":\"black\"},\"line_alpha\":{\"value\":0.3},\"size\":{\"units\":\"screen\",\"value\":16},\"x\":{\"field\":\"x\"},\"y\":{\"field\":\"y\"}},\"id\":\"1940\",\"type\":\"Square\"},{\"attributes\":{\"callback\":null,\"data\":{\"x\":[2,4,6,8],\"y\":[4,3,7,1]},\"selected\":{\"id\":\"2002\",\"type\":\"Selection\"},\"selection_policy\":{\"id\":\"2003\",\"type\":\"UnionRenderers\"}},\"id\":\"1939\",\"type\":\"ColumnDataSource\"},{\"attributes\":{\"callback\":null},\"id\":\"1789\",\"type\":\"DataRange1d\"},{\"attributes\":{\"fill_alpha\":{\"value\":0.1},\"fill_color\":{\"value\":\"#1f77b4\"},\"line_alpha\":{\"value\":0.1},\"line_color\":{\"value\":\"#1f77b4\"},\"size\":{\"units\":\"screen\",\"value\":16},\"x\":{\"field\":\"x\"},\"y\":{\"field\":\"y\"}},\"id\":\"1941\",\"type\":\"Square\"},{\"attributes\":{\"callback\":null,\"data\":{\"x\":[2,4,6,8],\"y\":[4,3,7,1]},\"selected\":{\"id\":\"1883\",\"type\":\"Selection\"},\"selection_policy\":{\"id\":\"1884\",\"type\":\"UnionRenderers\"}},\"id\":\"1822\",\"type\":\"ColumnDataSource\"},{\"attributes\":{},\"id\":\"1807\",\"type\":\"PanTool\"},{\"attributes\":{\"fill_color\":{\"value\":\"orange\"},\"size\":{\"units\":\"screen\",\"value\":16},\"x\":{\"field\":\"x\"},\"y\":{\"field\":\"y\"}},\"id\":\"1823\",\"type\":\"Square\"},{\"attributes\":{},\"id\":\"1808\",\"type\":\"WheelZoomTool\"},{\"attributes\":{\"fill_alpha\":{\"value\":0.1},\"fill_color\":{\"value\":\"#1f77b4\"},\"line_alpha\":{\"value\":0.1},\"line_color\":{\"value\":\"#1f77b4\"},\"size\":{\"units\":\"screen\",\"value\":16},\"x\":{\"field\":\"x\"},\"y\":{\"field\":\"y\"}},\"id\":\"1824\",\"type\":\"Square\"},{\"attributes\":{},\"id\":\"1810\",\"type\":\"SaveTool\"},{\"attributes\":{\"data_source\":{\"id\":\"1822\",\"type\":\"ColumnDataSource\"},\"glyph\":{\"id\":\"1823\",\"type\":\"Square\"},\"hover_glyph\":null,\"muted_glyph\":null,\"nonselection_glyph\":{\"id\":\"1824\",\"type\":\"Square\"},\"selection_glyph\":null,\"view\":{\"id\":\"1826\",\"type\":\"CDSView\"}},\"id\":\"1825\",\"type\":\"GlyphRenderer\"},{\"attributes\":{},\"id\":\"1811\",\"type\":\"ResetTool\"},{\"attributes\":{\"source\":{\"id\":\"1822\",\"type\":\"ColumnDataSource\"}},\"id\":\"1826\",\"type\":\"CDSView\"},{\"attributes\":{},\"id\":\"1884\",\"type\":\"UnionRenderers\"},{\"attributes\":{},\"id\":\"1812\",\"type\":\"HelpTool\"},{\"attributes\":{\"data_source\":{\"id\":\"1939\",\"type\":\"ColumnDataSource\"},\"glyph\":{\"id\":\"1940\",\"type\":\"Square\"},\"hover_glyph\":null,\"muted_glyph\":null,\"nonselection_glyph\":{\"id\":\"1941\",\"type\":\"Square\"},\"selection_glyph\":null,\"view\":{\"id\":\"1943\",\"type\":\"CDSView\"}},\"id\":\"1942\",\"type\":\"GlyphRenderer\"},{\"attributes\":{\"plot\":null,\"text\":\"\"},\"id\":\"1877\",\"type\":\"Title\"},{\"attributes\":{},\"id\":\"1883\",\"type\":\"Selection\"},{\"attributes\":{\"active_drag\":\"auto\",\"active_inspect\":\"auto\",\"active_multi\":null,\"active_scroll\":\"auto\",\"active_tap\":\"auto\",\"tools\":[{\"id\":\"1807\",\"type\":\"PanTool\"},{\"id\":\"1808\",\"type\":\"WheelZoomTool\"},{\"id\":\"1809\",\"type\":\"BoxZoomTool\"},{\"id\":\"1810\",\"type\":\"SaveTool\"},{\"id\":\"1811\",\"type\":\"ResetTool\"},{\"id\":\"1812\",\"type\":\"HelpTool\"}]},\"id\":\"1813\",\"type\":\"Toolbar\"},{\"attributes\":{\"plot\":{\"id\":\"1788\",\"subtype\":\"Figure\",\"type\":\"Plot\"},\"ticker\":{\"id\":\"1798\",\"type\":\"BasicTicker\"}},\"id\":\"1801\",\"type\":\"Grid\"},{\"attributes\":{\"callback\":null},\"id\":\"1791\",\"type\":\"DataRange1d\"},{\"attributes\":{},\"id\":\"1879\",\"type\":\"BasicTickFormatter\"},{\"attributes\":{\"dimension\":1,\"plot\":{\"id\":\"1788\",\"subtype\":\"Figure\",\"type\":\"Plot\"},\"ticker\":{\"id\":\"1803\",\"type\":\"BasicTicker\"}},\"id\":\"1806\",\"type\":\"Grid\"},{\"attributes\":{\"bottom_units\":\"screen\",\"fill_alpha\":{\"value\":0.5},\"fill_color\":{\"value\":\"lightgrey\"},\"left_units\":\"screen\",\"level\":\"overlay\",\"line_alpha\":{\"value\":1.0},\"line_color\":{\"value\":\"black\"},\"line_dash\":[4,4],\"line_width\":{\"value\":2},\"plot\":null,\"render_mode\":\"css\",\"right_units\":\"screen\",\"top_units\":\"screen\"},\"id\":\"1815\",\"type\":\"BoxAnnotation\"},{\"attributes\":{\"overlay\":{\"id\":\"1815\",\"type\":\"BoxAnnotation\"}},\"id\":\"1809\",\"type\":\"BoxZoomTool\"},{\"attributes\":{},\"id\":\"1803\",\"type\":\"BasicTicker\"},{\"attributes\":{},\"id\":\"1881\",\"type\":\"BasicTickFormatter\"},{\"attributes\":{},\"id\":\"1795\",\"type\":\"LinearScale\"},{\"attributes\":{\"source\":{\"id\":\"1939\",\"type\":\"ColumnDataSource\"}},\"id\":\"1943\",\"type\":\"CDSView\"},{\"attributes\":{\"formatter\":{\"id\":\"1879\",\"type\":\"BasicTickFormatter\"},\"plot\":{\"id\":\"1788\",\"subtype\":\"Figure\",\"type\":\"Plot\"},\"ticker\":{\"id\":\"1798\",\"type\":\"BasicTicker\"}},\"id\":\"1797\",\"type\":\"LinearAxis\"},{\"attributes\":{},\"id\":\"2002\",\"type\":\"Selection\"},{\"attributes\":{},\"id\":\"1798\",\"type\":\"BasicTicker\"},{\"attributes\":{},\"id\":\"2003\",\"type\":\"UnionRenderers\"},{\"attributes\":{\"formatter\":{\"id\":\"1881\",\"type\":\"BasicTickFormatter\"},\"plot\":{\"id\":\"1788\",\"subtype\":\"Figure\",\"type\":\"Plot\"},\"ticker\":{\"id\":\"1803\",\"type\":\"BasicTicker\"}},\"id\":\"1802\",\"type\":\"LinearAxis\"},{\"attributes\":{},\"id\":\"1793\",\"type\":\"LinearScale\"}],\"root_ids\":[\"1788\"]},\"title\":\"Bokeh Application\",\"version\":\"1.0.4\"}};\n",
       "  var render_items = [{\"docid\":\"1ca45899-79f4-4834-a895-aa86b120dcd0\",\"roots\":{\"1788\":\"b98902db-bddd-49fe-8153-8cf20e0a1c14\"}}];\n",
       "  root.Bokeh.embed.embed_items_notebook(docs_json, render_items);\n",
       "\n",
       "  }\n",
       "  if (root.Bokeh !== undefined) {\n",
       "    embed_document(root);\n",
       "  } else {\n",
       "    var attempts = 0;\n",
       "    var timer = setInterval(function(root) {\n",
       "      if (root.Bokeh !== undefined) {\n",
       "        embed_document(root);\n",
       "        clearInterval(timer);\n",
       "      }\n",
       "      attempts++;\n",
       "      if (attempts > 100) {\n",
       "        console.log(\"Bokeh: ERROR: Unable to run BokehJS code because BokehJS library is missing\");\n",
       "        clearInterval(timer);\n",
       "      }\n",
       "    }, 10, root)\n",
       "  }\n",
       "})(window);"
      ],
      "application/vnd.bokehjs_exec.v0+json": ""
     },
     "metadata": {
      "application/vnd.bokehjs_exec.v0+json": {
       "id": "1788"
      }
     },
     "output_type": "display_data"
    }
   ],
   "source": [
    "x= figure(plot_width=400,plot_height=400)\n",
    "x.square([1,2,3,4],[8,7,6,5],size=[5,8,12,17],color=\"red\",alpha=0.3)\n",
    "show(p)"
   ]
  },
  {
   "cell_type": "code",
   "execution_count": 20,
   "metadata": {},
   "outputs": [
    {
     "data": {
      "text/html": [
       "\n",
       "\n",
       "\n",
       "\n",
       "\n",
       "\n",
       "  <div class=\"bk-root\" id=\"fd8668c2-d0db-4efc-886e-36e1ce801b3a\" data-root-id=\"2175\"></div>\n"
      ]
     },
     "metadata": {},
     "output_type": "display_data"
    },
    {
     "data": {
      "application/javascript": [
       "(function(root) {\n",
       "  function embed_document(root) {\n",
       "    \n",
       "  var docs_json = {\"c8324595-70fc-4f26-b679-12fffa2fce44\":{\"roots\":{\"references\":[{\"attributes\":{\"below\":[{\"id\":\"2184\",\"type\":\"LinearAxis\"}],\"left\":[{\"id\":\"2189\",\"type\":\"LinearAxis\"}],\"plot_height\":300,\"plot_width\":300,\"renderers\":[{\"id\":\"2184\",\"type\":\"LinearAxis\"},{\"id\":\"2188\",\"type\":\"Grid\"},{\"id\":\"2189\",\"type\":\"LinearAxis\"},{\"id\":\"2193\",\"type\":\"Grid\"},{\"id\":\"2202\",\"type\":\"BoxAnnotation\"},{\"id\":\"2212\",\"type\":\"GlyphRenderer\"},{\"id\":\"2217\",\"type\":\"GlyphRenderer\"},{\"id\":\"2222\",\"type\":\"GlyphRenderer\"}],\"title\":{\"id\":\"2285\",\"type\":\"Title\"},\"toolbar\":{\"id\":\"2200\",\"type\":\"Toolbar\"},\"x_range\":{\"id\":\"2176\",\"type\":\"DataRange1d\"},\"x_scale\":{\"id\":\"2180\",\"type\":\"LinearScale\"},\"y_range\":{\"id\":\"2178\",\"type\":\"DataRange1d\"},\"y_scale\":{\"id\":\"2182\",\"type\":\"LinearScale\"}},\"id\":\"2175\",\"subtype\":\"Figure\",\"type\":\"Plot\"},{\"attributes\":{\"callback\":null,\"data\":{\"x\":[1,5,7,2],\"y\":[3,1,5,6]},\"selected\":{\"id\":\"2291\",\"type\":\"Selection\"},\"selection_policy\":{\"id\":\"2292\",\"type\":\"UnionRenderers\"}},\"id\":\"2209\",\"type\":\"ColumnDataSource\"},{\"attributes\":{\"fill_alpha\":{\"value\":0.5},\"fill_color\":{\"value\":\"yellow\"},\"line_alpha\":{\"value\":0.5},\"line_color\":{\"value\":\"red\"},\"size\":{\"units\":\"screen\",\"value\":14},\"x\":{\"field\":\"x\"},\"y\":{\"field\":\"y\"}},\"id\":\"2215\",\"type\":\"Circle\"},{\"attributes\":{\"fill_alpha\":{\"value\":0.1},\"fill_color\":{\"value\":\"#1f77b4\"},\"line_alpha\":{\"value\":0.1},\"line_color\":{\"value\":\"#1f77b4\"},\"size\":{\"units\":\"screen\",\"value\":14},\"x\":{\"field\":\"x\"},\"y\":{\"field\":\"y\"}},\"id\":\"2216\",\"type\":\"Circle\"},{\"attributes\":{},\"id\":\"2182\",\"type\":\"LinearScale\"},{\"attributes\":{\"data_source\":{\"id\":\"2214\",\"type\":\"ColumnDataSource\"},\"glyph\":{\"id\":\"2215\",\"type\":\"Circle\"},\"hover_glyph\":null,\"muted_glyph\":null,\"nonselection_glyph\":{\"id\":\"2216\",\"type\":\"Circle\"},\"selection_glyph\":null,\"view\":{\"id\":\"2218\",\"type\":\"CDSView\"}},\"id\":\"2217\",\"type\":\"GlyphRenderer\"},{\"attributes\":{\"plot\":{\"id\":\"2175\",\"subtype\":\"Figure\",\"type\":\"Plot\"},\"ticker\":{\"id\":\"2185\",\"type\":\"BasicTicker\"}},\"id\":\"2188\",\"type\":\"Grid\"},{\"attributes\":{},\"id\":\"2185\",\"type\":\"BasicTicker\"},{\"attributes\":{\"dimension\":1,\"plot\":{\"id\":\"2175\",\"subtype\":\"Figure\",\"type\":\"Plot\"},\"ticker\":{\"id\":\"2190\",\"type\":\"BasicTicker\"}},\"id\":\"2193\",\"type\":\"Grid\"},{\"attributes\":{\"source\":{\"id\":\"2214\",\"type\":\"ColumnDataSource\"}},\"id\":\"2218\",\"type\":\"CDSView\"},{\"attributes\":{\"callback\":null,\"data\":{\"x\":[3,8,5,9],\"y\":[8,4,5,3]},\"selected\":{\"id\":\"2293\",\"type\":\"Selection\"},\"selection_policy\":{\"id\":\"2294\",\"type\":\"UnionRenderers\"}},\"id\":\"2214\",\"type\":\"ColumnDataSource\"},{\"attributes\":{},\"id\":\"2295\",\"type\":\"Selection\"},{\"attributes\":{\"fill_alpha\":{\"value\":0.8},\"fill_color\":{\"value\":\"blue\"},\"line_alpha\":{\"value\":0.8},\"line_color\":{\"value\":\"blue\"},\"size\":{\"units\":\"screen\",\"value\":12},\"x\":{\"field\":\"x\"},\"y\":{\"field\":\"y\"}},\"id\":\"2220\",\"type\":\"Square\"},{\"attributes\":{\"fill_alpha\":{\"value\":0.3},\"fill_color\":{\"value\":\"green\"},\"line_alpha\":{\"value\":0.3},\"line_color\":{\"value\":\"green\"},\"size\":{\"units\":\"screen\",\"value\":16},\"x\":{\"field\":\"x\"},\"y\":{\"field\":\"y\"}},\"id\":\"2210\",\"type\":\"Diamond\"},{\"attributes\":{\"fill_alpha\":{\"value\":0.1},\"fill_color\":{\"value\":\"#1f77b4\"},\"line_alpha\":{\"value\":0.1},\"line_color\":{\"value\":\"#1f77b4\"},\"size\":{\"units\":\"screen\",\"value\":12},\"x\":{\"field\":\"x\"},\"y\":{\"field\":\"y\"}},\"id\":\"2221\",\"type\":\"Square\"},{\"attributes\":{\"overlay\":{\"id\":\"2202\",\"type\":\"BoxAnnotation\"}},\"id\":\"2196\",\"type\":\"BoxZoomTool\"},{\"attributes\":{\"data_source\":{\"id\":\"2219\",\"type\":\"ColumnDataSource\"},\"glyph\":{\"id\":\"2220\",\"type\":\"Square\"},\"hover_glyph\":null,\"muted_glyph\":null,\"nonselection_glyph\":{\"id\":\"2221\",\"type\":\"Square\"},\"selection_glyph\":null,\"view\":{\"id\":\"2223\",\"type\":\"CDSView\"}},\"id\":\"2222\",\"type\":\"GlyphRenderer\"},{\"attributes\":{\"callback\":null},\"id\":\"2178\",\"type\":\"DataRange1d\"},{\"attributes\":{},\"id\":\"2190\",\"type\":\"BasicTicker\"},{\"attributes\":{\"source\":{\"id\":\"2219\",\"type\":\"ColumnDataSource\"}},\"id\":\"2223\",\"type\":\"CDSView\"},{\"attributes\":{\"bottom_units\":\"screen\",\"fill_alpha\":{\"value\":0.5},\"fill_color\":{\"value\":\"lightgrey\"},\"left_units\":\"screen\",\"level\":\"overlay\",\"line_alpha\":{\"value\":1.0},\"line_color\":{\"value\":\"black\"},\"line_dash\":[4,4],\"line_width\":{\"value\":2},\"plot\":null,\"render_mode\":\"css\",\"right_units\":\"screen\",\"top_units\":\"screen\"},\"id\":\"2202\",\"type\":\"BoxAnnotation\"},{\"attributes\":{},\"id\":\"2287\",\"type\":\"BasicTickFormatter\"},{\"attributes\":{},\"id\":\"2293\",\"type\":\"Selection\"},{\"attributes\":{\"plot\":null,\"text\":\"\"},\"id\":\"2285\",\"type\":\"Title\"},{\"attributes\":{},\"id\":\"2198\",\"type\":\"ResetTool\"},{\"attributes\":{\"formatter\":{\"id\":\"2289\",\"type\":\"BasicTickFormatter\"},\"plot\":{\"id\":\"2175\",\"subtype\":\"Figure\",\"type\":\"Plot\"},\"ticker\":{\"id\":\"2190\",\"type\":\"BasicTicker\"}},\"id\":\"2189\",\"type\":\"LinearAxis\"},{\"attributes\":{},\"id\":\"2289\",\"type\":\"BasicTickFormatter\"},{\"attributes\":{},\"id\":\"2180\",\"type\":\"LinearScale\"},{\"attributes\":{},\"id\":\"2199\",\"type\":\"HelpTool\"},{\"attributes\":{\"callback\":null,\"data\":{\"x\":[2,4,3,6],\"y\":[3,1,5,2]},\"selected\":{\"id\":\"2295\",\"type\":\"Selection\"},\"selection_policy\":{\"id\":\"2296\",\"type\":\"UnionRenderers\"}},\"id\":\"2219\",\"type\":\"ColumnDataSource\"},{\"attributes\":{\"source\":{\"id\":\"2209\",\"type\":\"ColumnDataSource\"}},\"id\":\"2213\",\"type\":\"CDSView\"},{\"attributes\":{},\"id\":\"2291\",\"type\":\"Selection\"},{\"attributes\":{\"active_drag\":\"auto\",\"active_inspect\":\"auto\",\"active_multi\":null,\"active_scroll\":\"auto\",\"active_tap\":\"auto\",\"tools\":[{\"id\":\"2194\",\"type\":\"PanTool\"},{\"id\":\"2195\",\"type\":\"WheelZoomTool\"},{\"id\":\"2196\",\"type\":\"BoxZoomTool\"},{\"id\":\"2197\",\"type\":\"SaveTool\"},{\"id\":\"2198\",\"type\":\"ResetTool\"},{\"id\":\"2199\",\"type\":\"HelpTool\"}]},\"id\":\"2200\",\"type\":\"Toolbar\"},{\"attributes\":{\"data_source\":{\"id\":\"2209\",\"type\":\"ColumnDataSource\"},\"glyph\":{\"id\":\"2210\",\"type\":\"Diamond\"},\"hover_glyph\":null,\"muted_glyph\":null,\"nonselection_glyph\":{\"id\":\"2211\",\"type\":\"Diamond\"},\"selection_glyph\":null,\"view\":{\"id\":\"2213\",\"type\":\"CDSView\"}},\"id\":\"2212\",\"type\":\"GlyphRenderer\"},{\"attributes\":{\"formatter\":{\"id\":\"2287\",\"type\":\"BasicTickFormatter\"},\"plot\":{\"id\":\"2175\",\"subtype\":\"Figure\",\"type\":\"Plot\"},\"ticker\":{\"id\":\"2185\",\"type\":\"BasicTicker\"}},\"id\":\"2184\",\"type\":\"LinearAxis\"},{\"attributes\":{},\"id\":\"2292\",\"type\":\"UnionRenderers\"},{\"attributes\":{\"fill_alpha\":{\"value\":0.1},\"fill_color\":{\"value\":\"#1f77b4\"},\"line_alpha\":{\"value\":0.1},\"line_color\":{\"value\":\"#1f77b4\"},\"size\":{\"units\":\"screen\",\"value\":16},\"x\":{\"field\":\"x\"},\"y\":{\"field\":\"y\"}},\"id\":\"2211\",\"type\":\"Diamond\"},{\"attributes\":{\"callback\":null},\"id\":\"2176\",\"type\":\"DataRange1d\"},{\"attributes\":{},\"id\":\"2194\",\"type\":\"PanTool\"},{\"attributes\":{},\"id\":\"2197\",\"type\":\"SaveTool\"},{\"attributes\":{},\"id\":\"2296\",\"type\":\"UnionRenderers\"},{\"attributes\":{},\"id\":\"2294\",\"type\":\"UnionRenderers\"},{\"attributes\":{},\"id\":\"2195\",\"type\":\"WheelZoomTool\"}],\"root_ids\":[\"2175\"]},\"title\":\"Bokeh Application\",\"version\":\"1.0.4\"}};\n",
       "  var render_items = [{\"docid\":\"c8324595-70fc-4f26-b679-12fffa2fce44\",\"roots\":{\"2175\":\"fd8668c2-d0db-4efc-886e-36e1ce801b3a\"}}];\n",
       "  root.Bokeh.embed.embed_items_notebook(docs_json, render_items);\n",
       "\n",
       "  }\n",
       "  if (root.Bokeh !== undefined) {\n",
       "    embed_document(root);\n",
       "  } else {\n",
       "    var attempts = 0;\n",
       "    var timer = setInterval(function(root) {\n",
       "      if (root.Bokeh !== undefined) {\n",
       "        embed_document(root);\n",
       "        clearInterval(timer);\n",
       "      }\n",
       "      attempts++;\n",
       "      if (attempts > 100) {\n",
       "        console.log(\"Bokeh: ERROR: Unable to run BokehJS code because BokehJS library is missing\");\n",
       "        clearInterval(timer);\n",
       "      }\n",
       "    }, 10, root)\n",
       "  }\n",
       "})(window);"
      ],
      "application/vnd.bokehjs_exec.v0+json": ""
     },
     "metadata": {
      "application/vnd.bokehjs_exec.v0+json": {
       "id": "2175"
      }
     },
     "output_type": "display_data"
    }
   ],
   "source": [
    "a = figure(plot_width=300,plot_height=300)\n",
    "a.diamond([1,5,7,2],[3,1,5,6],size=16,color='green',alpha=0.3)\n",
    "a.circle([3,8,5,9],[8,4,5,3],size=14,color='red',fill_color='yellow',alpha=0.5)\n",
    "a.square([2,4,3,6],[3,1,5,2],size=12,color='blue',alpha=0.8)\n",
    "show(a)"
   ]
  },
  {
   "cell_type": "markdown",
   "metadata": {},
   "source": [
    "Line plot"
   ]
  },
  {
   "cell_type": "code",
   "execution_count": 27,
   "metadata": {},
   "outputs": [
    {
     "data": {
      "text/html": [
       "\n",
       "\n",
       "\n",
       "\n",
       "\n",
       "\n",
       "  <div class=\"bk-root\" id=\"0a4f7d5c-0dfe-43ad-a077-69cd863acf39\" data-root-id=\"3774\"></div>\n"
      ]
     },
     "metadata": {},
     "output_type": "display_data"
    },
    {
     "data": {
      "application/javascript": [
       "(function(root) {\n",
       "  function embed_document(root) {\n",
       "    \n",
       "  var docs_json = {\"7dd5395b-cb8e-4764-9ae1-27944a71faf7\":{\"roots\":{\"references\":[{\"attributes\":{\"below\":[{\"id\":\"3783\",\"type\":\"LinearAxis\"}],\"left\":[{\"id\":\"3788\",\"type\":\"LinearAxis\"}],\"plot_height\":350,\"plot_width\":450,\"renderers\":[{\"id\":\"3783\",\"type\":\"LinearAxis\"},{\"id\":\"3787\",\"type\":\"Grid\"},{\"id\":\"3788\",\"type\":\"LinearAxis\"},{\"id\":\"3792\",\"type\":\"Grid\"},{\"id\":\"3801\",\"type\":\"BoxAnnotation\"},{\"id\":\"3811\",\"type\":\"GlyphRenderer\"},{\"id\":\"3816\",\"type\":\"GlyphRenderer\"},{\"id\":\"3821\",\"type\":\"GlyphRenderer\"},{\"id\":\"3826\",\"type\":\"GlyphRenderer\"}],\"title\":{\"id\":\"3976\",\"type\":\"Title\"},\"toolbar\":{\"id\":\"3799\",\"type\":\"Toolbar\"},\"x_range\":{\"id\":\"3775\",\"type\":\"DataRange1d\"},\"x_scale\":{\"id\":\"3779\",\"type\":\"LinearScale\"},\"y_range\":{\"id\":\"3777\",\"type\":\"DataRange1d\"},\"y_scale\":{\"id\":\"3781\",\"type\":\"LinearScale\"}},\"id\":\"3774\",\"subtype\":\"Figure\",\"type\":\"Plot\"},{\"attributes\":{\"plot\":null,\"text\":\"\"},\"id\":\"3976\",\"type\":\"Title\"},{\"attributes\":{\"fill_color\":{\"value\":\"black\"},\"line_color\":{\"value\":\"green\"},\"size\":{\"units\":\"screen\",\"value\":14},\"x\":{\"field\":\"x\"},\"y\":{\"field\":\"y\"}},\"id\":\"3814\",\"type\":\"Triangle\"},{\"attributes\":{},\"id\":\"3793\",\"type\":\"PanTool\"},{\"attributes\":{},\"id\":\"3978\",\"type\":\"BasicTickFormatter\"},{\"attributes\":{},\"id\":\"3794\",\"type\":\"WheelZoomTool\"},{\"attributes\":{\"line_color\":\"red\",\"line_width\":3,\"x\":{\"field\":\"x\"},\"y\":{\"field\":\"y\"}},\"id\":\"3809\",\"type\":\"Line\"},{\"attributes\":{\"data_source\":{\"id\":\"3823\",\"type\":\"ColumnDataSource\"},\"glyph\":{\"id\":\"3824\",\"type\":\"Circle\"},\"hover_glyph\":null,\"muted_glyph\":null,\"nonselection_glyph\":{\"id\":\"3825\",\"type\":\"Circle\"},\"selection_glyph\":null,\"view\":{\"id\":\"3827\",\"type\":\"CDSView\"}},\"id\":\"3826\",\"type\":\"GlyphRenderer\"},{\"attributes\":{\"source\":{\"id\":\"3823\",\"type\":\"ColumnDataSource\"}},\"id\":\"3827\",\"type\":\"CDSView\"},{\"attributes\":{},\"id\":\"3796\",\"type\":\"SaveTool\"},{\"attributes\":{},\"id\":\"3797\",\"type\":\"ResetTool\"},{\"attributes\":{\"dimension\":1,\"plot\":{\"id\":\"3774\",\"subtype\":\"Figure\",\"type\":\"Plot\"},\"ticker\":{\"id\":\"3789\",\"type\":\"BasicTicker\"}},\"id\":\"3792\",\"type\":\"Grid\"},{\"attributes\":{},\"id\":\"3980\",\"type\":\"BasicTickFormatter\"},{\"attributes\":{},\"id\":\"3798\",\"type\":\"HelpTool\"},{\"attributes\":{},\"id\":\"3781\",\"type\":\"LinearScale\"},{\"attributes\":{},\"id\":\"3982\",\"type\":\"Selection\"},{\"attributes\":{\"active_drag\":\"auto\",\"active_inspect\":\"auto\",\"active_multi\":null,\"active_scroll\":\"auto\",\"active_tap\":\"auto\",\"tools\":[{\"id\":\"3793\",\"type\":\"PanTool\"},{\"id\":\"3794\",\"type\":\"WheelZoomTool\"},{\"id\":\"3795\",\"type\":\"BoxZoomTool\"},{\"id\":\"3796\",\"type\":\"SaveTool\"},{\"id\":\"3797\",\"type\":\"ResetTool\"},{\"id\":\"3798\",\"type\":\"HelpTool\"}]},\"id\":\"3799\",\"type\":\"Toolbar\"},{\"attributes\":{\"formatter\":{\"id\":\"3978\",\"type\":\"BasicTickFormatter\"},\"plot\":{\"id\":\"3774\",\"subtype\":\"Figure\",\"type\":\"Plot\"},\"ticker\":{\"id\":\"3784\",\"type\":\"BasicTicker\"}},\"id\":\"3783\",\"type\":\"LinearAxis\"},{\"attributes\":{\"data_source\":{\"id\":\"3813\",\"type\":\"ColumnDataSource\"},\"glyph\":{\"id\":\"3814\",\"type\":\"Triangle\"},\"hover_glyph\":null,\"muted_glyph\":null,\"nonselection_glyph\":{\"id\":\"3815\",\"type\":\"Triangle\"},\"selection_glyph\":null,\"view\":{\"id\":\"3817\",\"type\":\"CDSView\"}},\"id\":\"3816\",\"type\":\"GlyphRenderer\"},{\"attributes\":{},\"id\":\"3983\",\"type\":\"UnionRenderers\"},{\"attributes\":{\"bottom_units\":\"screen\",\"fill_alpha\":{\"value\":0.5},\"fill_color\":{\"value\":\"lightgrey\"},\"left_units\":\"screen\",\"level\":\"overlay\",\"line_alpha\":{\"value\":1.0},\"line_color\":{\"value\":\"black\"},\"line_dash\":[4,4],\"line_width\":{\"value\":2},\"plot\":null,\"render_mode\":\"css\",\"right_units\":\"screen\",\"top_units\":\"screen\"},\"id\":\"3801\",\"type\":\"BoxAnnotation\"},{\"attributes\":{\"callback\":null,\"data\":{\"x\":[1,4,6,8],\"y\":[3,9,2,5]},\"selected\":{\"id\":\"3982\",\"type\":\"Selection\"},\"selection_policy\":{\"id\":\"3983\",\"type\":\"UnionRenderers\"}},\"id\":\"3808\",\"type\":\"ColumnDataSource\"},{\"attributes\":{},\"id\":\"3984\",\"type\":\"Selection\"},{\"attributes\":{},\"id\":\"3784\",\"type\":\"BasicTicker\"},{\"attributes\":{\"plot\":{\"id\":\"3774\",\"subtype\":\"Figure\",\"type\":\"Plot\"},\"ticker\":{\"id\":\"3784\",\"type\":\"BasicTicker\"}},\"id\":\"3787\",\"type\":\"Grid\"},{\"attributes\":{},\"id\":\"3985\",\"type\":\"UnionRenderers\"},{\"attributes\":{\"source\":{\"id\":\"3813\",\"type\":\"ColumnDataSource\"}},\"id\":\"3817\",\"type\":\"CDSView\"},{\"attributes\":{\"formatter\":{\"id\":\"3980\",\"type\":\"BasicTickFormatter\"},\"plot\":{\"id\":\"3774\",\"subtype\":\"Figure\",\"type\":\"Plot\"},\"ticker\":{\"id\":\"3789\",\"type\":\"BasicTicker\"}},\"id\":\"3788\",\"type\":\"LinearAxis\"},{\"attributes\":{},\"id\":\"3986\",\"type\":\"Selection\"},{\"attributes\":{\"callback\":null,\"data\":{\"x\":[1,2,3,5],\"y\":[6,7,8,9]},\"selected\":{\"id\":\"3988\",\"type\":\"Selection\"},\"selection_policy\":{\"id\":\"3989\",\"type\":\"UnionRenderers\"}},\"id\":\"3823\",\"type\":\"ColumnDataSource\"},{\"attributes\":{},\"id\":\"3789\",\"type\":\"BasicTicker\"},{\"attributes\":{},\"id\":\"3987\",\"type\":\"UnionRenderers\"},{\"attributes\":{\"line_color\":\"purple\",\"line_width\":3,\"x\":{\"field\":\"x\"},\"y\":{\"field\":\"y\"}},\"id\":\"3819\",\"type\":\"Line\"},{\"attributes\":{},\"id\":\"3988\",\"type\":\"Selection\"},{\"attributes\":{\"data_source\":{\"id\":\"3808\",\"type\":\"ColumnDataSource\"},\"glyph\":{\"id\":\"3809\",\"type\":\"Line\"},\"hover_glyph\":null,\"muted_glyph\":null,\"nonselection_glyph\":{\"id\":\"3810\",\"type\":\"Line\"},\"selection_glyph\":null,\"view\":{\"id\":\"3812\",\"type\":\"CDSView\"}},\"id\":\"3811\",\"type\":\"GlyphRenderer\"},{\"attributes\":{},\"id\":\"3779\",\"type\":\"LinearScale\"},{\"attributes\":{\"line_alpha\":0.1,\"line_color\":\"#1f77b4\",\"line_width\":3,\"x\":{\"field\":\"x\"},\"y\":{\"field\":\"y\"}},\"id\":\"3820\",\"type\":\"Line\"},{\"attributes\":{\"line_alpha\":0.1,\"line_color\":\"#1f77b4\",\"line_width\":3,\"x\":{\"field\":\"x\"},\"y\":{\"field\":\"y\"}},\"id\":\"3810\",\"type\":\"Line\"},{\"attributes\":{\"callback\":null,\"data\":{\"x\":[1,4,6,8],\"y\":[3,9,2,5]},\"selected\":{\"id\":\"3984\",\"type\":\"Selection\"},\"selection_policy\":{\"id\":\"3985\",\"type\":\"UnionRenderers\"}},\"id\":\"3813\",\"type\":\"ColumnDataSource\"},{\"attributes\":{},\"id\":\"3989\",\"type\":\"UnionRenderers\"},{\"attributes\":{\"data_source\":{\"id\":\"3818\",\"type\":\"ColumnDataSource\"},\"glyph\":{\"id\":\"3819\",\"type\":\"Line\"},\"hover_glyph\":null,\"muted_glyph\":null,\"nonselection_glyph\":{\"id\":\"3820\",\"type\":\"Line\"},\"selection_glyph\":null,\"view\":{\"id\":\"3822\",\"type\":\"CDSView\"}},\"id\":\"3821\",\"type\":\"GlyphRenderer\"},{\"attributes\":{\"callback\":null},\"id\":\"3777\",\"type\":\"DataRange1d\"},{\"attributes\":{\"source\":{\"id\":\"3818\",\"type\":\"ColumnDataSource\"}},\"id\":\"3822\",\"type\":\"CDSView\"},{\"attributes\":{\"callback\":null},\"id\":\"3775\",\"type\":\"DataRange1d\"},{\"attributes\":{\"fill_alpha\":{\"value\":0.1},\"fill_color\":{\"value\":\"#1f77b4\"},\"line_alpha\":{\"value\":0.1},\"line_color\":{\"value\":\"#1f77b4\"},\"size\":{\"units\":\"screen\",\"value\":14},\"x\":{\"field\":\"x\"},\"y\":{\"field\":\"y\"}},\"id\":\"3815\",\"type\":\"Triangle\"},{\"attributes\":{\"fill_color\":{\"value\":\"black\"},\"line_color\":{\"value\":\"pink\"},\"size\":{\"units\":\"screen\",\"value\":14},\"x\":{\"field\":\"x\"},\"y\":{\"field\":\"y\"}},\"id\":\"3824\",\"type\":\"Circle\"},{\"attributes\":{\"source\":{\"id\":\"3808\",\"type\":\"ColumnDataSource\"}},\"id\":\"3812\",\"type\":\"CDSView\"},{\"attributes\":{\"overlay\":{\"id\":\"3801\",\"type\":\"BoxAnnotation\"}},\"id\":\"3795\",\"type\":\"BoxZoomTool\"},{\"attributes\":{\"callback\":null,\"data\":{\"x\":[1,2,3,5],\"y\":[6,7,8,9]},\"selected\":{\"id\":\"3986\",\"type\":\"Selection\"},\"selection_policy\":{\"id\":\"3987\",\"type\":\"UnionRenderers\"}},\"id\":\"3818\",\"type\":\"ColumnDataSource\"},{\"attributes\":{\"fill_alpha\":{\"value\":0.1},\"fill_color\":{\"value\":\"#1f77b4\"},\"line_alpha\":{\"value\":0.1},\"line_color\":{\"value\":\"#1f77b4\"},\"size\":{\"units\":\"screen\",\"value\":14},\"x\":{\"field\":\"x\"},\"y\":{\"field\":\"y\"}},\"id\":\"3825\",\"type\":\"Circle\"}],\"root_ids\":[\"3774\"]},\"title\":\"Bokeh Application\",\"version\":\"1.0.4\"}};\n",
       "  var render_items = [{\"docid\":\"7dd5395b-cb8e-4764-9ae1-27944a71faf7\",\"roots\":{\"3774\":\"0a4f7d5c-0dfe-43ad-a077-69cd863acf39\"}}];\n",
       "  root.Bokeh.embed.embed_items_notebook(docs_json, render_items);\n",
       "\n",
       "  }\n",
       "  if (root.Bokeh !== undefined) {\n",
       "    embed_document(root);\n",
       "  } else {\n",
       "    var attempts = 0;\n",
       "    var timer = setInterval(function(root) {\n",
       "      if (root.Bokeh !== undefined) {\n",
       "        embed_document(root);\n",
       "        clearInterval(timer);\n",
       "      }\n",
       "      attempts++;\n",
       "      if (attempts > 100) {\n",
       "        console.log(\"Bokeh: ERROR: Unable to run BokehJS code because BokehJS library is missing\");\n",
       "        clearInterval(timer);\n",
       "      }\n",
       "    }, 10, root)\n",
       "  }\n",
       "})(window);"
      ],
      "application/vnd.bokehjs_exec.v0+json": ""
     },
     "metadata": {
      "application/vnd.bokehjs_exec.v0+json": {
       "id": "3774"
      }
     },
     "output_type": "display_data"
    }
   ],
   "source": [
    "l = figure(plot_width=450,plot_height=350)\n",
    "l.line([1,4,6,8],[3,9,2,5],line_width=3,color='red')\n",
    "l.triangle([1,4,6,8],[3,9,2,5],size=14,fill_color='black',color='green')\n",
    "\n",
    "l.line([1,2,3,5],[6,7,8,9],line_width=3,color='purple')\n",
    "l.circle([1,2,3,5],[6,7,8,9],size=14,fill_color='black',color='pink')\n",
    "show(l)"
   ]
  },
  {
   "cell_type": "markdown",
   "metadata": {},
   "source": [
    "Grid plot"
   ]
  },
  {
   "cell_type": "code",
   "execution_count": 28,
   "metadata": {},
   "outputs": [],
   "source": [
    "from bokeh.layouts import gridplot"
   ]
  },
  {
   "cell_type": "code",
   "execution_count": 29,
   "metadata": {},
   "outputs": [],
   "source": [
    "x = [-3,-5,-2,-6,-7,-1,5,6,3,8,9] "
   ]
  },
  {
   "cell_type": "code",
   "execution_count": 46,
   "metadata": {},
   "outputs": [],
   "source": [
    "a = [i*0.5 for i in x]\n",
    "b = [i**2 for i in  x]\n",
    "c = [i**3 for i in  x]"
   ]
  },
  {
   "cell_type": "code",
   "execution_count": 48,
   "metadata": {},
   "outputs": [
    {
     "data": {
      "text/plain": [
       "(([-3, -5, -2, -6, -7, -1, 5, 6, 3, 8, 9],\n",
       "  [-1.5, -2.5, -1.0, -3.0, -3.5, -0.5, 2.5, 3.0, 1.5, 4.0, 4.5]),\n",
       " ([-3, -5, -2, -6, -7, -1, 5, 6, 3, 8, 9],\n",
       "  [9, 25, 4, 36, 49, 1, 25, 36, 9, 64, 81]),\n",
       " ([-3, -5, -2, -6, -7, -1, 5, 6, 3, 8, 9],\n",
       "  [-27, -125, -8, -216, -343, -1, 125, 216, 27, 512, 729]))"
      ]
     },
     "execution_count": 48,
     "metadata": {},
     "output_type": "execute_result"
    }
   ],
   "source": [
    "(x,a),(x,b),(x,c)"
   ]
  },
  {
   "cell_type": "code",
   "execution_count": 52,
   "metadata": {},
   "outputs": [
    {
     "data": {
      "text/html": [
       "\n",
       "\n",
       "\n",
       "\n",
       "\n",
       "\n",
       "  <div class=\"bk-root\" id=\"abf7aee2-7bc3-4bfd-b88f-1df8d0a93907\" data-root-id=\"4952\"></div>\n"
      ]
     },
     "metadata": {},
     "output_type": "display_data"
    },
    {
     "data": {
      "application/javascript": [
       "(function(root) {\n",
       "  function embed_document(root) {\n",
       "    \n",
       "  var docs_json = {\"f0d94373-84ad-4be3-9cae-05907b8f3206\":{\"roots\":{\"references\":[{\"attributes\":{\"children\":[{\"id\":\"4951\",\"type\":\"ToolbarBox\"},{\"id\":\"4949\",\"type\":\"Column\"}]},\"id\":\"4952\",\"type\":\"Column\"},{\"attributes\":{},\"id\":\"4820\",\"type\":\"PanTool\"},{\"attributes\":{},\"id\":\"4821\",\"type\":\"WheelZoomTool\"},{\"attributes\":{},\"id\":\"4823\",\"type\":\"SaveTool\"},{\"attributes\":{},\"id\":\"4824\",\"type\":\"ResetTool\"},{\"attributes\":{},\"id\":\"4825\",\"type\":\"HelpTool\"},{\"attributes\":{\"active_drag\":\"auto\",\"active_inspect\":\"auto\",\"active_multi\":null,\"active_scroll\":\"auto\",\"active_tap\":\"auto\",\"tools\":[{\"id\":\"4820\",\"type\":\"PanTool\"},{\"id\":\"4821\",\"type\":\"WheelZoomTool\"},{\"id\":\"4822\",\"type\":\"BoxZoomTool\"},{\"id\":\"4823\",\"type\":\"SaveTool\"},{\"id\":\"4824\",\"type\":\"ResetTool\"},{\"id\":\"4825\",\"type\":\"HelpTool\"}]},\"id\":\"4826\",\"type\":\"Toolbar\"},{\"attributes\":{\"data_source\":{\"id\":\"4835\",\"type\":\"ColumnDataSource\"},\"glyph\":{\"id\":\"4836\",\"type\":\"Circle\"},\"hover_glyph\":null,\"muted_glyph\":null,\"nonselection_glyph\":{\"id\":\"4837\",\"type\":\"Circle\"},\"selection_glyph\":null,\"view\":{\"id\":\"4839\",\"type\":\"CDSView\"}},\"id\":\"4838\",\"type\":\"GlyphRenderer\"},{\"attributes\":{\"bottom_units\":\"screen\",\"fill_alpha\":{\"value\":0.5},\"fill_color\":{\"value\":\"lightgrey\"},\"left_units\":\"screen\",\"level\":\"overlay\",\"line_alpha\":{\"value\":1.0},\"line_color\":{\"value\":\"black\"},\"line_dash\":[4,4],\"line_width\":{\"value\":2},\"plot\":null,\"render_mode\":\"css\",\"right_units\":\"screen\",\"top_units\":\"screen\"},\"id\":\"4828\",\"type\":\"BoxAnnotation\"},{\"attributes\":{\"source\":{\"id\":\"4835\",\"type\":\"ColumnDataSource\"}},\"id\":\"4839\",\"type\":\"CDSView\"},{\"attributes\":{\"callback\":null,\"data\":{\"x\":[-3,-5,-2,-6,-7,-1,5,6,3,8,9],\"y\":[9,25,4,36,49,1,25,36,9,64,81]},\"selected\":{\"id\":\"4935\",\"type\":\"Selection\"},\"selection_policy\":{\"id\":\"4936\",\"type\":\"UnionRenderers\"}},\"id\":\"4874\",\"type\":\"ColumnDataSource\"},{\"attributes\":{\"callback\":null},\"id\":\"4841\",\"type\":\"DataRange1d\"},{\"attributes\":{\"callback\":null},\"id\":\"4843\",\"type\":\"DataRange1d\"},{\"attributes\":{},\"id\":\"4845\",\"type\":\"LinearScale\"},{\"attributes\":{},\"id\":\"4894\",\"type\":\"BasicTicker\"},{\"attributes\":{},\"id\":\"4847\",\"type\":\"LinearScale\"},{\"attributes\":{\"formatter\":{\"id\":\"4931\",\"type\":\"BasicTickFormatter\"},\"plot\":{\"id\":\"4840\",\"subtype\":\"Figure\",\"type\":\"Plot\"},\"ticker\":{\"id\":\"4850\",\"type\":\"BasicTicker\"}},\"id\":\"4849\",\"type\":\"LinearAxis\"},{\"attributes\":{},\"id\":\"4850\",\"type\":\"BasicTicker\"},{\"attributes\":{\"plot\":{\"id\":\"4840\",\"subtype\":\"Figure\",\"type\":\"Plot\"},\"ticker\":{\"id\":\"4850\",\"type\":\"BasicTicker\"}},\"id\":\"4853\",\"type\":\"Grid\"},{\"attributes\":{\"formatter\":{\"id\":\"4933\",\"type\":\"BasicTickFormatter\"},\"plot\":{\"id\":\"4840\",\"subtype\":\"Figure\",\"type\":\"Plot\"},\"ticker\":{\"id\":\"4855\",\"type\":\"BasicTicker\"}},\"id\":\"4854\",\"type\":\"LinearAxis\"},{\"attributes\":{\"data_source\":{\"id\":\"4913\",\"type\":\"ColumnDataSource\"},\"glyph\":{\"id\":\"4914\",\"type\":\"Circle\"},\"hover_glyph\":null,\"muted_glyph\":null,\"nonselection_glyph\":{\"id\":\"4915\",\"type\":\"Circle\"},\"selection_glyph\":null,\"view\":{\"id\":\"4917\",\"type\":\"CDSView\"}},\"id\":\"4916\",\"type\":\"GlyphRenderer\"},{\"attributes\":{},\"id\":\"4855\",\"type\":\"BasicTicker\"},{\"attributes\":{},\"id\":\"4811\",\"type\":\"BasicTicker\"},{\"attributes\":{\"dimension\":1,\"plot\":{\"id\":\"4840\",\"subtype\":\"Figure\",\"type\":\"Plot\"},\"ticker\":{\"id\":\"4855\",\"type\":\"BasicTicker\"}},\"id\":\"4858\",\"type\":\"Grid\"},{\"attributes\":{\"fill_alpha\":{\"value\":0.1},\"fill_color\":{\"value\":\"#1f77b4\"},\"line_alpha\":{\"value\":0.1},\"line_color\":{\"value\":\"#1f77b4\"},\"size\":{\"units\":\"screen\",\"value\":12},\"x\":{\"field\":\"x\"},\"y\":{\"field\":\"y\"}},\"id\":\"4876\",\"type\":\"Circle\"},{\"attributes\":{\"fill_alpha\":{\"value\":0.6},\"fill_color\":{\"value\":\"red\"},\"line_alpha\":{\"value\":0.6},\"line_color\":{\"value\":\"red\"},\"size\":{\"units\":\"screen\",\"value\":12},\"x\":{\"field\":\"x\"},\"y\":{\"field\":\"y\"}},\"id\":\"4875\",\"type\":\"Circle\"},{\"attributes\":{\"below\":[{\"id\":\"4888\",\"type\":\"LinearAxis\"}],\"left\":[{\"id\":\"4893\",\"type\":\"LinearAxis\"}],\"plot_height\":250,\"plot_width\":250,\"renderers\":[{\"id\":\"4888\",\"type\":\"LinearAxis\"},{\"id\":\"4892\",\"type\":\"Grid\"},{\"id\":\"4893\",\"type\":\"LinearAxis\"},{\"id\":\"4897\",\"type\":\"Grid\"},{\"id\":\"4906\",\"type\":\"BoxAnnotation\"},{\"id\":\"4916\",\"type\":\"GlyphRenderer\"}],\"title\":{\"id\":\"4939\",\"type\":\"Title\"},\"toolbar\":{\"id\":\"4904\",\"type\":\"Toolbar\"},\"toolbar_location\":null,\"x_range\":{\"id\":\"4880\",\"type\":\"DataRange1d\"},\"x_scale\":{\"id\":\"4884\",\"type\":\"LinearScale\"},\"y_range\":{\"id\":\"4882\",\"type\":\"DataRange1d\"},\"y_scale\":{\"id\":\"4886\",\"type\":\"LinearScale\"}},\"id\":\"4879\",\"subtype\":\"Figure\",\"type\":\"Plot\"},{\"attributes\":{\"callback\":null},\"id\":\"4804\",\"type\":\"DataRange1d\"},{\"attributes\":{},\"id\":\"4859\",\"type\":\"PanTool\"},{\"attributes\":{},\"id\":\"4806\",\"type\":\"LinearScale\"},{\"attributes\":{},\"id\":\"4860\",\"type\":\"WheelZoomTool\"},{\"attributes\":{\"overlay\":{\"id\":\"4867\",\"type\":\"BoxAnnotation\"}},\"id\":\"4861\",\"type\":\"BoxZoomTool\"},{\"attributes\":{},\"id\":\"4862\",\"type\":\"SaveTool\"},{\"attributes\":{},\"id\":\"4863\",\"type\":\"ResetTool\"},{\"attributes\":{},\"id\":\"4864\",\"type\":\"HelpTool\"},{\"attributes\":{\"active_drag\":\"auto\",\"active_inspect\":\"auto\",\"active_multi\":null,\"active_scroll\":\"auto\",\"active_tap\":\"auto\",\"tools\":[{\"id\":\"4859\",\"type\":\"PanTool\"},{\"id\":\"4860\",\"type\":\"WheelZoomTool\"},{\"id\":\"4861\",\"type\":\"BoxZoomTool\"},{\"id\":\"4862\",\"type\":\"SaveTool\"},{\"id\":\"4863\",\"type\":\"ResetTool\"},{\"id\":\"4864\",\"type\":\"HelpTool\"}]},\"id\":\"4865\",\"type\":\"Toolbar\"},{\"attributes\":{\"data_source\":{\"id\":\"4874\",\"type\":\"ColumnDataSource\"},\"glyph\":{\"id\":\"4875\",\"type\":\"Circle\"},\"hover_glyph\":null,\"muted_glyph\":null,\"nonselection_glyph\":{\"id\":\"4876\",\"type\":\"Circle\"},\"selection_glyph\":null,\"view\":{\"id\":\"4878\",\"type\":\"CDSView\"}},\"id\":\"4877\",\"type\":\"GlyphRenderer\"},{\"attributes\":{\"callback\":null},\"id\":\"4802\",\"type\":\"DataRange1d\"},{\"attributes\":{\"bottom_units\":\"screen\",\"fill_alpha\":{\"value\":0.5},\"fill_color\":{\"value\":\"lightgrey\"},\"left_units\":\"screen\",\"level\":\"overlay\",\"line_alpha\":{\"value\":1.0},\"line_color\":{\"value\":\"black\"},\"line_dash\":[4,4],\"line_width\":{\"value\":2},\"plot\":null,\"render_mode\":\"css\",\"right_units\":\"screen\",\"top_units\":\"screen\"},\"id\":\"4867\",\"type\":\"BoxAnnotation\"},{\"attributes\":{\"source\":{\"id\":\"4874\",\"type\":\"ColumnDataSource\"}},\"id\":\"4878\",\"type\":\"CDSView\"},{\"attributes\":{\"fill_alpha\":{\"value\":0.1},\"fill_color\":{\"value\":\"#1f77b4\"},\"line_alpha\":{\"value\":0.1},\"line_color\":{\"value\":\"#1f77b4\"},\"size\":{\"units\":\"screen\",\"value\":12},\"x\":{\"field\":\"x\"},\"y\":{\"field\":\"y\"}},\"id\":\"4837\",\"type\":\"Circle\"},{\"attributes\":{\"fill_alpha\":{\"value\":0.1},\"fill_color\":{\"value\":\"#1f77b4\"},\"line_alpha\":{\"value\":0.1},\"line_color\":{\"value\":\"#1f77b4\"},\"size\":{\"units\":\"screen\",\"value\":12},\"x\":{\"field\":\"x\"},\"y\":{\"field\":\"y\"}},\"id\":\"4915\",\"type\":\"Circle\"},{\"attributes\":{\"below\":[{\"id\":\"4810\",\"type\":\"LinearAxis\"}],\"left\":[{\"id\":\"4815\",\"type\":\"LinearAxis\"}],\"plot_height\":250,\"plot_width\":250,\"renderers\":[{\"id\":\"4810\",\"type\":\"LinearAxis\"},{\"id\":\"4814\",\"type\":\"Grid\"},{\"id\":\"4815\",\"type\":\"LinearAxis\"},{\"id\":\"4819\",\"type\":\"Grid\"},{\"id\":\"4828\",\"type\":\"BoxAnnotation\"},{\"id\":\"4838\",\"type\":\"GlyphRenderer\"}],\"title\":{\"id\":\"4919\",\"type\":\"Title\"},\"toolbar\":{\"id\":\"4826\",\"type\":\"Toolbar\"},\"toolbar_location\":null,\"x_range\":{\"id\":\"4802\",\"type\":\"DataRange1d\"},\"x_scale\":{\"id\":\"4806\",\"type\":\"LinearScale\"},\"y_range\":{\"id\":\"4804\",\"type\":\"DataRange1d\"},\"y_scale\":{\"id\":\"4808\",\"type\":\"LinearScale\"}},\"id\":\"4801\",\"subtype\":\"Figure\",\"type\":\"Plot\"},{\"attributes\":{\"formatter\":{\"id\":\"4921\",\"type\":\"BasicTickFormatter\"},\"plot\":{\"id\":\"4801\",\"subtype\":\"Figure\",\"type\":\"Plot\"},\"ticker\":{\"id\":\"4811\",\"type\":\"BasicTicker\"}},\"id\":\"4810\",\"type\":\"LinearAxis\"},{\"attributes\":{},\"id\":\"4808\",\"type\":\"LinearScale\"},{\"attributes\":{\"callback\":null},\"id\":\"4880\",\"type\":\"DataRange1d\"},{\"attributes\":{\"callback\":null},\"id\":\"4882\",\"type\":\"DataRange1d\"},{\"attributes\":{},\"id\":\"4884\",\"type\":\"LinearScale\"},{\"attributes\":{},\"id\":\"4886\",\"type\":\"LinearScale\"},{\"attributes\":{\"formatter\":{\"id\":\"4941\",\"type\":\"BasicTickFormatter\"},\"plot\":{\"id\":\"4879\",\"subtype\":\"Figure\",\"type\":\"Plot\"},\"ticker\":{\"id\":\"4889\",\"type\":\"BasicTicker\"}},\"id\":\"4888\",\"type\":\"LinearAxis\"},{\"attributes\":{},\"id\":\"4889\",\"type\":\"BasicTicker\"},{\"attributes\":{\"plot\":{\"id\":\"4879\",\"subtype\":\"Figure\",\"type\":\"Plot\"},\"ticker\":{\"id\":\"4889\",\"type\":\"BasicTicker\"}},\"id\":\"4892\",\"type\":\"Grid\"},{\"attributes\":{\"formatter\":{\"id\":\"4943\",\"type\":\"BasicTickFormatter\"},\"plot\":{\"id\":\"4879\",\"subtype\":\"Figure\",\"type\":\"Plot\"},\"ticker\":{\"id\":\"4894\",\"type\":\"BasicTicker\"}},\"id\":\"4893\",\"type\":\"LinearAxis\"},{\"attributes\":{},\"id\":\"4898\",\"type\":\"PanTool\"},{\"attributes\":{},\"id\":\"4899\",\"type\":\"WheelZoomTool\"},{\"attributes\":{\"overlay\":{\"id\":\"4906\",\"type\":\"BoxAnnotation\"}},\"id\":\"4900\",\"type\":\"BoxZoomTool\"},{\"attributes\":{},\"id\":\"4901\",\"type\":\"SaveTool\"},{\"attributes\":{},\"id\":\"4902\",\"type\":\"ResetTool\"},{\"attributes\":{},\"id\":\"4903\",\"type\":\"HelpTool\"},{\"attributes\":{\"active_drag\":\"auto\",\"active_inspect\":\"auto\",\"active_multi\":null,\"active_scroll\":\"auto\",\"active_tap\":\"auto\",\"tools\":[{\"id\":\"4898\",\"type\":\"PanTool\"},{\"id\":\"4899\",\"type\":\"WheelZoomTool\"},{\"id\":\"4900\",\"type\":\"BoxZoomTool\"},{\"id\":\"4901\",\"type\":\"SaveTool\"},{\"id\":\"4902\",\"type\":\"ResetTool\"},{\"id\":\"4903\",\"type\":\"HelpTool\"}]},\"id\":\"4904\",\"type\":\"Toolbar\"},{\"attributes\":{\"source\":{\"id\":\"4913\",\"type\":\"ColumnDataSource\"}},\"id\":\"4917\",\"type\":\"CDSView\"},{\"attributes\":{\"bottom_units\":\"screen\",\"fill_alpha\":{\"value\":0.5},\"fill_color\":{\"value\":\"lightgrey\"},\"left_units\":\"screen\",\"level\":\"overlay\",\"line_alpha\":{\"value\":1.0},\"line_color\":{\"value\":\"black\"},\"line_dash\":[4,4],\"line_width\":{\"value\":2},\"plot\":null,\"render_mode\":\"css\",\"right_units\":\"screen\",\"top_units\":\"screen\"},\"id\":\"4906\",\"type\":\"BoxAnnotation\"},{\"attributes\":{\"plot\":{\"id\":\"4801\",\"subtype\":\"Figure\",\"type\":\"Plot\"},\"ticker\":{\"id\":\"4811\",\"type\":\"BasicTicker\"}},\"id\":\"4814\",\"type\":\"Grid\"},{\"attributes\":{\"children\":[{\"id\":\"4801\",\"subtype\":\"Figure\",\"type\":\"Plot\"},{\"id\":\"4840\",\"subtype\":\"Figure\",\"type\":\"Plot\"},{\"id\":\"4879\",\"subtype\":\"Figure\",\"type\":\"Plot\"}]},\"id\":\"4948\",\"type\":\"Row\"},{\"attributes\":{\"plot\":null,\"text\":\"\"},\"id\":\"4919\",\"type\":\"Title\"},{\"attributes\":{\"children\":[{\"id\":\"4948\",\"type\":\"Row\"}]},\"id\":\"4949\",\"type\":\"Column\"},{\"attributes\":{\"below\":[{\"id\":\"4849\",\"type\":\"LinearAxis\"}],\"left\":[{\"id\":\"4854\",\"type\":\"LinearAxis\"}],\"plot_height\":250,\"plot_width\":250,\"renderers\":[{\"id\":\"4849\",\"type\":\"LinearAxis\"},{\"id\":\"4853\",\"type\":\"Grid\"},{\"id\":\"4854\",\"type\":\"LinearAxis\"},{\"id\":\"4858\",\"type\":\"Grid\"},{\"id\":\"4867\",\"type\":\"BoxAnnotation\"},{\"id\":\"4877\",\"type\":\"GlyphRenderer\"}],\"title\":{\"id\":\"4929\",\"type\":\"Title\"},\"toolbar\":{\"id\":\"4865\",\"type\":\"Toolbar\"},\"toolbar_location\":null,\"x_range\":{\"id\":\"4841\",\"type\":\"DataRange1d\"},\"x_scale\":{\"id\":\"4845\",\"type\":\"LinearScale\"},\"y_range\":{\"id\":\"4843\",\"type\":\"DataRange1d\"},\"y_scale\":{\"id\":\"4847\",\"type\":\"LinearScale\"}},\"id\":\"4840\",\"subtype\":\"Figure\",\"type\":\"Plot\"},{\"attributes\":{},\"id\":\"4921\",\"type\":\"BasicTickFormatter\"},{\"attributes\":{\"formatter\":{\"id\":\"4923\",\"type\":\"BasicTickFormatter\"},\"plot\":{\"id\":\"4801\",\"subtype\":\"Figure\",\"type\":\"Plot\"},\"ticker\":{\"id\":\"4816\",\"type\":\"BasicTicker\"}},\"id\":\"4815\",\"type\":\"LinearAxis\"},{\"attributes\":{},\"id\":\"4923\",\"type\":\"BasicTickFormatter\"},{\"attributes\":{\"callback\":null,\"data\":{\"x\":[-3,-5,-2,-6,-7,-1,5,6,3,8,9],\"y\":[-1.5,-2.5,-1.0,-3.0,-3.5,-0.5,2.5,3.0,1.5,4.0,4.5]},\"selected\":{\"id\":\"4925\",\"type\":\"Selection\"},\"selection_policy\":{\"id\":\"4926\",\"type\":\"UnionRenderers\"}},\"id\":\"4835\",\"type\":\"ColumnDataSource\"},{\"attributes\":{},\"id\":\"4925\",\"type\":\"Selection\"},{\"attributes\":{},\"id\":\"4926\",\"type\":\"UnionRenderers\"},{\"attributes\":{\"fill_alpha\":{\"value\":0.3},\"fill_color\":{\"value\":\"green\"},\"line_alpha\":{\"value\":0.3},\"line_color\":{\"value\":\"green\"},\"size\":{\"units\":\"screen\",\"value\":12},\"x\":{\"field\":\"x\"},\"y\":{\"field\":\"y\"}},\"id\":\"4836\",\"type\":\"Circle\"},{\"attributes\":{\"callback\":null,\"data\":{\"x\":[-3,-5,-2,-6,-7,-1,5,6,3,8,9],\"y\":[-27,-125,-8,-216,-343,-1,125,216,27,512,729]},\"selected\":{\"id\":\"4945\",\"type\":\"Selection\"},\"selection_policy\":{\"id\":\"4946\",\"type\":\"UnionRenderers\"}},\"id\":\"4913\",\"type\":\"ColumnDataSource\"},{\"attributes\":{\"dimension\":1,\"plot\":{\"id\":\"4801\",\"subtype\":\"Figure\",\"type\":\"Plot\"},\"ticker\":{\"id\":\"4816\",\"type\":\"BasicTicker\"}},\"id\":\"4819\",\"type\":\"Grid\"},{\"attributes\":{\"plot\":null,\"text\":\"\"},\"id\":\"4929\",\"type\":\"Title\"},{\"attributes\":{},\"id\":\"4931\",\"type\":\"BasicTickFormatter\"},{\"attributes\":{\"dimension\":1,\"plot\":{\"id\":\"4879\",\"subtype\":\"Figure\",\"type\":\"Plot\"},\"ticker\":{\"id\":\"4894\",\"type\":\"BasicTicker\"}},\"id\":\"4897\",\"type\":\"Grid\"},{\"attributes\":{},\"id\":\"4933\",\"type\":\"BasicTickFormatter\"},{\"attributes\":{},\"id\":\"4816\",\"type\":\"BasicTicker\"},{\"attributes\":{},\"id\":\"4935\",\"type\":\"Selection\"},{\"attributes\":{},\"id\":\"4936\",\"type\":\"UnionRenderers\"},{\"attributes\":{\"plot\":null,\"text\":\"\"},\"id\":\"4939\",\"type\":\"Title\"},{\"attributes\":{},\"id\":\"4941\",\"type\":\"BasicTickFormatter\"},{\"attributes\":{\"overlay\":{\"id\":\"4828\",\"type\":\"BoxAnnotation\"}},\"id\":\"4822\",\"type\":\"BoxZoomTool\"},{\"attributes\":{},\"id\":\"4943\",\"type\":\"BasicTickFormatter\"},{\"attributes\":{},\"id\":\"4945\",\"type\":\"Selection\"},{\"attributes\":{},\"id\":\"4946\",\"type\":\"UnionRenderers\"},{\"attributes\":{\"tools\":[{\"id\":\"4820\",\"type\":\"PanTool\"},{\"id\":\"4821\",\"type\":\"WheelZoomTool\"},{\"id\":\"4822\",\"type\":\"BoxZoomTool\"},{\"id\":\"4823\",\"type\":\"SaveTool\"},{\"id\":\"4824\",\"type\":\"ResetTool\"},{\"id\":\"4825\",\"type\":\"HelpTool\"},{\"id\":\"4859\",\"type\":\"PanTool\"},{\"id\":\"4860\",\"type\":\"WheelZoomTool\"},{\"id\":\"4861\",\"type\":\"BoxZoomTool\"},{\"id\":\"4862\",\"type\":\"SaveTool\"},{\"id\":\"4863\",\"type\":\"ResetTool\"},{\"id\":\"4864\",\"type\":\"HelpTool\"},{\"id\":\"4898\",\"type\":\"PanTool\"},{\"id\":\"4899\",\"type\":\"WheelZoomTool\"},{\"id\":\"4900\",\"type\":\"BoxZoomTool\"},{\"id\":\"4901\",\"type\":\"SaveTool\"},{\"id\":\"4902\",\"type\":\"ResetTool\"},{\"id\":\"4903\",\"type\":\"HelpTool\"}]},\"id\":\"4950\",\"type\":\"ProxyToolbar\"},{\"attributes\":{\"toolbar\":{\"id\":\"4950\",\"type\":\"ProxyToolbar\"},\"toolbar_location\":\"above\"},\"id\":\"4951\",\"type\":\"ToolbarBox\"},{\"attributes\":{\"fill_alpha\":{\"value\":0.9},\"fill_color\":{\"value\":\"violet\"},\"line_alpha\":{\"value\":0.9},\"line_color\":{\"value\":\"violet\"},\"size\":{\"units\":\"screen\",\"value\":12},\"x\":{\"field\":\"x\"},\"y\":{\"field\":\"y\"}},\"id\":\"4914\",\"type\":\"Circle\"}],\"root_ids\":[\"4952\"]},\"title\":\"Bokeh Application\",\"version\":\"1.0.4\"}};\n",
       "  var render_items = [{\"docid\":\"f0d94373-84ad-4be3-9cae-05907b8f3206\",\"roots\":{\"4952\":\"abf7aee2-7bc3-4bfd-b88f-1df8d0a93907\"}}];\n",
       "  root.Bokeh.embed.embed_items_notebook(docs_json, render_items);\n",
       "\n",
       "  }\n",
       "  if (root.Bokeh !== undefined) {\n",
       "    embed_document(root);\n",
       "  } else {\n",
       "    var attempts = 0;\n",
       "    var timer = setInterval(function(root) {\n",
       "      if (root.Bokeh !== undefined) {\n",
       "        embed_document(root);\n",
       "        clearInterval(timer);\n",
       "      }\n",
       "      attempts++;\n",
       "      if (attempts > 100) {\n",
       "        console.log(\"Bokeh: ERROR: Unable to run BokehJS code because BokehJS library is missing\");\n",
       "        clearInterval(timer);\n",
       "      }\n",
       "    }, 10, root)\n",
       "  }\n",
       "})(window);"
      ],
      "application/vnd.bokehjs_exec.v0+json": ""
     },
     "metadata": {
      "application/vnd.bokehjs_exec.v0+json": {
       "id": "4952"
      }
     },
     "output_type": "display_data"
    }
   ],
   "source": [
    "p1 = figure(plot_width = 250, plot_height = 250)\n",
    "p1.circle(x,a,size=12,color='green',alpha=0.3)\n",
    "\n",
    "p2 = figure(plot_width = 250, plot_height = 250)\n",
    "p2.circle(x,b,size=12,color='red',alpha=0.6)\n",
    "\n",
    "p3 = figure(plot_width = 250, plot_height = 250)\n",
    "p3.circle(x,c,size=12,color='violet',alpha=0.9)\n",
    "\n",
    "p = gridplot([[p1,p2,p3]])\n",
    "\n",
    "show(p)"
   ]
  },
  {
   "cell_type": "code",
   "execution_count": 53,
   "metadata": {},
   "outputs": [
    {
     "data": {
      "text/html": [
       "\n",
       "\n",
       "\n",
       "\n",
       "\n",
       "\n",
       "  <div class=\"bk-root\" id=\"6c3880fe-dff2-4aaf-8eb2-a43716e6b5b0\" data-root-id=\"5470\"></div>\n"
      ]
     },
     "metadata": {},
     "output_type": "display_data"
    },
    {
     "data": {
      "application/javascript": [
       "(function(root) {\n",
       "  function embed_document(root) {\n",
       "    \n",
       "  var docs_json = {\"83f444e1-427f-46a8-a5a1-68034d83eb87\":{\"roots\":{\"references\":[{\"attributes\":{\"children\":[{\"id\":\"5469\",\"type\":\"Row\"}]},\"id\":\"5470\",\"type\":\"Column\"},{\"attributes\":{},\"id\":\"5368\",\"type\":\"LinearScale\"},{\"attributes\":{\"children\":[{\"id\":\"5322\",\"subtype\":\"Figure\",\"type\":\"Plot\"},{\"id\":\"5361\",\"subtype\":\"Figure\",\"type\":\"Plot\"},{\"id\":\"5400\",\"subtype\":\"Figure\",\"type\":\"Plot\"}]},\"id\":\"5469\",\"type\":\"Row\"},{\"attributes\":{\"formatter\":{\"id\":\"5452\",\"type\":\"BasicTickFormatter\"},\"plot\":{\"id\":\"5361\",\"subtype\":\"Figure\",\"type\":\"Plot\"},\"ticker\":{\"id\":\"5371\",\"type\":\"BasicTicker\"}},\"id\":\"5370\",\"type\":\"LinearAxis\"},{\"attributes\":{},\"id\":\"5442\",\"type\":\"BasicTickFormatter\"},{\"attributes\":{},\"id\":\"5371\",\"type\":\"BasicTicker\"},{\"attributes\":{\"callback\":null,\"data\":{\"x\":[-3,-5,-2,-6,-7,-1,5,6,3,8,9],\"y\":[9,25,4,36,49,1,25,36,9,64,81]},\"selected\":{\"id\":\"5456\",\"type\":\"Selection\"},\"selection_policy\":{\"id\":\"5457\",\"type\":\"UnionRenderers\"}},\"id\":\"5395\",\"type\":\"ColumnDataSource\"},{\"attributes\":{\"callback\":null},\"id\":\"5364\",\"type\":\"DataRange1d\"},{\"attributes\":{\"plot\":null,\"text\":\"\"},\"id\":\"5440\",\"type\":\"Title\"},{\"attributes\":{\"callback\":null},\"id\":\"5362\",\"type\":\"DataRange1d\"},{\"attributes\":{\"plot\":{\"id\":\"5361\",\"subtype\":\"Figure\",\"type\":\"Plot\"},\"ticker\":{\"id\":\"5371\",\"type\":\"BasicTicker\"}},\"id\":\"5374\",\"type\":\"Grid\"},{\"attributes\":{\"bottom_units\":\"screen\",\"fill_alpha\":{\"value\":0.5},\"fill_color\":{\"value\":\"lightgrey\"},\"left_units\":\"screen\",\"level\":\"overlay\",\"line_alpha\":{\"value\":1.0},\"line_color\":{\"value\":\"black\"},\"line_dash\":[4,4],\"line_width\":{\"value\":2},\"plot\":null,\"render_mode\":\"css\",\"right_units\":\"screen\",\"top_units\":\"screen\"},\"id\":\"5427\",\"type\":\"BoxAnnotation\"},{\"attributes\":{\"active_drag\":\"auto\",\"active_inspect\":\"auto\",\"active_multi\":null,\"active_scroll\":\"auto\",\"active_tap\":\"auto\",\"tools\":[{\"id\":\"5341\",\"type\":\"PanTool\"},{\"id\":\"5342\",\"type\":\"WheelZoomTool\"},{\"id\":\"5343\",\"type\":\"BoxZoomTool\"},{\"id\":\"5344\",\"type\":\"SaveTool\"},{\"id\":\"5345\",\"type\":\"ResetTool\"},{\"id\":\"5346\",\"type\":\"HelpTool\"}]},\"id\":\"5347\",\"type\":\"Toolbar\"},{\"attributes\":{\"formatter\":{\"id\":\"5454\",\"type\":\"BasicTickFormatter\"},\"plot\":{\"id\":\"5361\",\"subtype\":\"Figure\",\"type\":\"Plot\"},\"ticker\":{\"id\":\"5376\",\"type\":\"BasicTicker\"}},\"id\":\"5375\",\"type\":\"LinearAxis\"},{\"attributes\":{\"bottom_units\":\"screen\",\"fill_alpha\":{\"value\":0.5},\"fill_color\":{\"value\":\"lightgrey\"},\"left_units\":\"screen\",\"level\":\"overlay\",\"line_alpha\":{\"value\":1.0},\"line_color\":{\"value\":\"black\"},\"line_dash\":[4,4],\"line_width\":{\"value\":2},\"plot\":null,\"render_mode\":\"css\",\"right_units\":\"screen\",\"top_units\":\"screen\"},\"id\":\"5349\",\"type\":\"BoxAnnotation\"},{\"attributes\":{},\"id\":\"5457\",\"type\":\"UnionRenderers\"},{\"attributes\":{\"source\":{\"id\":\"5356\",\"type\":\"ColumnDataSource\"}},\"id\":\"5360\",\"type\":\"CDSView\"},{\"attributes\":{},\"id\":\"5376\",\"type\":\"BasicTicker\"},{\"attributes\":{\"below\":[{\"id\":\"5409\",\"type\":\"LinearAxis\"}],\"left\":[{\"id\":\"5414\",\"type\":\"LinearAxis\"}],\"plot_height\":250,\"plot_width\":250,\"renderers\":[{\"id\":\"5409\",\"type\":\"LinearAxis\"},{\"id\":\"5413\",\"type\":\"Grid\"},{\"id\":\"5414\",\"type\":\"LinearAxis\"},{\"id\":\"5418\",\"type\":\"Grid\"},{\"id\":\"5427\",\"type\":\"BoxAnnotation\"},{\"id\":\"5437\",\"type\":\"GlyphRenderer\"}],\"title\":{\"id\":\"5460\",\"type\":\"Title\"},\"toolbar\":{\"id\":\"5425\",\"type\":\"Toolbar\"},\"toolbar_location\":null,\"x_range\":{\"id\":\"5401\",\"type\":\"DataRange1d\"},\"x_scale\":{\"id\":\"5405\",\"type\":\"LinearScale\"},\"y_range\":{\"id\":\"5403\",\"type\":\"DataRange1d\"},\"y_scale\":{\"id\":\"5407\",\"type\":\"LinearScale\"}},\"id\":\"5400\",\"subtype\":\"Figure\",\"type\":\"Plot\"},{\"attributes\":{},\"id\":\"5444\",\"type\":\"BasicTickFormatter\"},{\"attributes\":{\"dimension\":1,\"plot\":{\"id\":\"5361\",\"subtype\":\"Figure\",\"type\":\"Plot\"},\"ticker\":{\"id\":\"5376\",\"type\":\"BasicTicker\"}},\"id\":\"5379\",\"type\":\"Grid\"},{\"attributes\":{},\"id\":\"5447\",\"type\":\"UnionRenderers\"},{\"attributes\":{\"fill_alpha\":{\"value\":0.1},\"fill_color\":{\"value\":\"#1f77b4\"},\"line_alpha\":{\"value\":0.1},\"line_color\":{\"value\":\"#1f77b4\"},\"size\":{\"units\":\"screen\",\"value\":12},\"x\":{\"field\":\"x\"},\"y\":{\"field\":\"y\"}},\"id\":\"5397\",\"type\":\"Diamond\"},{\"attributes\":{},\"id\":\"5446\",\"type\":\"Selection\"},{\"attributes\":{\"fill_alpha\":{\"value\":0.6},\"fill_color\":{\"value\":\"red\"},\"line_alpha\":{\"value\":0.6},\"line_color\":{\"value\":\"red\"},\"size\":{\"units\":\"screen\",\"value\":12},\"x\":{\"field\":\"x\"},\"y\":{\"field\":\"y\"}},\"id\":\"5396\",\"type\":\"Diamond\"},{\"attributes\":{},\"id\":\"5467\",\"type\":\"UnionRenderers\"},{\"attributes\":{},\"id\":\"5380\",\"type\":\"PanTool\"},{\"attributes\":{},\"id\":\"5381\",\"type\":\"WheelZoomTool\"},{\"attributes\":{},\"id\":\"5462\",\"type\":\"BasicTickFormatter\"},{\"attributes\":{\"overlay\":{\"id\":\"5388\",\"type\":\"BoxAnnotation\"}},\"id\":\"5382\",\"type\":\"BoxZoomTool\"},{\"attributes\":{},\"id\":\"5464\",\"type\":\"BasicTickFormatter\"},{\"attributes\":{},\"id\":\"5383\",\"type\":\"SaveTool\"},{\"attributes\":{},\"id\":\"5466\",\"type\":\"Selection\"},{\"attributes\":{\"plot\":null,\"text\":\"\"},\"id\":\"5460\",\"type\":\"Title\"},{\"attributes\":{},\"id\":\"5384\",\"type\":\"ResetTool\"},{\"attributes\":{},\"id\":\"5385\",\"type\":\"HelpTool\"},{\"attributes\":{},\"id\":\"5456\",\"type\":\"Selection\"},{\"attributes\":{\"active_drag\":\"auto\",\"active_inspect\":\"auto\",\"active_multi\":null,\"active_scroll\":\"auto\",\"active_tap\":\"auto\",\"tools\":[{\"id\":\"5380\",\"type\":\"PanTool\"},{\"id\":\"5381\",\"type\":\"WheelZoomTool\"},{\"id\":\"5382\",\"type\":\"BoxZoomTool\"},{\"id\":\"5383\",\"type\":\"SaveTool\"},{\"id\":\"5384\",\"type\":\"ResetTool\"},{\"id\":\"5385\",\"type\":\"HelpTool\"}]},\"id\":\"5386\",\"type\":\"Toolbar\"},{\"attributes\":{\"data_source\":{\"id\":\"5395\",\"type\":\"ColumnDataSource\"},\"glyph\":{\"id\":\"5396\",\"type\":\"Diamond\"},\"hover_glyph\":null,\"muted_glyph\":null,\"nonselection_glyph\":{\"id\":\"5397\",\"type\":\"Diamond\"},\"selection_glyph\":null,\"view\":{\"id\":\"5399\",\"type\":\"CDSView\"}},\"id\":\"5398\",\"type\":\"GlyphRenderer\"},{\"attributes\":{},\"id\":\"5454\",\"type\":\"BasicTickFormatter\"},{\"attributes\":{},\"id\":\"5452\",\"type\":\"BasicTickFormatter\"},{\"attributes\":{\"bottom_units\":\"screen\",\"fill_alpha\":{\"value\":0.5},\"fill_color\":{\"value\":\"lightgrey\"},\"left_units\":\"screen\",\"level\":\"overlay\",\"line_alpha\":{\"value\":1.0},\"line_color\":{\"value\":\"black\"},\"line_dash\":[4,4],\"line_width\":{\"value\":2},\"plot\":null,\"render_mode\":\"css\",\"right_units\":\"screen\",\"top_units\":\"screen\"},\"id\":\"5388\",\"type\":\"BoxAnnotation\"},{\"attributes\":{\"plot\":null,\"text\":\"\"},\"id\":\"5450\",\"type\":\"Title\"},{\"attributes\":{\"source\":{\"id\":\"5395\",\"type\":\"ColumnDataSource\"}},\"id\":\"5399\",\"type\":\"CDSView\"},{\"attributes\":{\"fill_alpha\":{\"value\":0.9},\"fill_color\":{\"value\":\"violet\"},\"line_alpha\":{\"value\":0.9},\"line_color\":{\"value\":\"violet\"},\"size\":{\"units\":\"screen\",\"value\":12},\"x\":{\"field\":\"x\"},\"y\":{\"field\":\"y\"}},\"id\":\"5435\",\"type\":\"Square\"},{\"attributes\":{\"fill_alpha\":{\"value\":0.1},\"fill_color\":{\"value\":\"#1f77b4\"},\"line_alpha\":{\"value\":0.1},\"line_color\":{\"value\":\"#1f77b4\"},\"size\":{\"units\":\"screen\",\"value\":12},\"x\":{\"field\":\"x\"},\"y\":{\"field\":\"y\"}},\"id\":\"5436\",\"type\":\"Square\"},{\"attributes\":{\"callback\":null},\"id\":\"5401\",\"type\":\"DataRange1d\"},{\"attributes\":{\"callback\":null},\"id\":\"5403\",\"type\":\"DataRange1d\"},{\"attributes\":{},\"id\":\"5405\",\"type\":\"LinearScale\"},{\"attributes\":{},\"id\":\"5407\",\"type\":\"LinearScale\"},{\"attributes\":{\"formatter\":{\"id\":\"5462\",\"type\":\"BasicTickFormatter\"},\"plot\":{\"id\":\"5400\",\"subtype\":\"Figure\",\"type\":\"Plot\"},\"ticker\":{\"id\":\"5410\",\"type\":\"BasicTicker\"}},\"id\":\"5409\",\"type\":\"LinearAxis\"},{\"attributes\":{},\"id\":\"5410\",\"type\":\"BasicTicker\"},{\"attributes\":{\"plot\":{\"id\":\"5400\",\"subtype\":\"Figure\",\"type\":\"Plot\"},\"ticker\":{\"id\":\"5410\",\"type\":\"BasicTicker\"}},\"id\":\"5413\",\"type\":\"Grid\"},{\"attributes\":{\"data_source\":{\"id\":\"5434\",\"type\":\"ColumnDataSource\"},\"glyph\":{\"id\":\"5435\",\"type\":\"Square\"},\"hover_glyph\":null,\"muted_glyph\":null,\"nonselection_glyph\":{\"id\":\"5436\",\"type\":\"Square\"},\"selection_glyph\":null,\"view\":{\"id\":\"5438\",\"type\":\"CDSView\"}},\"id\":\"5437\",\"type\":\"GlyphRenderer\"},{\"attributes\":{},\"id\":\"5419\",\"type\":\"PanTool\"},{\"attributes\":{},\"id\":\"5420\",\"type\":\"WheelZoomTool\"},{\"attributes\":{\"overlay\":{\"id\":\"5427\",\"type\":\"BoxAnnotation\"}},\"id\":\"5421\",\"type\":\"BoxZoomTool\"},{\"attributes\":{},\"id\":\"5422\",\"type\":\"SaveTool\"},{\"attributes\":{},\"id\":\"5423\",\"type\":\"ResetTool\"},{\"attributes\":{},\"id\":\"5424\",\"type\":\"HelpTool\"},{\"attributes\":{\"active_drag\":\"auto\",\"active_inspect\":\"auto\",\"active_multi\":null,\"active_scroll\":\"auto\",\"active_tap\":\"auto\",\"tools\":[{\"id\":\"5419\",\"type\":\"PanTool\"},{\"id\":\"5420\",\"type\":\"WheelZoomTool\"},{\"id\":\"5421\",\"type\":\"BoxZoomTool\"},{\"id\":\"5422\",\"type\":\"SaveTool\"},{\"id\":\"5423\",\"type\":\"ResetTool\"},{\"id\":\"5424\",\"type\":\"HelpTool\"}]},\"id\":\"5425\",\"type\":\"Toolbar\"},{\"attributes\":{},\"id\":\"5366\",\"type\":\"LinearScale\"},{\"attributes\":{\"data_source\":{\"id\":\"5356\",\"type\":\"ColumnDataSource\"},\"glyph\":{\"id\":\"5357\",\"type\":\"Circle\"},\"hover_glyph\":null,\"muted_glyph\":null,\"nonselection_glyph\":{\"id\":\"5358\",\"type\":\"Circle\"},\"selection_glyph\":null,\"view\":{\"id\":\"5360\",\"type\":\"CDSView\"}},\"id\":\"5359\",\"type\":\"GlyphRenderer\"},{\"attributes\":{},\"id\":\"5341\",\"type\":\"PanTool\"},{\"attributes\":{\"formatter\":{\"id\":\"5444\",\"type\":\"BasicTickFormatter\"},\"plot\":{\"id\":\"5322\",\"subtype\":\"Figure\",\"type\":\"Plot\"},\"ticker\":{\"id\":\"5337\",\"type\":\"BasicTicker\"}},\"id\":\"5336\",\"type\":\"LinearAxis\"},{\"attributes\":{\"callback\":null,\"data\":{\"x\":[-3,-5,-2,-6,-7,-1,5,6,3,8,9],\"y\":[-27,-125,-8,-216,-343,-1,125,216,27,512,729]},\"selected\":{\"id\":\"5466\",\"type\":\"Selection\"},\"selection_policy\":{\"id\":\"5467\",\"type\":\"UnionRenderers\"}},\"id\":\"5434\",\"type\":\"ColumnDataSource\"},{\"attributes\":{},\"id\":\"5345\",\"type\":\"ResetTool\"},{\"attributes\":{\"callback\":null},\"id\":\"5325\",\"type\":\"DataRange1d\"},{\"attributes\":{\"callback\":null},\"id\":\"5323\",\"type\":\"DataRange1d\"},{\"attributes\":{},\"id\":\"5346\",\"type\":\"HelpTool\"},{\"attributes\":{\"callback\":null,\"data\":{\"x\":[-3,-5,-2,-6,-7,-1,5,6,3,8,9],\"y\":[-1.5,-2.5,-1.0,-3.0,-3.5,-0.5,2.5,3.0,1.5,4.0,4.5]},\"selected\":{\"id\":\"5446\",\"type\":\"Selection\"},\"selection_policy\":{\"id\":\"5447\",\"type\":\"UnionRenderers\"}},\"id\":\"5356\",\"type\":\"ColumnDataSource\"},{\"attributes\":{\"below\":[{\"id\":\"5331\",\"type\":\"LinearAxis\"}],\"left\":[{\"id\":\"5336\",\"type\":\"LinearAxis\"}],\"plot_height\":250,\"plot_width\":250,\"renderers\":[{\"id\":\"5331\",\"type\":\"LinearAxis\"},{\"id\":\"5335\",\"type\":\"Grid\"},{\"id\":\"5336\",\"type\":\"LinearAxis\"},{\"id\":\"5340\",\"type\":\"Grid\"},{\"id\":\"5349\",\"type\":\"BoxAnnotation\"},{\"id\":\"5359\",\"type\":\"GlyphRenderer\"}],\"title\":{\"id\":\"5440\",\"type\":\"Title\"},\"toolbar\":{\"id\":\"5347\",\"type\":\"Toolbar\"},\"toolbar_location\":null,\"x_range\":{\"id\":\"5323\",\"type\":\"DataRange1d\"},\"x_scale\":{\"id\":\"5327\",\"type\":\"LinearScale\"},\"y_range\":{\"id\":\"5325\",\"type\":\"DataRange1d\"},\"y_scale\":{\"id\":\"5329\",\"type\":\"LinearScale\"}},\"id\":\"5322\",\"subtype\":\"Figure\",\"type\":\"Plot\"},{\"attributes\":{},\"id\":\"5332\",\"type\":\"BasicTicker\"},{\"attributes\":{\"formatter\":{\"id\":\"5442\",\"type\":\"BasicTickFormatter\"},\"plot\":{\"id\":\"5322\",\"subtype\":\"Figure\",\"type\":\"Plot\"},\"ticker\":{\"id\":\"5332\",\"type\":\"BasicTicker\"}},\"id\":\"5331\",\"type\":\"LinearAxis\"},{\"attributes\":{},\"id\":\"5329\",\"type\":\"LinearScale\"},{\"attributes\":{\"formatter\":{\"id\":\"5464\",\"type\":\"BasicTickFormatter\"},\"plot\":{\"id\":\"5400\",\"subtype\":\"Figure\",\"type\":\"Plot\"},\"ticker\":{\"id\":\"5415\",\"type\":\"BasicTicker\"}},\"id\":\"5414\",\"type\":\"LinearAxis\"},{\"attributes\":{},\"id\":\"5327\",\"type\":\"LinearScale\"},{\"attributes\":{\"plot\":{\"id\":\"5322\",\"subtype\":\"Figure\",\"type\":\"Plot\"},\"ticker\":{\"id\":\"5332\",\"type\":\"BasicTicker\"}},\"id\":\"5335\",\"type\":\"Grid\"},{\"attributes\":{\"overlay\":{\"id\":\"5349\",\"type\":\"BoxAnnotation\"}},\"id\":\"5343\",\"type\":\"BoxZoomTool\"},{\"attributes\":{},\"id\":\"5337\",\"type\":\"BasicTicker\"},{\"attributes\":{\"dimension\":1,\"plot\":{\"id\":\"5322\",\"subtype\":\"Figure\",\"type\":\"Plot\"},\"ticker\":{\"id\":\"5337\",\"type\":\"BasicTicker\"}},\"id\":\"5340\",\"type\":\"Grid\"},{\"attributes\":{\"dimension\":1,\"plot\":{\"id\":\"5400\",\"subtype\":\"Figure\",\"type\":\"Plot\"},\"ticker\":{\"id\":\"5415\",\"type\":\"BasicTicker\"}},\"id\":\"5418\",\"type\":\"Grid\"},{\"attributes\":{\"source\":{\"id\":\"5434\",\"type\":\"ColumnDataSource\"}},\"id\":\"5438\",\"type\":\"CDSView\"},{\"attributes\":{\"fill_alpha\":{\"value\":0.1},\"fill_color\":{\"value\":\"#1f77b4\"},\"line_alpha\":{\"value\":0.1},\"line_color\":{\"value\":\"#1f77b4\"},\"size\":{\"units\":\"screen\",\"value\":12},\"x\":{\"field\":\"x\"},\"y\":{\"field\":\"y\"}},\"id\":\"5358\",\"type\":\"Circle\"},{\"attributes\":{},\"id\":\"5415\",\"type\":\"BasicTicker\"},{\"attributes\":{\"fill_alpha\":{\"value\":0.3},\"fill_color\":{\"value\":\"green\"},\"line_alpha\":{\"value\":0.3},\"line_color\":{\"value\":\"green\"},\"size\":{\"units\":\"screen\",\"value\":12},\"x\":{\"field\":\"x\"},\"y\":{\"field\":\"y\"}},\"id\":\"5357\",\"type\":\"Circle\"},{\"attributes\":{\"below\":[{\"id\":\"5370\",\"type\":\"LinearAxis\"}],\"left\":[{\"id\":\"5375\",\"type\":\"LinearAxis\"}],\"plot_height\":250,\"plot_width\":250,\"renderers\":[{\"id\":\"5370\",\"type\":\"LinearAxis\"},{\"id\":\"5374\",\"type\":\"Grid\"},{\"id\":\"5375\",\"type\":\"LinearAxis\"},{\"id\":\"5379\",\"type\":\"Grid\"},{\"id\":\"5388\",\"type\":\"BoxAnnotation\"},{\"id\":\"5398\",\"type\":\"GlyphRenderer\"}],\"title\":{\"id\":\"5450\",\"type\":\"Title\"},\"toolbar\":{\"id\":\"5386\",\"type\":\"Toolbar\"},\"toolbar_location\":null,\"x_range\":{\"id\":\"5362\",\"type\":\"DataRange1d\"},\"x_scale\":{\"id\":\"5366\",\"type\":\"LinearScale\"},\"y_range\":{\"id\":\"5364\",\"type\":\"DataRange1d\"},\"y_scale\":{\"id\":\"5368\",\"type\":\"LinearScale\"}},\"id\":\"5361\",\"subtype\":\"Figure\",\"type\":\"Plot\"},{\"attributes\":{},\"id\":\"5342\",\"type\":\"WheelZoomTool\"},{\"attributes\":{},\"id\":\"5344\",\"type\":\"SaveTool\"}],\"root_ids\":[\"5470\"]},\"title\":\"Bokeh Application\",\"version\":\"1.0.4\"}};\n",
       "  var render_items = [{\"docid\":\"83f444e1-427f-46a8-a5a1-68034d83eb87\",\"roots\":{\"5470\":\"6c3880fe-dff2-4aaf-8eb2-a43716e6b5b0\"}}];\n",
       "  root.Bokeh.embed.embed_items_notebook(docs_json, render_items);\n",
       "\n",
       "  }\n",
       "  if (root.Bokeh !== undefined) {\n",
       "    embed_document(root);\n",
       "  } else {\n",
       "    var attempts = 0;\n",
       "    var timer = setInterval(function(root) {\n",
       "      if (root.Bokeh !== undefined) {\n",
       "        embed_document(root);\n",
       "        clearInterval(timer);\n",
       "      }\n",
       "      attempts++;\n",
       "      if (attempts > 100) {\n",
       "        console.log(\"Bokeh: ERROR: Unable to run BokehJS code because BokehJS library is missing\");\n",
       "        clearInterval(timer);\n",
       "      }\n",
       "    }, 10, root)\n",
       "  }\n",
       "})(window);"
      ],
      "application/vnd.bokehjs_exec.v0+json": ""
     },
     "metadata": {
      "application/vnd.bokehjs_exec.v0+json": {
       "id": "5470"
      }
     },
     "output_type": "display_data"
    }
   ],
   "source": [
    "p1 = figure(plot_width = 250, plot_height = 250)\n",
    "p1.circle(x,a,size=12,color='green',alpha=0.3)\n",
    "\n",
    "p2 = figure(plot_width = 250, plot_height = 250)\n",
    "p2.diamond(x,b,size=12,color='red',alpha=0.6)\n",
    "\n",
    "p3 = figure(plot_width = 250, plot_height = 250)\n",
    "p3.square(x,c,size=12,color='violet',alpha=0.9)\n",
    "\n",
    "p = gridplot([[p1,p2,p3]],toolbar_location=None)\n",
    "\n",
    "show(p)"
   ]
  },
  {
   "cell_type": "markdown",
   "metadata": {},
   "source": [
    "Linking plots - Link planning and link brushing"
   ]
  },
  {
   "cell_type": "code",
   "execution_count": 54,
   "metadata": {},
   "outputs": [],
   "source": [
    "x = [-3,-5,-2,-6,-7,-1,5,6,3,8,9] \n",
    "a = [i*0.5 for i in x]\n",
    "b = [i**2 for i in  x]\n",
    "c = [i**3 for i in  x]"
   ]
  },
  {
   "cell_type": "code",
   "execution_count": 55,
   "metadata": {},
   "outputs": [
    {
     "data": {
      "text/plain": [
       "(([-3, -5, -2, -6, -7, -1, 5, 6, 3, 8, 9],\n",
       "  [-1.5, -2.5, -1.0, -3.0, -3.5, -0.5, 2.5, 3.0, 1.5, 4.0, 4.5]),\n",
       " ([-3, -5, -2, -6, -7, -1, 5, 6, 3, 8, 9],\n",
       "  [9, 25, 4, 36, 49, 1, 25, 36, 9, 64, 81]),\n",
       " ([-3, -5, -2, -6, -7, -1, 5, 6, 3, 8, 9],\n",
       "  [-27, -125, -8, -216, -343, -1, 125, 216, 27, 512, 729]))"
      ]
     },
     "execution_count": 55,
     "metadata": {},
     "output_type": "execute_result"
    }
   ],
   "source": [
    "(x,a),(x,b),(x,c)"
   ]
  },
  {
   "cell_type": "code",
   "execution_count": 58,
   "metadata": {},
   "outputs": [
    {
     "data": {
      "text/html": [
       "\n",
       "\n",
       "\n",
       "\n",
       "\n",
       "\n",
       "  <div class=\"bk-root\" id=\"9356d890-b63d-4178-8756-c085457ed6ee\" data-root-id=\"6585\"></div>\n"
      ]
     },
     "metadata": {},
     "output_type": "display_data"
    },
    {
     "data": {
      "application/javascript": [
       "(function(root) {\n",
       "  function embed_document(root) {\n",
       "    \n",
       "  var docs_json = {\"6a07c77f-2f4d-4e7f-955b-c8b36824e0a2\":{\"roots\":{\"references\":[{\"attributes\":{\"children\":[{\"id\":\"6584\",\"type\":\"ToolbarBox\"},{\"id\":\"6582\",\"type\":\"Column\"}]},\"id\":\"6585\",\"type\":\"Column\"},{\"attributes\":{},\"id\":\"6445\",\"type\":\"LinearScale\"},{\"attributes\":{},\"id\":\"6536\",\"type\":\"HelpTool\"},{\"attributes\":{\"plot\":{\"id\":\"6438\",\"subtype\":\"Figure\",\"type\":\"Plot\"},\"ticker\":{\"id\":\"6448\",\"type\":\"BasicTicker\"}},\"id\":\"6451\",\"type\":\"Grid\"},{\"attributes\":{},\"id\":\"6443\",\"type\":\"LinearScale\"},{\"attributes\":{},\"id\":\"6448\",\"type\":\"BasicTicker\"},{\"attributes\":{\"formatter\":{\"id\":\"6554\",\"type\":\"BasicTickFormatter\"},\"plot\":{\"id\":\"6438\",\"subtype\":\"Figure\",\"type\":\"Plot\"},\"ticker\":{\"id\":\"6448\",\"type\":\"BasicTicker\"}},\"id\":\"6447\",\"type\":\"LinearAxis\"},{\"attributes\":{\"fill_alpha\":{\"value\":0.3},\"fill_color\":{\"value\":\"green\"},\"line_alpha\":{\"value\":0.3},\"line_color\":{\"value\":\"green\"},\"size\":{\"units\":\"screen\",\"value\":12},\"x\":{\"field\":\"x\"},\"y\":{\"field\":\"y\"}},\"id\":\"6473\",\"type\":\"Circle\"},{\"attributes\":{\"fill_alpha\":{\"value\":0.1},\"fill_color\":{\"value\":\"#1f77b4\"},\"line_alpha\":{\"value\":0.1},\"line_color\":{\"value\":\"#1f77b4\"},\"size\":{\"units\":\"screen\",\"value\":12},\"x\":{\"field\":\"x\"},\"y\":{\"field\":\"y\"}},\"id\":\"6474\",\"type\":\"Circle\"},{\"attributes\":{\"overlay\":{\"id\":\"6502\",\"type\":\"BoxAnnotation\"}},\"id\":\"6496\",\"type\":\"BoxZoomTool\"},{\"attributes\":{\"dimension\":1,\"plot\":{\"id\":\"6438\",\"subtype\":\"Figure\",\"type\":\"Plot\"},\"ticker\":{\"id\":\"6453\",\"type\":\"BasicTicker\"}},\"id\":\"6456\",\"type\":\"Grid\"},{\"attributes\":{},\"id\":\"6453\",\"type\":\"BasicTicker\"},{\"attributes\":{},\"id\":\"6535\",\"type\":\"ResetTool\"},{\"attributes\":{\"formatter\":{\"id\":\"6556\",\"type\":\"BasicTickFormatter\"},\"plot\":{\"id\":\"6438\",\"subtype\":\"Figure\",\"type\":\"Plot\"},\"ticker\":{\"id\":\"6453\",\"type\":\"BasicTicker\"}},\"id\":\"6452\",\"type\":\"LinearAxis\"},{\"attributes\":{},\"id\":\"6457\",\"type\":\"PanTool\"},{\"attributes\":{},\"id\":\"6461\",\"type\":\"ResetTool\"},{\"attributes\":{},\"id\":\"6458\",\"type\":\"WheelZoomTool\"},{\"attributes\":{},\"id\":\"6460\",\"type\":\"SaveTool\"},{\"attributes\":{},\"id\":\"6534\",\"type\":\"SaveTool\"},{\"attributes\":{\"bottom_units\":\"screen\",\"fill_alpha\":{\"value\":0.5},\"fill_color\":{\"value\":\"lightgrey\"},\"left_units\":\"screen\",\"level\":\"overlay\",\"line_alpha\":{\"value\":1.0},\"line_color\":{\"value\":\"black\"},\"line_dash\":[4,4],\"line_width\":{\"value\":2},\"plot\":null,\"render_mode\":\"css\",\"right_units\":\"screen\",\"top_units\":\"screen\"},\"id\":\"6465\",\"type\":\"BoxAnnotation\"},{\"attributes\":{},\"id\":\"6462\",\"type\":\"HelpTool\"},{\"attributes\":{\"data_source\":{\"id\":\"6472\",\"type\":\"ColumnDataSource\"},\"glyph\":{\"id\":\"6473\",\"type\":\"Circle\"},\"hover_glyph\":null,\"muted_glyph\":null,\"nonselection_glyph\":{\"id\":\"6474\",\"type\":\"Circle\"},\"selection_glyph\":null,\"view\":{\"id\":\"6476\",\"type\":\"CDSView\"}},\"id\":\"6475\",\"type\":\"GlyphRenderer\"},{\"attributes\":{\"active_drag\":\"auto\",\"active_inspect\":\"auto\",\"active_multi\":null,\"active_scroll\":\"auto\",\"active_tap\":\"auto\",\"tools\":[{\"id\":\"6457\",\"type\":\"PanTool\"},{\"id\":\"6458\",\"type\":\"WheelZoomTool\"},{\"id\":\"6459\",\"type\":\"BoxZoomTool\"},{\"id\":\"6460\",\"type\":\"SaveTool\"},{\"id\":\"6461\",\"type\":\"ResetTool\"},{\"id\":\"6462\",\"type\":\"HelpTool\"}]},\"id\":\"6463\",\"type\":\"Toolbar\"},{\"attributes\":{\"fill_alpha\":{\"value\":0.1},\"fill_color\":{\"value\":\"#1f77b4\"},\"line_alpha\":{\"value\":0.1},\"line_color\":{\"value\":\"#1f77b4\"},\"size\":{\"units\":\"screen\",\"value\":12},\"x\":{\"field\":\"x\"},\"y\":{\"field\":\"y\"}},\"id\":\"6511\",\"type\":\"Diamond\"},{\"attributes\":{\"callback\":null,\"data\":{\"x\":[-3,-5,-2,-6,-7,-1,5,6,3,8,9],\"y\":[9,25,4,36,49,1,25,36,9,64,81]},\"selected\":{\"id\":\"6568\",\"type\":\"Selection\"},\"selection_policy\":{\"id\":\"6569\",\"type\":\"UnionRenderers\"}},\"id\":\"6509\",\"type\":\"ColumnDataSource\"},{\"attributes\":{\"source\":{\"id\":\"6472\",\"type\":\"ColumnDataSource\"}},\"id\":\"6476\",\"type\":\"CDSView\"},{\"attributes\":{},\"id\":\"6480\",\"type\":\"LinearScale\"},{\"attributes\":{},\"id\":\"6482\",\"type\":\"LinearScale\"},{\"attributes\":{\"overlay\":{\"id\":\"6465\",\"type\":\"BoxAnnotation\"}},\"id\":\"6459\",\"type\":\"BoxZoomTool\"},{\"attributes\":{\"dimension\":1,\"plot\":{\"id\":\"6477\",\"subtype\":\"Figure\",\"type\":\"Plot\"},\"ticker\":{\"id\":\"6490\",\"type\":\"BasicTicker\"}},\"id\":\"6493\",\"type\":\"Grid\"},{\"attributes\":{},\"id\":\"6490\",\"type\":\"BasicTicker\"},{\"attributes\":{\"dimension\":1,\"plot\":{\"id\":\"6514\",\"subtype\":\"Figure\",\"type\":\"Plot\"},\"ticker\":{\"id\":\"6527\",\"type\":\"BasicTicker\"}},\"id\":\"6530\",\"type\":\"Grid\"},{\"attributes\":{},\"id\":\"6485\",\"type\":\"BasicTicker\"},{\"attributes\":{\"plot\":{\"id\":\"6477\",\"subtype\":\"Figure\",\"type\":\"Plot\"},\"ticker\":{\"id\":\"6485\",\"type\":\"BasicTicker\"}},\"id\":\"6488\",\"type\":\"Grid\"},{\"attributes\":{\"callback\":null,\"data\":{\"x\":[-3,-5,-2,-6,-7,-1,5,6,3,8,9],\"y\":[-27,-125,-8,-216,-343,-1,125,216,27,512,729]},\"selected\":{\"id\":\"6578\",\"type\":\"Selection\"},\"selection_policy\":{\"id\":\"6579\",\"type\":\"UnionRenderers\"}},\"id\":\"6546\",\"type\":\"ColumnDataSource\"},{\"attributes\":{\"formatter\":{\"id\":\"6566\",\"type\":\"BasicTickFormatter\"},\"plot\":{\"id\":\"6477\",\"subtype\":\"Figure\",\"type\":\"Plot\"},\"ticker\":{\"id\":\"6490\",\"type\":\"BasicTicker\"}},\"id\":\"6489\",\"type\":\"LinearAxis\"},{\"attributes\":{\"callback\":null},\"id\":\"6441\",\"type\":\"DataRange1d\"},{\"attributes\":{},\"id\":\"6495\",\"type\":\"WheelZoomTool\"},{\"attributes\":{\"formatter\":{\"id\":\"6564\",\"type\":\"BasicTickFormatter\"},\"plot\":{\"id\":\"6477\",\"subtype\":\"Figure\",\"type\":\"Plot\"},\"ticker\":{\"id\":\"6485\",\"type\":\"BasicTicker\"}},\"id\":\"6484\",\"type\":\"LinearAxis\"},{\"attributes\":{},\"id\":\"6494\",\"type\":\"PanTool\"},{\"attributes\":{\"callback\":null},\"id\":\"6439\",\"type\":\"DataRange1d\"},{\"attributes\":{\"below\":[{\"id\":\"6484\",\"type\":\"LinearAxis\"}],\"left\":[{\"id\":\"6489\",\"type\":\"LinearAxis\"}],\"plot_height\":250,\"plot_width\":250,\"renderers\":[{\"id\":\"6484\",\"type\":\"LinearAxis\"},{\"id\":\"6488\",\"type\":\"Grid\"},{\"id\":\"6489\",\"type\":\"LinearAxis\"},{\"id\":\"6493\",\"type\":\"Grid\"},{\"id\":\"6502\",\"type\":\"BoxAnnotation\"},{\"id\":\"6512\",\"type\":\"GlyphRenderer\"}],\"title\":{\"id\":\"6562\",\"type\":\"Title\"},\"toolbar\":{\"id\":\"6500\",\"type\":\"Toolbar\"},\"toolbar_location\":null,\"x_range\":{\"id\":\"6439\",\"type\":\"DataRange1d\"},\"x_scale\":{\"id\":\"6480\",\"type\":\"LinearScale\"},\"y_range\":{\"id\":\"6441\",\"type\":\"DataRange1d\"},\"y_scale\":{\"id\":\"6482\",\"type\":\"LinearScale\"}},\"id\":\"6477\",\"subtype\":\"Figure\",\"type\":\"Plot\"},{\"attributes\":{\"below\":[{\"id\":\"6447\",\"type\":\"LinearAxis\"}],\"left\":[{\"id\":\"6452\",\"type\":\"LinearAxis\"}],\"plot_height\":250,\"plot_width\":250,\"renderers\":[{\"id\":\"6447\",\"type\":\"LinearAxis\"},{\"id\":\"6451\",\"type\":\"Grid\"},{\"id\":\"6452\",\"type\":\"LinearAxis\"},{\"id\":\"6456\",\"type\":\"Grid\"},{\"id\":\"6465\",\"type\":\"BoxAnnotation\"},{\"id\":\"6475\",\"type\":\"GlyphRenderer\"}],\"title\":{\"id\":\"6552\",\"type\":\"Title\"},\"toolbar\":{\"id\":\"6463\",\"type\":\"Toolbar\"},\"toolbar_location\":null,\"x_range\":{\"id\":\"6439\",\"type\":\"DataRange1d\"},\"x_scale\":{\"id\":\"6443\",\"type\":\"LinearScale\"},\"y_range\":{\"id\":\"6441\",\"type\":\"DataRange1d\"},\"y_scale\":{\"id\":\"6445\",\"type\":\"LinearScale\"}},\"id\":\"6438\",\"subtype\":\"Figure\",\"type\":\"Plot\"},{\"attributes\":{\"below\":[{\"id\":\"6521\",\"type\":\"LinearAxis\"}],\"left\":[{\"id\":\"6526\",\"type\":\"LinearAxis\"}],\"plot_height\":250,\"plot_width\":250,\"renderers\":[{\"id\":\"6521\",\"type\":\"LinearAxis\"},{\"id\":\"6525\",\"type\":\"Grid\"},{\"id\":\"6526\",\"type\":\"LinearAxis\"},{\"id\":\"6530\",\"type\":\"Grid\"},{\"id\":\"6539\",\"type\":\"BoxAnnotation\"},{\"id\":\"6549\",\"type\":\"GlyphRenderer\"}],\"title\":{\"id\":\"6572\",\"type\":\"Title\"},\"toolbar\":{\"id\":\"6537\",\"type\":\"Toolbar\"},\"toolbar_location\":null,\"x_range\":{\"id\":\"6439\",\"type\":\"DataRange1d\"},\"x_scale\":{\"id\":\"6517\",\"type\":\"LinearScale\"},\"y_range\":{\"id\":\"6441\",\"type\":\"DataRange1d\"},\"y_scale\":{\"id\":\"6519\",\"type\":\"LinearScale\"}},\"id\":\"6514\",\"subtype\":\"Figure\",\"type\":\"Plot\"},{\"attributes\":{\"callback\":null,\"data\":{\"x\":[-3,-5,-2,-6,-7,-1,5,6,3,8,9],\"y\":[-1.5,-2.5,-1.0,-3.0,-3.5,-0.5,2.5,3.0,1.5,4.0,4.5]},\"selected\":{\"id\":\"6558\",\"type\":\"Selection\"},\"selection_policy\":{\"id\":\"6559\",\"type\":\"UnionRenderers\"}},\"id\":\"6472\",\"type\":\"ColumnDataSource\"},{\"attributes\":{\"fill_alpha\":{\"value\":0.6},\"fill_color\":{\"value\":\"red\"},\"line_alpha\":{\"value\":0.6},\"line_color\":{\"value\":\"red\"},\"size\":{\"units\":\"screen\",\"value\":12},\"x\":{\"field\":\"x\"},\"y\":{\"field\":\"y\"}},\"id\":\"6510\",\"type\":\"Diamond\"},{\"attributes\":{},\"id\":\"6574\",\"type\":\"BasicTickFormatter\"},{\"attributes\":{},\"id\":\"6527\",\"type\":\"BasicTicker\"},{\"attributes\":{},\"id\":\"6576\",\"type\":\"BasicTickFormatter\"},{\"attributes\":{\"overlay\":{\"id\":\"6539\",\"type\":\"BoxAnnotation\"}},\"id\":\"6533\",\"type\":\"BoxZoomTool\"},{\"attributes\":{},\"id\":\"6578\",\"type\":\"Selection\"},{\"attributes\":{},\"id\":\"6579\",\"type\":\"UnionRenderers\"},{\"attributes\":{},\"id\":\"6532\",\"type\":\"WheelZoomTool\"},{\"attributes\":{\"plot\":null,\"text\":\"\"},\"id\":\"6562\",\"type\":\"Title\"},{\"attributes\":{\"formatter\":{\"id\":\"6576\",\"type\":\"BasicTickFormatter\"},\"plot\":{\"id\":\"6514\",\"subtype\":\"Figure\",\"type\":\"Plot\"},\"ticker\":{\"id\":\"6527\",\"type\":\"BasicTicker\"}},\"id\":\"6526\",\"type\":\"LinearAxis\"},{\"attributes\":{\"tools\":[{\"id\":\"6457\",\"type\":\"PanTool\"},{\"id\":\"6458\",\"type\":\"WheelZoomTool\"},{\"id\":\"6459\",\"type\":\"BoxZoomTool\"},{\"id\":\"6460\",\"type\":\"SaveTool\"},{\"id\":\"6461\",\"type\":\"ResetTool\"},{\"id\":\"6462\",\"type\":\"HelpTool\"},{\"id\":\"6494\",\"type\":\"PanTool\"},{\"id\":\"6495\",\"type\":\"WheelZoomTool\"},{\"id\":\"6496\",\"type\":\"BoxZoomTool\"},{\"id\":\"6497\",\"type\":\"SaveTool\"},{\"id\":\"6498\",\"type\":\"ResetTool\"},{\"id\":\"6499\",\"type\":\"HelpTool\"},{\"id\":\"6531\",\"type\":\"PanTool\"},{\"id\":\"6532\",\"type\":\"WheelZoomTool\"},{\"id\":\"6533\",\"type\":\"BoxZoomTool\"},{\"id\":\"6534\",\"type\":\"SaveTool\"},{\"id\":\"6535\",\"type\":\"ResetTool\"},{\"id\":\"6536\",\"type\":\"HelpTool\"}]},\"id\":\"6583\",\"type\":\"ProxyToolbar\"},{\"attributes\":{},\"id\":\"6566\",\"type\":\"BasicTickFormatter\"},{\"attributes\":{},\"id\":\"6559\",\"type\":\"UnionRenderers\"},{\"attributes\":{\"toolbar\":{\"id\":\"6583\",\"type\":\"ProxyToolbar\"},\"toolbar_location\":\"above\"},\"id\":\"6584\",\"type\":\"ToolbarBox\"},{\"attributes\":{\"bottom_units\":\"screen\",\"fill_alpha\":{\"value\":0.5},\"fill_color\":{\"value\":\"lightgrey\"},\"left_units\":\"screen\",\"level\":\"overlay\",\"line_alpha\":{\"value\":1.0},\"line_color\":{\"value\":\"black\"},\"line_dash\":[4,4],\"line_width\":{\"value\":2},\"plot\":null,\"render_mode\":\"css\",\"right_units\":\"screen\",\"top_units\":\"screen\"},\"id\":\"6502\",\"type\":\"BoxAnnotation\"},{\"attributes\":{\"source\":{\"id\":\"6546\",\"type\":\"ColumnDataSource\"}},\"id\":\"6550\",\"type\":\"CDSView\"},{\"attributes\":{\"data_source\":{\"id\":\"6509\",\"type\":\"ColumnDataSource\"},\"glyph\":{\"id\":\"6510\",\"type\":\"Diamond\"},\"hover_glyph\":null,\"muted_glyph\":null,\"nonselection_glyph\":{\"id\":\"6511\",\"type\":\"Diamond\"},\"selection_glyph\":null,\"view\":{\"id\":\"6513\",\"type\":\"CDSView\"}},\"id\":\"6512\",\"type\":\"GlyphRenderer\"},{\"attributes\":{\"bottom_units\":\"screen\",\"fill_alpha\":{\"value\":0.5},\"fill_color\":{\"value\":\"lightgrey\"},\"left_units\":\"screen\",\"level\":\"overlay\",\"line_alpha\":{\"value\":1.0},\"line_color\":{\"value\":\"black\"},\"line_dash\":[4,4],\"line_width\":{\"value\":2},\"plot\":null,\"render_mode\":\"css\",\"right_units\":\"screen\",\"top_units\":\"screen\"},\"id\":\"6539\",\"type\":\"BoxAnnotation\"},{\"attributes\":{},\"id\":\"6517\",\"type\":\"LinearScale\"},{\"attributes\":{},\"id\":\"6531\",\"type\":\"PanTool\"},{\"attributes\":{},\"id\":\"6564\",\"type\":\"BasicTickFormatter\"},{\"attributes\":{\"source\":{\"id\":\"6509\",\"type\":\"ColumnDataSource\"}},\"id\":\"6513\",\"type\":\"CDSView\"},{\"attributes\":{},\"id\":\"6519\",\"type\":\"LinearScale\"},{\"attributes\":{\"data_source\":{\"id\":\"6546\",\"type\":\"ColumnDataSource\"},\"glyph\":{\"id\":\"6547\",\"type\":\"Square\"},\"hover_glyph\":null,\"muted_glyph\":null,\"nonselection_glyph\":{\"id\":\"6548\",\"type\":\"Square\"},\"selection_glyph\":null,\"view\":{\"id\":\"6550\",\"type\":\"CDSView\"}},\"id\":\"6549\",\"type\":\"GlyphRenderer\"},{\"attributes\":{},\"id\":\"6568\",\"type\":\"Selection\"},{\"attributes\":{\"fill_alpha\":{\"value\":0.1},\"fill_color\":{\"value\":\"#1f77b4\"},\"line_alpha\":{\"value\":0.1},\"line_color\":{\"value\":\"#1f77b4\"},\"size\":{\"units\":\"screen\",\"value\":12},\"x\":{\"field\":\"x\"},\"y\":{\"field\":\"y\"}},\"id\":\"6548\",\"type\":\"Square\"},{\"attributes\":{\"plot\":{\"id\":\"6514\",\"subtype\":\"Figure\",\"type\":\"Plot\"},\"ticker\":{\"id\":\"6522\",\"type\":\"BasicTicker\"}},\"id\":\"6525\",\"type\":\"Grid\"},{\"attributes\":{},\"id\":\"6556\",\"type\":\"BasicTickFormatter\"},{\"attributes\":{\"plot\":null,\"text\":\"\"},\"id\":\"6552\",\"type\":\"Title\"},{\"attributes\":{},\"id\":\"6522\",\"type\":\"BasicTicker\"},{\"attributes\":{\"children\":[{\"id\":\"6581\",\"type\":\"Row\"}]},\"id\":\"6582\",\"type\":\"Column\"},{\"attributes\":{\"active_drag\":\"auto\",\"active_inspect\":\"auto\",\"active_multi\":null,\"active_scroll\":\"auto\",\"active_tap\":\"auto\",\"tools\":[{\"id\":\"6531\",\"type\":\"PanTool\"},{\"id\":\"6532\",\"type\":\"WheelZoomTool\"},{\"id\":\"6533\",\"type\":\"BoxZoomTool\"},{\"id\":\"6534\",\"type\":\"SaveTool\"},{\"id\":\"6535\",\"type\":\"ResetTool\"},{\"id\":\"6536\",\"type\":\"HelpTool\"}]},\"id\":\"6537\",\"type\":\"Toolbar\"},{\"attributes\":{},\"id\":\"6558\",\"type\":\"Selection\"},{\"attributes\":{},\"id\":\"6569\",\"type\":\"UnionRenderers\"},{\"attributes\":{\"plot\":null,\"text\":\"\"},\"id\":\"6572\",\"type\":\"Title\"},{\"attributes\":{\"children\":[{\"id\":\"6438\",\"subtype\":\"Figure\",\"type\":\"Plot\"},{\"id\":\"6477\",\"subtype\":\"Figure\",\"type\":\"Plot\"},{\"id\":\"6514\",\"subtype\":\"Figure\",\"type\":\"Plot\"}]},\"id\":\"6581\",\"type\":\"Row\"},{\"attributes\":{\"active_drag\":\"auto\",\"active_inspect\":\"auto\",\"active_multi\":null,\"active_scroll\":\"auto\",\"active_tap\":\"auto\",\"tools\":[{\"id\":\"6494\",\"type\":\"PanTool\"},{\"id\":\"6495\",\"type\":\"WheelZoomTool\"},{\"id\":\"6496\",\"type\":\"BoxZoomTool\"},{\"id\":\"6497\",\"type\":\"SaveTool\"},{\"id\":\"6498\",\"type\":\"ResetTool\"},{\"id\":\"6499\",\"type\":\"HelpTool\"}]},\"id\":\"6500\",\"type\":\"Toolbar\"},{\"attributes\":{\"fill_alpha\":{\"value\":0.9},\"fill_color\":{\"value\":\"violet\"},\"line_alpha\":{\"value\":0.9},\"line_color\":{\"value\":\"violet\"},\"size\":{\"units\":\"screen\",\"value\":12},\"x\":{\"field\":\"x\"},\"y\":{\"field\":\"y\"}},\"id\":\"6547\",\"type\":\"Square\"},{\"attributes\":{},\"id\":\"6498\",\"type\":\"ResetTool\"},{\"attributes\":{\"formatter\":{\"id\":\"6574\",\"type\":\"BasicTickFormatter\"},\"plot\":{\"id\":\"6514\",\"subtype\":\"Figure\",\"type\":\"Plot\"},\"ticker\":{\"id\":\"6522\",\"type\":\"BasicTicker\"}},\"id\":\"6521\",\"type\":\"LinearAxis\"},{\"attributes\":{},\"id\":\"6497\",\"type\":\"SaveTool\"},{\"attributes\":{},\"id\":\"6554\",\"type\":\"BasicTickFormatter\"},{\"attributes\":{},\"id\":\"6499\",\"type\":\"HelpTool\"}],\"root_ids\":[\"6585\"]},\"title\":\"Bokeh Application\",\"version\":\"1.0.4\"}};\n",
       "  var render_items = [{\"docid\":\"6a07c77f-2f4d-4e7f-955b-c8b36824e0a2\",\"roots\":{\"6585\":\"9356d890-b63d-4178-8756-c085457ed6ee\"}}];\n",
       "  root.Bokeh.embed.embed_items_notebook(docs_json, render_items);\n",
       "\n",
       "  }\n",
       "  if (root.Bokeh !== undefined) {\n",
       "    embed_document(root);\n",
       "  } else {\n",
       "    var attempts = 0;\n",
       "    var timer = setInterval(function(root) {\n",
       "      if (root.Bokeh !== undefined) {\n",
       "        embed_document(root);\n",
       "        clearInterval(timer);\n",
       "      }\n",
       "      attempts++;\n",
       "      if (attempts > 100) {\n",
       "        console.log(\"Bokeh: ERROR: Unable to run BokehJS code because BokehJS library is missing\");\n",
       "        clearInterval(timer);\n",
       "      }\n",
       "    }, 10, root)\n",
       "  }\n",
       "})(window);"
      ],
      "application/vnd.bokehjs_exec.v0+json": ""
     },
     "metadata": {
      "application/vnd.bokehjs_exec.v0+json": {
       "id": "6585"
      }
     },
     "output_type": "display_data"
    }
   ],
   "source": [
    "p1 = figure(plot_width = 250, plot_height = 250)\n",
    "p1.circle(x,a,size=12,color='green',alpha=0.3)\n",
    "\n",
    "p2 = figure(x_range=p1.x_range,y_range=p1.y_range,plot_width = 250, plot_height = 250)\n",
    "p2.diamond(x,b,size=12,color='red',alpha=0.6)\n",
    "\n",
    "p3 = figure(x_range=p1.x_range,y_range=p1.y_range,plot_width = 250, plot_height = 250)\n",
    "p3.square(x,c,size=12,color='violet',alpha=0.9)\n",
    "\n",
    "p = gridplot([[p1,p2,p3]])\n",
    "\n",
    "show(p)"
   ]
  },
  {
   "cell_type": "code",
   "execution_count": null,
   "metadata": {},
   "outputs": [],
   "source": []
  }
 ],
 "metadata": {
  "kernelspec": {
   "display_name": "Python 3",
   "language": "python",
   "name": "python3"
  },
  "language_info": {
   "codemirror_mode": {
    "name": "ipython",
    "version": 3
   },
   "file_extension": ".py",
   "mimetype": "text/x-python",
   "name": "python",
   "nbconvert_exporter": "python",
   "pygments_lexer": "ipython3",
   "version": "3.7.3"
  }
 },
 "nbformat": 4,
 "nbformat_minor": 2
}
