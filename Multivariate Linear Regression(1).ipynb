{
 "cells": [
  {
   "cell_type": "code",
   "execution_count": 1,
   "metadata": {},
   "outputs": [],
   "source": [
    "import numpy as np\n",
    "import pandas as pd\n",
    "import matplotlib.pyplot as plt"
   ]
  },
  {
   "cell_type": "code",
   "execution_count": 3,
   "metadata": {},
   "outputs": [],
   "source": [
    "data = np.loadtxt('data2.txt', delimiter=',')\n",
    "X_train = data[:,[0,1]] #feature set\n",
    "y_train = data[:,2] #label set"
   ]
  },
  {
   "cell_type": "code",
   "execution_count": 4,
   "metadata": {},
   "outputs": [
    {
     "data": {
      "text/plain": [
       "array([[2.10400e+03, 3.00000e+00, 3.99900e+05],\n",
       "       [1.60000e+03, 3.00000e+00, 3.29900e+05],\n",
       "       [2.40000e+03, 3.00000e+00, 3.69000e+05],\n",
       "       [1.41600e+03, 2.00000e+00, 2.32000e+05],\n",
       "       [3.00000e+03, 4.00000e+00, 5.39900e+05],\n",
       "       [1.98500e+03, 4.00000e+00, 2.99900e+05],\n",
       "       [1.53400e+03, 3.00000e+00, 3.14900e+05],\n",
       "       [1.42700e+03, 3.00000e+00, 1.98999e+05],\n",
       "       [1.38000e+03, 3.00000e+00, 2.12000e+05],\n",
       "       [1.49400e+03, 3.00000e+00, 2.42500e+05],\n",
       "       [1.94000e+03, 4.00000e+00, 2.39999e+05],\n",
       "       [2.00000e+03, 3.00000e+00, 3.47000e+05],\n",
       "       [1.89000e+03, 3.00000e+00, 3.29999e+05],\n",
       "       [4.47800e+03, 5.00000e+00, 6.99900e+05],\n",
       "       [1.26800e+03, 3.00000e+00, 2.59900e+05],\n",
       "       [2.30000e+03, 4.00000e+00, 4.49900e+05],\n",
       "       [1.32000e+03, 2.00000e+00, 2.99900e+05],\n",
       "       [1.23600e+03, 3.00000e+00, 1.99900e+05],\n",
       "       [2.60900e+03, 4.00000e+00, 4.99998e+05],\n",
       "       [3.03100e+03, 4.00000e+00, 5.99000e+05],\n",
       "       [1.76700e+03, 3.00000e+00, 2.52900e+05],\n",
       "       [1.88800e+03, 2.00000e+00, 2.55000e+05],\n",
       "       [1.60400e+03, 3.00000e+00, 2.42900e+05],\n",
       "       [1.96200e+03, 4.00000e+00, 2.59900e+05],\n",
       "       [3.89000e+03, 3.00000e+00, 5.73900e+05],\n",
       "       [1.10000e+03, 3.00000e+00, 2.49900e+05],\n",
       "       [1.45800e+03, 3.00000e+00, 4.64500e+05],\n",
       "       [2.52600e+03, 3.00000e+00, 4.69000e+05],\n",
       "       [2.20000e+03, 3.00000e+00, 4.75000e+05],\n",
       "       [2.63700e+03, 3.00000e+00, 2.99900e+05],\n",
       "       [1.83900e+03, 2.00000e+00, 3.49900e+05],\n",
       "       [1.00000e+03, 1.00000e+00, 1.69900e+05],\n",
       "       [2.04000e+03, 4.00000e+00, 3.14900e+05],\n",
       "       [3.13700e+03, 3.00000e+00, 5.79900e+05],\n",
       "       [1.81100e+03, 4.00000e+00, 2.85900e+05],\n",
       "       [1.43700e+03, 3.00000e+00, 2.49900e+05],\n",
       "       [1.23900e+03, 3.00000e+00, 2.29900e+05],\n",
       "       [2.13200e+03, 4.00000e+00, 3.45000e+05],\n",
       "       [4.21500e+03, 4.00000e+00, 5.49000e+05],\n",
       "       [2.16200e+03, 4.00000e+00, 2.87000e+05],\n",
       "       [1.66400e+03, 2.00000e+00, 3.68500e+05],\n",
       "       [2.23800e+03, 3.00000e+00, 3.29900e+05],\n",
       "       [2.56700e+03, 4.00000e+00, 3.14000e+05],\n",
       "       [1.20000e+03, 3.00000e+00, 2.99000e+05],\n",
       "       [8.52000e+02, 2.00000e+00, 1.79900e+05],\n",
       "       [1.85200e+03, 4.00000e+00, 2.99900e+05],\n",
       "       [1.20300e+03, 3.00000e+00, 2.39500e+05]])"
      ]
     },
     "execution_count": 4,
     "metadata": {},
     "output_type": "execute_result"
    }
   ],
   "source": [
    "data"
   ]
  },
  {
   "cell_type": "code",
   "execution_count": 5,
   "metadata": {},
   "outputs": [
    {
     "data": {
      "text/plain": [
       "(47, 3)"
      ]
     },
     "execution_count": 5,
     "metadata": {},
     "output_type": "execute_result"
    }
   ],
   "source": [
    "data.shape"
   ]
  },
  {
   "cell_type": "code",
   "execution_count": 6,
   "metadata": {},
   "outputs": [],
   "source": [
    "#Hypothesis\n",
    "def hypothesis(theta, X, n):\n",
    "    h = np.ones((X.shape[0],1))\n",
    "    theta = theta.reshape(1,n+1)\n",
    "    for i in range(0,X.shape[0]):\n",
    "        h[i] = float(np.matmul(theta, X[i]))\n",
    "    h = h.reshape(X.shape[0])\n",
    "    return h"
   ]
  },
  {
   "cell_type": "code",
   "execution_count": 7,
   "metadata": {},
   "outputs": [],
   "source": [
    "#Gradient Descent\n",
    "def BGD(theta, alpha, num_iters, h, X, y, n):\n",
    "    cost = np.ones(num_iters)\n",
    "    for i in range(0,num_iters):\n",
    "        theta[0] = theta[0] - (alpha/X.shape[0]) * sum(h - y)\n",
    "        for j in range(1,n+1):\n",
    "            theta[j] = theta[j] - (alpha/X.shape[0]) *sum((h-y) * X.transpose()[j])\n",
    "        h = hypothesis(theta, X, n)\n",
    "        cost[i] = (1/X.shape[0]) * 0.5 * sum(np.square(h - y))\n",
    "    theta = theta.reshape(1,n+1)\n",
    "    return theta, cost"
   ]
  },
  {
   "cell_type": "code",
   "execution_count": 8,
   "metadata": {},
   "outputs": [],
   "source": [
    "def linear_regression(X, y, alpha, num_iters):\n",
    "    n = X.shape[1]\n",
    "    one_column = np.ones((X.shape[0],1))\n",
    "    X = np.concatenate((one_column, X), axis = 1)\n",
    "    # initializing the parameter vector...\n",
    "    theta = np.zeros(n+1)\n",
    "    # hypothesis calculation....\n",
    "    h = hypothesis(theta, X, n)\n",
    "    # returning the optimized parameters by Gradient Descent...\n",
    "    theta, cost = BGD(theta,alpha,num_iters,h,X,y,n)\n",
    "    return theta, cost"
   ]
  },
  {
   "cell_type": "code",
   "execution_count": 9,
   "metadata": {},
   "outputs": [],
   "source": [
    "#Feature Scaling\n",
    "mean = np.ones(X_train.shape[1])\n",
    "std = np.ones(X_train.shape[1])\n",
    "for i in range(0, X_train.shape[1]):\n",
    "    mean[i] = np.mean(X_train.transpose()[i])\n",
    "    std[i] = np.std(X_train.transpose()[i])\n",
    "    for j in range(0, X_train.shape[0]):\n",
    "        X_train[j][i] = (X_train[j][i] - mean[i])/std[i]"
   ]
  },
  {
   "cell_type": "code",
   "execution_count": 10,
   "metadata": {},
   "outputs": [
    {
     "data": {
      "text/plain": [
       "array([2000.68085106,    3.17021277])"
      ]
     },
     "execution_count": 10,
     "metadata": {},
     "output_type": "execute_result"
    }
   ],
   "source": [
    "mean"
   ]
  },
  {
   "cell_type": "code",
   "execution_count": 11,
   "metadata": {},
   "outputs": [
    {
     "data": {
      "text/plain": [
       "array([7.86202619e+02, 7.52842809e-01])"
      ]
     },
     "execution_count": 11,
     "metadata": {},
     "output_type": "execute_result"
    }
   ],
   "source": [
    "std"
   ]
  },
  {
   "cell_type": "code",
   "execution_count": 12,
   "metadata": {},
   "outputs": [],
   "source": [
    "theta, cost = linear_regression(X_train, y_train,0.0001, 300000)"
   ]
  },
  {
   "cell_type": "code",
   "execution_count": 13,
   "metadata": {},
   "outputs": [
    {
     "data": {
      "text/plain": [
       "array([[340412.65957418, 109447.6892473 ,  -6578.24763182]])"
      ]
     },
     "execution_count": 13,
     "metadata": {},
     "output_type": "execute_result"
    }
   ],
   "source": [
    "theta"
   ]
  },
  {
   "cell_type": "code",
   "execution_count": 14,
   "metadata": {},
   "outputs": [
    {
     "data": {
      "text/plain": [
       "Text(0, 0.5, 'Cost')"
      ]
     },
     "execution_count": 14,
     "metadata": {},
     "output_type": "execute_result"
    },
    {
     "data": {
      "image/png": "[encoded data removed]",
      "text/plain": [
       "<Figure size 432x288 with 1 Axes>"
      ]
     },
     "metadata": {
      "needs_background": "light"
     },
     "output_type": "display_data"
    }
   ],
   "source": [
    "#Cost\n",
    "import matplotlib.pyplot as plt\n",
    "cost = list(cost)\n",
    "n_iterations = [x for x in range(1,300001)]\n",
    "plt.plot(n_iterations, cost)\n",
    "plt.xlabel('No. of iterations')\n",
    "plt.ylabel('Cost')"
   ]
  },
  {
   "cell_type": "code",
   "execution_count": null,
   "metadata": {},
   "outputs": [],
   "source": []
  }
 ],
 "metadata": {
  "kernelspec": {
   "display_name": "Python 3",
   "language": "python",
   "name": "python3"
  },
  "language_info": {
   "codemirror_mode": {
    "name": "ipython",
    "version": 3
   },
   "file_extension": ".py",
   "mimetype": "text/x-python",
   "name": "python",
   "nbconvert_exporter": "python",
   "pygments_lexer": "ipython3",
   "version": "3.7.3"
  }
 },
 "nbformat": 4,
 "nbformat_minor": 2
}
